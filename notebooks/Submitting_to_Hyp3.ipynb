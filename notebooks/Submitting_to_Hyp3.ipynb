{
 "cells": [
  {
   "cell_type": "markdown",
   "id": "2c84254e",
   "metadata": {},
   "source": [
    "Frame enumuration and submission to Hyp3 with Tropo, Iono, SET corrections."
   ]
  },
  {
   "cell_type": "code",
   "execution_count": 1,
   "id": "0bd2d25a",
   "metadata": {
    "ExecuteTime": {
     "end_time": "2023-03-08T20:18:21.116569Z",
     "start_time": "2023-03-08T20:18:21.088570Z"
    }
   },
   "outputs": [],
   "source": [
    "%load_ext autoreload\n",
    "%autoreload 2"
   ]
  },
  {
   "cell_type": "code",
   "execution_count": 2,
   "id": "756918c1",
   "metadata": {
    "ExecuteTime": {
     "end_time": "2023-03-08T20:18:22.691511Z",
     "start_time": "2023-03-08T20:18:21.118562Z"
    }
   },
   "outputs": [],
   "source": [
    "from s1_frame_enumerator import (get_s1_stack, \n",
    "                                 filter_s1_stack_by_geometric_coverage_per_pass, \n",
    "                                 get_global_s1_frames, \n",
    "                                 get_overlapping_s1_frames, \n",
    "                                 enumerate_dates, \n",
    "                                 frames2gdf, \n",
    "                                 enumerate_gunw_time_series)\n",
    "from shapely.geometry import Point\n",
    "import geopandas as gpd\n",
    "from rasterio.crs import CRS\n",
    "import matplotlib.pyplot as plt\n",
    "import warnings\n",
    "import json\n",
    "import pandas as pd\n",
    "import datetime"
   ]
  },
  {
   "cell_type": "code",
   "execution_count": 3,
   "id": "777b4285",
   "metadata": {
    "ExecuteTime": {
     "end_time": "2023-03-08T20:18:22.728196Z",
     "start_time": "2023-03-08T20:18:22.693162Z"
    }
   },
   "outputs": [],
   "source": [
    "AOI_NAME = 'Los Angeles' #'Los Angeles' # 'Hawaii'\n",
    "WEATHER_MODEL = 'ERA5'"
   ]
  },
  {
   "cell_type": "code",
   "execution_count": 4,
   "id": "85adc965",
   "metadata": {
    "ExecuteTime": {
     "end_time": "2023-03-08T20:18:22.766300Z",
     "start_time": "2023-03-08T20:18:22.730761Z"
    }
   },
   "outputs": [],
   "source": [
    "if WEATHER_MODEL == 'HRRR':\n",
    "    assert AOI_NAME in ['Los Angeles']"
   ]
  },
  {
   "cell_type": "code",
   "execution_count": 5,
   "id": "1687232a",
   "metadata": {
    "ExecuteTime": {
     "end_time": "2023-03-08T20:18:22.803525Z",
     "start_time": "2023-03-08T20:18:22.767972Z"
    }
   },
   "outputs": [],
   "source": [
    "GEO_DICT = {'Los Angeles':  Point(-118, 34).buffer(1),\n",
    "            'Hawaii': Point(-155.5, 19.5).buffer(1),\n",
    "            'Somalia': Point(41, 1.5).buffer(1),\n",
    "            'Tibet': Point(92, 41.5).buffer(1)\n",
    "            }\n",
    "\n",
    "TRACK_DICT = {'Los Angeles': [64],\n",
    "              'Hawaii': [124],\n",
    "              'Somalia': [87],\n",
    "              'Tibet': [48]\n",
    "              }"
   ]
  },
  {
   "cell_type": "code",
   "execution_count": 6,
   "id": "587c8c37",
   "metadata": {
    "ExecuteTime": {
     "end_time": "2023-03-08T20:18:22.843381Z",
     "start_time": "2023-03-08T20:18:22.805182Z"
    }
   },
   "outputs": [],
   "source": [
    "aoi_geo = GEO_DICT[AOI_NAME]\n",
    "track_numbers = TRACK_DICT[AOI_NAME]\n",
    "\n",
    "df_aoi = gpd.GeoDataFrame(geometry=[aoi_geo], crs=CRS.from_epsg(4326))"
   ]
  },
  {
   "cell_type": "code",
   "execution_count": 7,
   "id": "f3634314",
   "metadata": {
    "ExecuteTime": {
     "end_time": "2023-03-08T20:18:26.633040Z",
     "start_time": "2023-03-08T20:18:22.845177Z"
    }
   },
   "outputs": [
    {
     "data": {
      "text/html": [
       "<div>\n",
       "<style scoped>\n",
       "    .dataframe tbody tr th:only-of-type {\n",
       "        vertical-align: middle;\n",
       "    }\n",
       "\n",
       "    .dataframe tbody tr th {\n",
       "        vertical-align: top;\n",
       "    }\n",
       "\n",
       "    .dataframe thead th {\n",
       "        text-align: right;\n",
       "    }\n",
       "</style>\n",
       "<table border=\"1\" class=\"dataframe\">\n",
       "  <thead>\n",
       "    <tr style=\"text-align: right;\">\n",
       "      <th></th>\n",
       "      <th>frame_id</th>\n",
       "      <th>track_number_min</th>\n",
       "      <th>track_number_max</th>\n",
       "      <th>geometry</th>\n",
       "    </tr>\n",
       "  </thead>\n",
       "  <tbody>\n",
       "    <tr>\n",
       "      <th>0</th>\n",
       "      <td>9847</td>\n",
       "      <td>64</td>\n",
       "      <td>64</td>\n",
       "      <td>POLYGON Z ((-118.47827 32.36110 0.00000, -118....</td>\n",
       "    </tr>\n",
       "    <tr>\n",
       "      <th>1</th>\n",
       "      <td>9848</td>\n",
       "      <td>64</td>\n",
       "      <td>64</td>\n",
       "      <td>POLYGON Z ((-118.74228 33.52202 0.00000, -118....</td>\n",
       "    </tr>\n",
       "    <tr>\n",
       "      <th>2</th>\n",
       "      <td>9849</td>\n",
       "      <td>64</td>\n",
       "      <td>64</td>\n",
       "      <td>POLYGON Z ((-119.01018 34.68551 0.00000, -119....</td>\n",
       "    </tr>\n",
       "  </tbody>\n",
       "</table>\n",
       "</div>"
      ],
      "text/plain": [
       "   frame_id  track_number_min  track_number_max  \\\n",
       "0      9847                64                64   \n",
       "1      9848                64                64   \n",
       "2      9849                64                64   \n",
       "\n",
       "                                            geometry  \n",
       "0  POLYGON Z ((-118.47827 32.36110 0.00000, -118....  \n",
       "1  POLYGON Z ((-118.74228 33.52202 0.00000, -118....  \n",
       "2  POLYGON Z ((-119.01018 34.68551 0.00000, -119....  "
      ]
     },
     "execution_count": 7,
     "metadata": {},
     "output_type": "execute_result"
    }
   ],
   "source": [
    "frames = get_overlapping_s1_frames(aoi_geo, track_numbers=track_numbers)\n",
    "df_frames_all = frames2gdf(frames)\n",
    "df_frames_all.head()"
   ]
  },
  {
   "cell_type": "code",
   "execution_count": 8,
   "id": "ba8524af",
   "metadata": {
    "ExecuteTime": {
     "end_time": "2023-03-08T20:18:26.990009Z",
     "start_time": "2023-03-08T20:18:26.634778Z"
    }
   },
   "outputs": [
    {
     "data": {
      "text/plain": [
       "(31.21359933194077, 36.70334208606267)"
      ]
     },
     "execution_count": 8,
     "metadata": {},
     "output_type": "execute_result"
    },
    {
     "data": {
      "image/png": "[encoded data removed]",
      "text/plain": [
       "<Figure size 640x480 with 1 Axes>"
      ]
     },
     "metadata": {},
     "output_type": "display_data"
    }
   ],
   "source": [
    "fig, ax = plt.subplots()\n",
    "df_world = gpd.read_file(gpd.datasets.get_path('naturalearth_lowres'))\n",
    "df_world.boundary.plot(ax=ax)\n",
    "df_frames_by_track = df_frames_all.dissolve(by='track_number_min').reset_index(drop=False)\n",
    "df_frames_by_track.plot(ax=ax, \n",
    "                        column='track_number_min',\n",
    "                        categorical=True,\n",
    "                        alpha=.25, \n",
    "                        legend=True)\n",
    "df_aoi.boundary.plot(ax=ax, edgecolor='black')\n",
    "xmin, ymin, xmax, ymax = df_frames_by_track.total_bounds\n",
    "ax.set_xlim(xmin - 1, xmax + 1)\n",
    "ax.set_ylim(ymin - 1, ymax + 1)"
   ]
  },
  {
   "cell_type": "code",
   "execution_count": 9,
   "id": "5b3e3fe3",
   "metadata": {
    "ExecuteTime": {
     "end_time": "2023-03-08T20:18:27.445981Z",
     "start_time": "2023-03-08T20:18:26.991707Z"
    }
   },
   "outputs": [
    {
     "data": {
      "text/plain": [
       "(31.21359933194077, 36.70334208606267)"
      ]
     },
     "execution_count": 9,
     "metadata": {},
     "output_type": "execute_result"
    },
    {
     "data": {
      "image/png": "[encoded data removed]",
      "text/plain": [
       "<Figure size 1000x1000 with 1 Axes>"
      ]
     },
     "metadata": {},
     "output_type": "display_data"
    }
   ],
   "source": [
    "fig, ax = plt.subplots(figsize=(10, 10))\n",
    "df_world = gpd.read_file(gpd.datasets.get_path('naturalearth_lowres'))\n",
    "df_world.boundary.plot(ax=ax)\n",
    "df_frames_all.plot(ax=ax, \n",
    "                   column='frame_id', \n",
    "                   alpha=.25,\n",
    "                   categorical=True,\n",
    "                   legend=True)\n",
    "df_aoi.boundary.plot(ax=ax, edgecolor='black')\n",
    "\n",
    "xmin, ymin, xmax, ymax = df_frames_by_track.total_bounds\n",
    "ax.set_xlim(xmin - 1, xmax + 1)\n",
    "ax.set_ylim(ymin - 1, ymax + 1)"
   ]
  },
  {
   "cell_type": "markdown",
   "id": "425464a2",
   "metadata": {},
   "source": [
    "# Get Stack from Frame\n",
    "\n",
    "Here a stack is a list of images with metadata and extents. We note the stack here is not arbitrarily constructed and at some point might be nice to create a simple class to encapsulate it. However, here a stack is one that can be organized to do interferometry over the frames.\n",
    "\n",
    "1. Per frame coverage $\\geq 99$% as it pertains to the frame's coverage geometry\n",
    "2. Contiguous coverage through frames (determined as Polygon object)\n",
    "\n",
    "Requires:\n",
    "\n",
    "1. Frames to be contiguous (otherwise 2. does not make sense)\n",
    "2. Requires single track or two sequential tracks (we only check if the track numbers are sequential)"
   ]
  },
  {
   "cell_type": "code",
   "execution_count": 10,
   "id": "5704f85b",
   "metadata": {
    "ExecuteTime": {
     "end_time": "2023-03-08T20:18:59.096936Z",
     "start_time": "2023-03-08T20:18:27.449793Z"
    }
   },
   "outputs": [
    {
     "name": "stderr",
     "output_type": "stream",
     "text": [
      "Downloading stack from 3 frame geometries: 10\n"
     ]
    },
    {
     "data": {
      "text/html": [
       "<div>\n",
       "<style scoped>\n",
       "    .dataframe tbody tr th:only-of-type {\n",
       "        vertical-align: middle;\n",
       "    }\n",
       "\n",
       "    .dataframe tbody tr th {\n",
       "        vertical-align: top;\n",
       "    }\n",
       "\n",
       "    .dataframe thead th {\n",
       "        text-align: right;\n",
       "    }\n",
       "</style>\n",
       "<table border=\"1\" class=\"dataframe\">\n",
       "  <thead>\n",
       "    <tr style=\"text-align: right;\">\n",
       "      <th></th>\n",
       "      <th>slc_id</th>\n",
       "      <th>start_time</th>\n",
       "      <th>stop_time</th>\n",
       "      <th>url</th>\n",
       "      <th>track_number</th>\n",
       "      <th>polarization</th>\n",
       "      <th>orbit</th>\n",
       "      <th>beam_mode</th>\n",
       "      <th>size_gb</th>\n",
       "      <th>stack_repeat_pass_id</th>\n",
       "      <th>repeat_pass_date</th>\n",
       "      <th>geometry</th>\n",
       "    </tr>\n",
       "  </thead>\n",
       "  <tbody>\n",
       "    <tr>\n",
       "      <th>0</th>\n",
       "      <td>S1A_IW_SLC__1SDV_20150607T014908_20150607T0149...</td>\n",
       "      <td>2015-06-07 01:49:08+00:00</td>\n",
       "      <td>2015-06-07 01:49:38+00:00</td>\n",
       "      <td>https://datapool.asf.alaska.edu/SLC/SA/S1A_IW_...</td>\n",
       "      <td>64</td>\n",
       "      <td>VV+VH</td>\n",
       "      <td>6261</td>\n",
       "      <td>IW</td>\n",
       "      <td>4.736034</td>\n",
       "      <td>9</td>\n",
       "      <td>2015-06-07</td>\n",
       "      <td>POLYGON ((-118.54359 32.65181, -118.13470 30.8...</td>\n",
       "    </tr>\n",
       "    <tr>\n",
       "      <th>1</th>\n",
       "      <td>S1A_IW_SLC__1SDV_20150607T014936_20150607T0150...</td>\n",
       "      <td>2015-06-07 01:49:36+00:00</td>\n",
       "      <td>2015-06-07 01:50:03+00:00</td>\n",
       "      <td>https://datapool.asf.alaska.edu/SLC/SA/S1A_IW_...</td>\n",
       "      <td>64</td>\n",
       "      <td>VV+VH</td>\n",
       "      <td>6261</td>\n",
       "      <td>IW</td>\n",
       "      <td>4.493707</td>\n",
       "      <td>9</td>\n",
       "      <td>2015-06-07</td>\n",
       "      <td>POLYGON ((-118.88850 34.14800, -118.51099 32.5...</td>\n",
       "    </tr>\n",
       "    <tr>\n",
       "      <th>2</th>\n",
       "      <td>S1A_IW_SLC__1SDV_20150607T015000_20150607T0150...</td>\n",
       "      <td>2015-06-07 01:50:00+00:00</td>\n",
       "      <td>2015-06-07 01:50:27+00:00</td>\n",
       "      <td>https://datapool.asf.alaska.edu/SLC/SA/S1A_IW_...</td>\n",
       "      <td>64</td>\n",
       "      <td>VV+VH</td>\n",
       "      <td>6261</td>\n",
       "      <td>IW</td>\n",
       "      <td>4.453831</td>\n",
       "      <td>9</td>\n",
       "      <td>2015-06-07</td>\n",
       "      <td>POLYGON ((-119.22372 35.64538, -118.84004 34.0...</td>\n",
       "    </tr>\n",
       "    <tr>\n",
       "      <th>3</th>\n",
       "      <td>S1A_IW_SLC__1SSV_20150619T014909_20150619T0149...</td>\n",
       "      <td>2015-06-19 01:49:09+00:00</td>\n",
       "      <td>2015-06-19 01:49:38+00:00</td>\n",
       "      <td>https://datapool.asf.alaska.edu/SLC/SA/S1A_IW_...</td>\n",
       "      <td>64</td>\n",
       "      <td>VV</td>\n",
       "      <td>6436</td>\n",
       "      <td>IW</td>\n",
       "      <td>2.621702</td>\n",
       "      <td>10</td>\n",
       "      <td>2015-06-19</td>\n",
       "      <td>POLYGON ((-118.54291 32.65313, -118.13389 30.8...</td>\n",
       "    </tr>\n",
       "    <tr>\n",
       "      <th>4</th>\n",
       "      <td>S1A_IW_SLC__1SSV_20150619T014936_20150619T0150...</td>\n",
       "      <td>2015-06-19 01:49:36+00:00</td>\n",
       "      <td>2015-06-19 01:50:03+00:00</td>\n",
       "      <td>https://datapool.asf.alaska.edu/SLC/SA/S1A_IW_...</td>\n",
       "      <td>64</td>\n",
       "      <td>VV</td>\n",
       "      <td>6436</td>\n",
       "      <td>IW</td>\n",
       "      <td>2.429225</td>\n",
       "      <td>10</td>\n",
       "      <td>2015-06-19</td>\n",
       "      <td>POLYGON ((-118.88759 34.14845, -118.51009 32.5...</td>\n",
       "    </tr>\n",
       "  </tbody>\n",
       "</table>\n",
       "</div>"
      ],
      "text/plain": [
       "                                              slc_id  \\\n",
       "0  S1A_IW_SLC__1SDV_20150607T014908_20150607T0149...   \n",
       "1  S1A_IW_SLC__1SDV_20150607T014936_20150607T0150...   \n",
       "2  S1A_IW_SLC__1SDV_20150607T015000_20150607T0150...   \n",
       "3  S1A_IW_SLC__1SSV_20150619T014909_20150619T0149...   \n",
       "4  S1A_IW_SLC__1SSV_20150619T014936_20150619T0150...   \n",
       "\n",
       "                 start_time                 stop_time  \\\n",
       "0 2015-06-07 01:49:08+00:00 2015-06-07 01:49:38+00:00   \n",
       "1 2015-06-07 01:49:36+00:00 2015-06-07 01:50:03+00:00   \n",
       "2 2015-06-07 01:50:00+00:00 2015-06-07 01:50:27+00:00   \n",
       "3 2015-06-19 01:49:09+00:00 2015-06-19 01:49:38+00:00   \n",
       "4 2015-06-19 01:49:36+00:00 2015-06-19 01:50:03+00:00   \n",
       "\n",
       "                                                 url  track_number  \\\n",
       "0  https://datapool.asf.alaska.edu/SLC/SA/S1A_IW_...            64   \n",
       "1  https://datapool.asf.alaska.edu/SLC/SA/S1A_IW_...            64   \n",
       "2  https://datapool.asf.alaska.edu/SLC/SA/S1A_IW_...            64   \n",
       "3  https://datapool.asf.alaska.edu/SLC/SA/S1A_IW_...            64   \n",
       "4  https://datapool.asf.alaska.edu/SLC/SA/S1A_IW_...            64   \n",
       "\n",
       "  polarization  orbit beam_mode   size_gb  stack_repeat_pass_id  \\\n",
       "0        VV+VH   6261        IW  4.736034                     9   \n",
       "1        VV+VH   6261        IW  4.493707                     9   \n",
       "2        VV+VH   6261        IW  4.453831                     9   \n",
       "3           VV   6436        IW  2.621702                    10   \n",
       "4           VV   6436        IW  2.429225                    10   \n",
       "\n",
       "  repeat_pass_date                                           geometry  \n",
       "0       2015-06-07  POLYGON ((-118.54359 32.65181, -118.13470 30.8...  \n",
       "1       2015-06-07  POLYGON ((-118.88850 34.14800, -118.51099 32.5...  \n",
       "2       2015-06-07  POLYGON ((-119.22372 35.64538, -118.84004 34.0...  \n",
       "3       2015-06-19  POLYGON ((-118.54291 32.65313, -118.13389 30.8...  \n",
       "4       2015-06-19  POLYGON ((-118.88759 34.14845, -118.51009 32.5...  "
      ]
     },
     "execution_count": 10,
     "metadata": {},
     "output_type": "execute_result"
    }
   ],
   "source": [
    "df_stack = get_s1_stack(frames)\n",
    "df_stack.head()"
   ]
  },
  {
   "cell_type": "markdown",
   "id": "a55861ea",
   "metadata": {},
   "source": [
    "# Select N Most Recent Dates"
   ]
  },
  {
   "cell_type": "code",
   "execution_count": 11,
   "id": "a2e91145",
   "metadata": {
    "ExecuteTime": {
     "end_time": "2023-03-08T20:18:59.148097Z",
     "start_time": "2023-03-08T20:18:59.098793Z"
    }
   },
   "outputs": [
    {
     "data": {
      "text/html": [
       "<div>\n",
       "<style scoped>\n",
       "    .dataframe tbody tr th:only-of-type {\n",
       "        vertical-align: middle;\n",
       "    }\n",
       "\n",
       "    .dataframe tbody tr th {\n",
       "        vertical-align: top;\n",
       "    }\n",
       "\n",
       "    .dataframe thead th {\n",
       "        text-align: right;\n",
       "    }\n",
       "</style>\n",
       "<table border=\"1\" class=\"dataframe\">\n",
       "  <thead>\n",
       "    <tr style=\"text-align: right;\">\n",
       "      <th></th>\n",
       "      <th>slc_id</th>\n",
       "      <th>start_time</th>\n",
       "      <th>stop_time</th>\n",
       "      <th>url</th>\n",
       "      <th>track_number</th>\n",
       "      <th>polarization</th>\n",
       "      <th>orbit</th>\n",
       "      <th>beam_mode</th>\n",
       "      <th>size_gb</th>\n",
       "      <th>stack_repeat_pass_id</th>\n",
       "      <th>repeat_pass_date</th>\n",
       "      <th>geometry</th>\n",
       "    </tr>\n",
       "  </thead>\n",
       "  <tbody>\n",
       "    <tr>\n",
       "      <th>0</th>\n",
       "      <td>S1B_IW_SLC__1SDV_20211108T014900_20211108T0149...</td>\n",
       "      <td>2021-11-08 01:49:00+00:00</td>\n",
       "      <td>2021-11-08 01:49:28+00:00</td>\n",
       "      <td>https://datapool.asf.alaska.edu/SLC/SB/S1B_IW_...</td>\n",
       "      <td>64</td>\n",
       "      <td>VV+VH</td>\n",
       "      <td>29490</td>\n",
       "      <td>IW</td>\n",
       "      <td>3.958718</td>\n",
       "      <td>275</td>\n",
       "      <td>2021-11-08</td>\n",
       "      <td>POLYGON ((-118.39106 32.03843, -118.01095 30.3...</td>\n",
       "    </tr>\n",
       "    <tr>\n",
       "      <th>1</th>\n",
       "      <td>S1B_IW_SLC__1SDV_20211108T014926_20211108T0149...</td>\n",
       "      <td>2021-11-08 01:49:26+00:00</td>\n",
       "      <td>2021-11-08 01:49:53+00:00</td>\n",
       "      <td>https://datapool.asf.alaska.edu/SLC/SB/S1B_IW_...</td>\n",
       "      <td>64</td>\n",
       "      <td>VV+VH</td>\n",
       "      <td>29490</td>\n",
       "      <td>IW</td>\n",
       "      <td>4.082102</td>\n",
       "      <td>275</td>\n",
       "      <td>2021-11-08</td>\n",
       "      <td>POLYGON ((-118.73894 33.53313, -118.36582 31.9...</td>\n",
       "    </tr>\n",
       "    <tr>\n",
       "      <th>2</th>\n",
       "      <td>S1B_IW_SLC__1SDV_20211108T014950_20211108T0150...</td>\n",
       "      <td>2021-11-08 01:49:50+00:00</td>\n",
       "      <td>2021-11-08 01:50:17+00:00</td>\n",
       "      <td>https://datapool.asf.alaska.edu/SLC/SB/S1B_IW_...</td>\n",
       "      <td>64</td>\n",
       "      <td>VV+VH</td>\n",
       "      <td>29490</td>\n",
       "      <td>IW</td>\n",
       "      <td>4.272837</td>\n",
       "      <td>275</td>\n",
       "      <td>2021-11-08</td>\n",
       "      <td>POLYGON ((-119.08288 35.02866, -118.70355 33.4...</td>\n",
       "    </tr>\n",
       "    <tr>\n",
       "      <th>3</th>\n",
       "      <td>S1B_IW_SLC__1SDV_20211108T015015_20211108T0150...</td>\n",
       "      <td>2021-11-08 01:50:15+00:00</td>\n",
       "      <td>2021-11-08 01:50:42+00:00</td>\n",
       "      <td>https://datapool.asf.alaska.edu/SLC/SB/S1B_IW_...</td>\n",
       "      <td>64</td>\n",
       "      <td>VV+VH</td>\n",
       "      <td>29490</td>\n",
       "      <td>IW</td>\n",
       "      <td>4.363327</td>\n",
       "      <td>275</td>\n",
       "      <td>2021-11-08</td>\n",
       "      <td>POLYGON ((-119.44039 36.52204, -119.05408 34.9...</td>\n",
       "    </tr>\n",
       "    <tr>\n",
       "      <th>4</th>\n",
       "      <td>S1B_IW_SLC__1SDV_20211120T014900_20211120T0149...</td>\n",
       "      <td>2021-11-20 01:49:00+00:00</td>\n",
       "      <td>2021-11-20 01:49:28+00:00</td>\n",
       "      <td>https://datapool.asf.alaska.edu/SLC/SB/S1B_IW_...</td>\n",
       "      <td>64</td>\n",
       "      <td>VV+VH</td>\n",
       "      <td>29665</td>\n",
       "      <td>IW</td>\n",
       "      <td>4.051842</td>\n",
       "      <td>277</td>\n",
       "      <td>2021-11-20</td>\n",
       "      <td>POLYGON ((-118.39075 32.03827, -118.01073 30.3...</td>\n",
       "    </tr>\n",
       "  </tbody>\n",
       "</table>\n",
       "</div>"
      ],
      "text/plain": [
       "                                              slc_id  \\\n",
       "0  S1B_IW_SLC__1SDV_20211108T014900_20211108T0149...   \n",
       "1  S1B_IW_SLC__1SDV_20211108T014926_20211108T0149...   \n",
       "2  S1B_IW_SLC__1SDV_20211108T014950_20211108T0150...   \n",
       "3  S1B_IW_SLC__1SDV_20211108T015015_20211108T0150...   \n",
       "4  S1B_IW_SLC__1SDV_20211120T014900_20211120T0149...   \n",
       "\n",
       "                 start_time                 stop_time  \\\n",
       "0 2021-11-08 01:49:00+00:00 2021-11-08 01:49:28+00:00   \n",
       "1 2021-11-08 01:49:26+00:00 2021-11-08 01:49:53+00:00   \n",
       "2 2021-11-08 01:49:50+00:00 2021-11-08 01:50:17+00:00   \n",
       "3 2021-11-08 01:50:15+00:00 2021-11-08 01:50:42+00:00   \n",
       "4 2021-11-20 01:49:00+00:00 2021-11-20 01:49:28+00:00   \n",
       "\n",
       "                                                 url  track_number  \\\n",
       "0  https://datapool.asf.alaska.edu/SLC/SB/S1B_IW_...            64   \n",
       "1  https://datapool.asf.alaska.edu/SLC/SB/S1B_IW_...            64   \n",
       "2  https://datapool.asf.alaska.edu/SLC/SB/S1B_IW_...            64   \n",
       "3  https://datapool.asf.alaska.edu/SLC/SB/S1B_IW_...            64   \n",
       "4  https://datapool.asf.alaska.edu/SLC/SB/S1B_IW_...            64   \n",
       "\n",
       "  polarization  orbit beam_mode   size_gb  stack_repeat_pass_id  \\\n",
       "0        VV+VH  29490        IW  3.958718                   275   \n",
       "1        VV+VH  29490        IW  4.082102                   275   \n",
       "2        VV+VH  29490        IW  4.272837                   275   \n",
       "3        VV+VH  29490        IW  4.363327                   275   \n",
       "4        VV+VH  29665        IW  4.051842                   277   \n",
       "\n",
       "  repeat_pass_date                                           geometry  \n",
       "0       2021-11-08  POLYGON ((-118.39106 32.03843, -118.01095 30.3...  \n",
       "1       2021-11-08  POLYGON ((-118.73894 33.53313, -118.36582 31.9...  \n",
       "2       2021-11-08  POLYGON ((-119.08288 35.02866, -118.70355 33.4...  \n",
       "3       2021-11-08  POLYGON ((-119.44039 36.52204, -119.05408 34.9...  \n",
       "4       2021-11-20  POLYGON ((-118.39075 32.03827, -118.01073 30.3...  "
      ]
     },
     "execution_count": 11,
     "metadata": {},
     "output_type": "execute_result"
    }
   ],
   "source": [
    "if AOI_NAME == 'Tibet':\n",
    "    N = 5\n",
    "else:\n",
    "    N = 3\n",
    "dates = sorted(df_stack.repeat_pass_date.unique(), reverse=True)\n",
    "df_stack_f = df_stack[df_stack.repeat_pass_date >= dates[N]].reset_index(drop=True)\n",
    "df_stack_f.head()"
   ]
  },
  {
   "cell_type": "markdown",
   "id": "f658c827",
   "metadata": {},
   "source": [
    "# Generate Pairs\n",
    "\n",
    "Now we generate the frames - most important elements of returned data is:\n",
    "\n",
    "1. SLC Ids of reference and secondary\n",
    "2. Extent of related frames"
   ]
  },
  {
   "cell_type": "code",
   "execution_count": 12,
   "id": "02fb0206",
   "metadata": {
    "ExecuteTime": {
     "end_time": "2023-03-08T20:18:59.451371Z",
     "start_time": "2023-03-08T20:18:59.149687Z"
    }
   },
   "outputs": [
    {
     "name": "stderr",
     "output_type": "stream",
     "text": [
      "Date Pairs: 100%|█| 5/5 [00:00<00:00, 19.20it\n"
     ]
    }
   ],
   "source": [
    "min_temporal_baseline = 0\n",
    "neighbors = 2\n",
    "\n",
    "data = enumerate_gunw_time_series(df_stack_f, \n",
    "                                  min_temporal_baseline, \n",
    "                                  n_secondary_scenes_per_ref=neighbors,\n",
    "                                  frames=frames \n",
    "                                 )"
   ]
  },
  {
   "cell_type": "code",
   "execution_count": 13,
   "id": "d8e5850f",
   "metadata": {
    "ExecuteTime": {
     "end_time": "2023-03-08T20:18:59.493017Z",
     "start_time": "2023-03-08T20:18:59.453189Z"
    }
   },
   "outputs": [
    {
     "data": {
      "text/plain": [
       "15"
      ]
     },
     "execution_count": 13,
     "metadata": {},
     "output_type": "execute_result"
    }
   ],
   "source": [
    "len(data)"
   ]
  },
  {
   "cell_type": "code",
   "execution_count": 14,
   "id": "8b4ca251",
   "metadata": {
    "ExecuteTime": {
     "end_time": "2023-03-08T20:18:59.531981Z",
     "start_time": "2023-03-08T20:18:59.494754Z"
    },
    "scrolled": false
   },
   "outputs": [
    {
     "data": {
      "text/plain": [
       "{'reference': ['S1B_IW_SLC__1SDV_20211214T014859_20211214T014927_030015_039565_3699',\n",
       "  'S1B_IW_SLC__1SDV_20211214T014924_20211214T014951_030015_039565_3340'],\n",
       " 'secondary': ['S1B_IW_SLC__1SDV_20211202T014859_20211202T014927_029840_038FE0_4E26',\n",
       "  'S1B_IW_SLC__1SDV_20211202T014925_20211202T014952_029840_038FE0_83EF'],\n",
       " 'reference_date': datetime.date(2021, 12, 14),\n",
       " 'secondary_date': datetime.date(2021, 12, 2),\n",
       " 'frame_id': 9847,\n",
       " 'geometry': <POLYGON Z ((-118.478 32.361 0, -118.519 32.54 0, -118.516 32.541 0, -118.70...>}"
      ]
     },
     "execution_count": 14,
     "metadata": {},
     "output_type": "execute_result"
    }
   ],
   "source": [
    "data[0]"
   ]
  },
  {
   "cell_type": "code",
   "execution_count": 15,
   "id": "88b487cb",
   "metadata": {
    "ExecuteTime": {
     "end_time": "2023-03-08T20:18:59.570754Z",
     "start_time": "2023-03-08T20:18:59.533536Z"
    }
   },
   "outputs": [
    {
     "data": {
      "image/svg+xml": [
       "<svg xmlns=\"http://www.w3.org/2000/svg\" xmlns:xlink=\"http://www.w3.org/1999/xlink\" width=\"100.0\" height=\"100.0\" viewBox=\"-118.82838533519117 32.09425590507052 3.222272525496834 1.4036399944799172\" preserveAspectRatio=\"xMinYMin meet\"><g transform=\"matrix(1,0,0,-1,0,65.59215180462095)\"><path fill-rule=\"evenodd\" fill=\"#66cc99\" stroke=\"#555555\" stroke-width=\"0.06444545050993668\" opacity=\"0.6\" d=\"M -118.47826685568461,32.36109701096742 L -118.519334,32.540296 L -118.51599441320336,32.54084834134058 L -118.70904190832091,33.378552472680184 L -115.95459208745925,33.378552472680184 L -115.850891,32.856904 L -115.85294450978833,32.856624382119605 L -115.7254562365646,32.21359933194077 L -118.4445255961633,32.21359933194077 L -118.47826685568461,32.36109701096742 z\" /></g></svg>"
      ],
      "text/plain": [
       "<POLYGON Z ((-118.478 32.361 0, -118.519 32.54 0, -118.516 32.541 0, -118.70...>"
      ]
     },
     "execution_count": 15,
     "metadata": {},
     "output_type": "execute_result"
    }
   ],
   "source": [
    "data[0]['geometry']"
   ]
  },
  {
   "cell_type": "markdown",
   "id": "a69ca534",
   "metadata": {},
   "source": [
    "# Hyp3"
   ]
  },
  {
   "cell_type": "code",
   "execution_count": 35,
   "id": "dcc5809e",
   "metadata": {
    "ExecuteTime": {
     "end_time": "2023-03-08T20:21:22.915603Z",
     "start_time": "2023-03-08T20:21:22.877655Z"
    }
   },
   "outputs": [
    {
     "data": {
      "text/plain": [
       "'JOB_NAME: Los-Angeles_64_ERA5_0308'"
      ]
     },
     "execution_count": 35,
     "metadata": {},
     "output_type": "execute_result"
    }
   ],
   "source": [
    "TRACKS = \",\".join([str(t) for t in TRACK_DICT[AOI_NAME]])\n",
    "TODAY = datetime.datetime.now().date().strftime('%m%d')\n",
    "AOI_TOKEN = AOI_NAME.replace(' ', '-')\n",
    "JOB_NAME = '_'.join([AOI_TOKEN, TRACKS, WEATHER_MODEL, TODAY])\n",
    "f'JOB_NAME: {JOB_NAME}'"
   ]
  },
  {
   "cell_type": "code",
   "execution_count": 34,
   "id": "48d07d90",
   "metadata": {
    "ExecuteTime": {
     "end_time": "2023-03-08T20:21:21.107539Z",
     "start_time": "2023-03-08T20:21:21.070050Z"
    }
   },
   "outputs": [
    {
     "data": {
      "text/plain": [
       "'JOB_NAME character length: 24'"
      ]
     },
     "execution_count": 34,
     "metadata": {},
     "output_type": "execute_result"
    }
   ],
   "source": [
    "f'JOB_NAME character length: {len(JOB_NAME)}'"
   ]
  },
  {
   "cell_type": "code",
   "execution_count": 20,
   "id": "ff664c0d",
   "metadata": {
    "ExecuteTime": {
     "end_time": "2023-03-08T20:18:59.765173Z",
     "start_time": "2023-03-08T20:18:59.729518Z"
    }
   },
   "outputs": [],
   "source": [
    "assert len(JOB_NAME) <= 30"
   ]
  },
  {
   "cell_type": "code",
   "execution_count": 21,
   "id": "7eba165c",
   "metadata": {
    "ExecuteTime": {
     "end_time": "2023-03-08T20:18:59.804335Z",
     "start_time": "2023-03-08T20:18:59.766844Z"
    }
   },
   "outputs": [
    {
     "data": {
      "text/plain": [
       "[{'granules': ['S1B_IW_SLC__1SDV_20211214T014859_20211214T014927_030015_039565_3699',\n",
       "   'S1B_IW_SLC__1SDV_20211214T014924_20211214T014951_030015_039565_3340'],\n",
       "  'secondary_granules': ['S1B_IW_SLC__1SDV_20211202T014859_20211202T014927_029840_038FE0_4E26',\n",
       "   'S1B_IW_SLC__1SDV_20211202T014925_20211202T014952_029840_038FE0_83EF'],\n",
       "  'weather_model': 'ERA5',\n",
       "  'estimate_ionosphere_delay': True,\n",
       "  'compute_solid_earth_tide': True,\n",
       "  'frame_id': 9847},\n",
       " {'granules': ['S1B_IW_SLC__1SDV_20211214T014924_20211214T014951_030015_039565_3340',\n",
       "   'S1B_IW_SLC__1SDV_20211214T014949_20211214T015016_030015_039565_1CCB'],\n",
       "  'secondary_granules': ['S1B_IW_SLC__1SDV_20211202T014925_20211202T014952_029840_038FE0_83EF',\n",
       "   'S1B_IW_SLC__1SDV_20211202T014950_20211202T015017_029840_038FE0_2EE7'],\n",
       "  'weather_model': 'ERA5',\n",
       "  'estimate_ionosphere_delay': True,\n",
       "  'compute_solid_earth_tide': True,\n",
       "  'frame_id': 9848}]"
      ]
     },
     "execution_count": 21,
     "metadata": {},
     "output_type": "execute_result"
    }
   ],
   "source": [
    "job_parameters =  [{'granules': ifg_data['reference'],\n",
    "                    'secondary_granules': ifg_data['secondary'],\n",
    "                    'weather_model': WEATHER_MODEL,\n",
    "                    'estimate_ionosphere_delay': True,\n",
    "                    'compute_solid_earth_tide': True,\n",
    "                    'frame_id': ifg_data['frame_id'],\n",
    "                     } for ifg_data in data]\n",
    "job_parameters[:2]"
   ]
  },
  {
   "cell_type": "code",
   "execution_count": 22,
   "id": "cd79c8c2",
   "metadata": {
    "ExecuteTime": {
     "end_time": "2023-03-08T20:18:59.844413Z",
     "start_time": "2023-03-08T20:18:59.806233Z"
    }
   },
   "outputs": [
    {
     "data": {
      "text/plain": [
       "[{'name': 'Los-Angeles_64_ERA5_0308',\n",
       "  'job_type': 'INSAR_ISCE_TEST',\n",
       "  'job_parameters': {'granules': ['S1B_IW_SLC__1SDV_20211214T014859_20211214T014927_030015_039565_3699',\n",
       "    'S1B_IW_SLC__1SDV_20211214T014924_20211214T014951_030015_039565_3340'],\n",
       "   'secondary_granules': ['S1B_IW_SLC__1SDV_20211202T014859_20211202T014927_029840_038FE0_4E26',\n",
       "    'S1B_IW_SLC__1SDV_20211202T014925_20211202T014952_029840_038FE0_83EF'],\n",
       "   'weather_model': 'ERA5',\n",
       "   'estimate_ionosphere_delay': True,\n",
       "   'compute_solid_earth_tide': True,\n",
       "   'frame_id': 9847}},\n",
       " {'name': 'Los-Angeles_64_ERA5_0308',\n",
       "  'job_type': 'INSAR_ISCE_TEST',\n",
       "  'job_parameters': {'granules': ['S1B_IW_SLC__1SDV_20211214T014924_20211214T014951_030015_039565_3340',\n",
       "    'S1B_IW_SLC__1SDV_20211214T014949_20211214T015016_030015_039565_1CCB'],\n",
       "   'secondary_granules': ['S1B_IW_SLC__1SDV_20211202T014925_20211202T014952_029840_038FE0_83EF',\n",
       "    'S1B_IW_SLC__1SDV_20211202T014950_20211202T015017_029840_038FE0_2EE7'],\n",
       "   'weather_model': 'ERA5',\n",
       "   'estimate_ionosphere_delay': True,\n",
       "   'compute_solid_earth_tide': True,\n",
       "   'frame_id': 9848}}]"
      ]
     },
     "execution_count": 22,
     "metadata": {},
     "output_type": "execute_result"
    }
   ],
   "source": [
    "job_dicts = [{'name': JOB_NAME,\n",
    "              # NOTE: we are still using the `dev` branch. Change this to \"INSAR_ISCE\" to use the `main` branch.\n",
    "              'job_type': 'INSAR_ISCE_TEST',\n",
    "              'job_parameters': parameters\n",
    "             }\n",
    "             for parameters in job_parameters]\n",
    "job_dicts[:2]"
   ]
  },
  {
   "cell_type": "code",
   "execution_count": 23,
   "id": "d6b386cd",
   "metadata": {
    "ExecuteTime": {
     "end_time": "2023-03-08T20:18:59.883399Z",
     "start_time": "2023-03-08T20:18:59.846204Z"
    }
   },
   "outputs": [
    {
     "data": {
      "text/plain": [
       "15"
      ]
     },
     "execution_count": 23,
     "metadata": {},
     "output_type": "execute_result"
    }
   ],
   "source": [
    "len(job_dicts)"
   ]
  },
  {
   "cell_type": "markdown",
   "id": "a3ea5d94",
   "metadata": {},
   "source": [
    "You may want to use `prompt=True` to toggle between Earthdata accounts."
   ]
  },
  {
   "cell_type": "code",
   "execution_count": 24,
   "id": "839b3d9d",
   "metadata": {
    "ExecuteTime": {
     "end_time": "2023-03-08T20:19:04.069828Z",
     "start_time": "2023-03-08T20:18:59.885083Z"
    }
   },
   "outputs": [],
   "source": [
    "import hyp3_sdk\n",
    "\n",
    "# uses .netrc; add `prompt=True` to prompt for credentials; \n",
    "hyp3_isce = hyp3_sdk.HyP3('https://hyp3-a19-jpl.asf.alaska.edu')"
   ]
  },
  {
   "cell_type": "markdown",
   "id": "b83ff43a",
   "metadata": {},
   "source": [
    "Uncomment this to submit jobs:"
   ]
  },
  {
   "cell_type": "code",
   "execution_count": 25,
   "id": "e3e98b8b",
   "metadata": {
    "ExecuteTime": {
     "end_time": "2023-03-08T20:19:04.108205Z",
     "start_time": "2023-03-08T20:19:04.071500Z"
    }
   },
   "outputs": [],
   "source": [
    "# submitted_jobs = hyp3_isce.submit_prepared_jobs(job_dicts[:])"
   ]
  },
  {
   "cell_type": "markdown",
   "id": "c933da53",
   "metadata": {},
   "source": [
    "These are useful snippets to inspect status and view metadata."
   ]
  },
  {
   "cell_type": "code",
   "execution_count": 26,
   "id": "aed6c60d",
   "metadata": {
    "ExecuteTime": {
     "end_time": "2023-03-08T20:19:08.184821Z",
     "start_time": "2023-03-08T20:19:04.109872Z"
    }
   },
   "outputs": [
    {
     "name": "stdout",
     "output_type": "stream",
     "text": [
      "0 HyP3 Jobs: 0 succeeded, 0 failed, 0 running, 0 pending.\n"
     ]
    }
   ],
   "source": [
    "# jobs = hyp3_isce.find_jobs(name=JOB_NAME)\n",
    "# print(jobs)"
   ]
  },
  {
   "cell_type": "code",
   "execution_count": 27,
   "id": "d6f2698c",
   "metadata": {
    "ExecuteTime": {
     "end_time": "2023-03-08T20:19:08.223516Z",
     "start_time": "2023-03-08T20:19:08.186800Z"
    }
   },
   "outputs": [],
   "source": [
    "# jobs[0].to_dict()"
   ]
  },
  {
   "cell_type": "code",
   "execution_count": 28,
   "id": "45615dbd",
   "metadata": {
    "ExecuteTime": {
     "end_time": "2023-03-08T20:19:08.265084Z",
     "start_time": "2023-03-08T20:19:08.228863Z"
    }
   },
   "outputs": [],
   "source": [
    "# successful_jobs = hyp3_isce.find_jobs(name=JOB_NAME, status_code='SUCCEEDED')\n",
    "# dicts_success = [j.to_dict() for j in successful_jobs]\n",
    "# dicts_success[:]"
   ]
  },
  {
   "cell_type": "code",
   "execution_count": 29,
   "id": "7612e29a",
   "metadata": {
    "ExecuteTime": {
     "end_time": "2023-03-08T20:19:08.302044Z",
     "start_time": "2023-03-08T20:19:08.266829Z"
    },
    "scrolled": true
   },
   "outputs": [],
   "source": [
    "# urls = [d['files'][0]['url'] for d in dicts_success]\n",
    "# urls"
   ]
  }
 ],
 "metadata": {
  "kernelspec": {
   "display_name": "s1-frame-enumerator",
   "language": "python",
   "name": "s1-frame-enumerator"
  },
  "language_info": {
   "codemirror_mode": {
    "name": "ipython",
    "version": 3
   },
   "file_extension": ".py",
   "mimetype": "text/x-python",
   "name": "python",
   "nbconvert_exporter": "python",
   "pygments_lexer": "ipython3",
   "version": "3.11.0"
  }
 },
 "nbformat": 4,
 "nbformat_minor": 5
}
