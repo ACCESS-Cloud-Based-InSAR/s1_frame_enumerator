{
 "cells": [
  {
   "cell_type": "markdown",
   "id": "61d520ce",
   "metadata": {},
   "source": [
    "Frame enumuration and submission to Hyp3 with Tropo, Iono, SET corrections."
   ]
  },
  {
   "cell_type": "code",
   "execution_count": 1,
   "id": "0bd2d25a",
   "metadata": {
    "ExecuteTime": {
     "end_time": "2023-03-23T18:01:21.278940Z",
     "start_time": "2023-03-23T18:01:21.252937Z"
    }
   },
   "outputs": [],
   "source": [
    "%load_ext autoreload\n",
    "%autoreload 2"
   ]
  },
  {
   "cell_type": "code",
   "execution_count": 2,
   "id": "756918c1",
   "metadata": {
    "ExecuteTime": {
     "end_time": "2023-03-23T18:01:22.789738Z",
     "start_time": "2023-03-23T18:01:21.280985Z"
    }
   },
   "outputs": [],
   "source": [
    "from s1_frame_enumerator import (get_s1_stack, \n",
    "                                 filter_s1_stack_by_geometric_coverage_per_pass, \n",
    "                                 get_global_s1_frames, \n",
    "                                 get_overlapping_s1_frames, \n",
    "                                 enumerate_dates, \n",
    "                                 frames2gdf, \n",
    "                                 enumerate_gunw_time_series)\n",
    "from shapely.geometry import Point\n",
    "import geopandas as gpd\n",
    "from rasterio.crs import CRS\n",
    "import matplotlib.pyplot as plt\n",
    "import warnings\n",
    "import json\n",
    "import pandas as pd\n",
    "import datetime"
   ]
  },
  {
   "cell_type": "code",
   "execution_count": 3,
   "id": "777b4285",
   "metadata": {
    "ExecuteTime": {
     "end_time": "2023-03-23T18:01:22.826285Z",
     "start_time": "2023-03-23T18:01:22.791449Z"
    }
   },
   "outputs": [],
   "source": [
    "AOI_NAME = 'Norfolk' #'Los Angeles' # 'Hawaii'\n",
    "WEATHER_MODEL = 'GMAO'"
   ]
  },
  {
   "cell_type": "code",
   "execution_count": 4,
   "id": "f7be2e2b",
   "metadata": {
    "ExecuteTime": {
     "end_time": "2023-03-23T18:01:22.863165Z",
     "start_time": "2023-03-23T18:01:22.828808Z"
    }
   },
   "outputs": [],
   "source": [
    "if WEATHER_MODEL == 'HRRR':\n",
    "    assert 'Los-Angeles' in AOI_NAME"
   ]
  },
  {
   "cell_type": "code",
   "execution_count": 5,
   "id": "1687232a",
   "metadata": {
    "ExecuteTime": {
     "end_time": "2023-03-23T18:01:22.901902Z",
     "start_time": "2023-03-23T18:01:22.865183Z"
    }
   },
   "outputs": [],
   "source": [
    "GEO_DICT = {'Los-Angeles-0':  Point(-118, 34).buffer(1),\n",
    "            'Los-Angeles-1':  Point(-118, 34).buffer(1),\n",
    "            'Hawaii-0': Point(-155.5, 19.5).buffer(1),\n",
    "            'Hawaii-1': Point(-155.5, 19.5).buffer(1),\n",
    "            'Norfolk': Point(-76.5, 36.4).buffer(1),\n",
    "            'Somalia': Point(41, 1.5).buffer(1),\n",
    "            'Tibet': Point(92, 41.5).buffer(1),\n",
    "            'Norway': Point(13, 65).buffer(1),\n",
    "            'Aleutian': Point(-177, 52).buffer(.25),\n",
    "            }\n",
    "\n",
    "TRACK_DICT = {'Los-Angeles-0': [64],\n",
    "              'Los-Angeles-1': [71],\n",
    "              'Hawaii-0': [124],\n",
    "              'Hawaii-1': [87],\n",
    "              'Norfolk': [4],\n",
    "              'Somalia': [87],\n",
    "              'Tibet': [48],\n",
    "              'Norway': [37],\n",
    "              'Aleutian': [59],\n",
    "              }"
   ]
  },
  {
   "cell_type": "code",
   "execution_count": 6,
   "id": "587c8c37",
   "metadata": {
    "ExecuteTime": {
     "end_time": "2023-03-23T18:01:22.941295Z",
     "start_time": "2023-03-23T18:01:22.903526Z"
    }
   },
   "outputs": [],
   "source": [
    "aoi_geo = GEO_DICT[AOI_NAME]\n",
    "track_numbers = TRACK_DICT[AOI_NAME]\n",
    "\n",
    "df_aoi = gpd.GeoDataFrame(geometry=[aoi_geo], crs=CRS.from_epsg(4326))"
   ]
  },
  {
   "cell_type": "code",
   "execution_count": 7,
   "id": "f50578b5",
   "metadata": {
    "ExecuteTime": {
     "end_time": "2023-03-23T18:01:31.725950Z",
     "start_time": "2023-03-23T18:01:22.943213Z"
    }
   },
   "outputs": [],
   "source": [
    "frames = get_overlapping_s1_frames(aoi_geo, track_numbers=track_numbers)"
   ]
  },
  {
   "cell_type": "code",
   "execution_count": 8,
   "id": "63ad72b8",
   "metadata": {
    "ExecuteTime": {
     "end_time": "2023-03-23T18:01:31.763852Z",
     "start_time": "2023-03-23T18:01:31.727664Z"
    }
   },
   "outputs": [],
   "source": [
    "# There will be lots of ways to do this more efficiently i.e. only include frames with overlap of a land mask\n",
    "# Even to be more confident would likely want some percentage\n",
    "# Currently, we just shrunk our AOI and excluded a frame\n",
    "if AOI_NAME == 'Aleutian':\n",
    "    frames = list(filter(lambda f: f.frame_id!= 9101, frames))"
   ]
  },
  {
   "cell_type": "code",
   "execution_count": 9,
   "id": "f3634314",
   "metadata": {
    "ExecuteTime": {
     "end_time": "2023-03-23T18:01:31.809508Z",
     "start_time": "2023-03-23T18:01:31.765510Z"
    }
   },
   "outputs": [
    {
     "data": {
      "text/html": [
       "<div>\n",
       "<style scoped>\n",
       "    .dataframe tbody tr th:only-of-type {\n",
       "        vertical-align: middle;\n",
       "    }\n",
       "\n",
       "    .dataframe tbody tr th {\n",
       "        vertical-align: top;\n",
       "    }\n",
       "\n",
       "    .dataframe thead th {\n",
       "        text-align: right;\n",
       "    }\n",
       "</style>\n",
       "<table border=\"1\" class=\"dataframe\">\n",
       "  <thead>\n",
       "    <tr style=\"text-align: right;\">\n",
       "      <th></th>\n",
       "      <th>frame_id</th>\n",
       "      <th>hemisphere</th>\n",
       "      <th>track_number_min</th>\n",
       "      <th>track_number_max</th>\n",
       "      <th>geometry</th>\n",
       "    </tr>\n",
       "  </thead>\n",
       "  <tbody>\n",
       "    <tr>\n",
       "      <th>0</th>\n",
       "      <td>492</td>\n",
       "      <td>None</td>\n",
       "      <td>4</td>\n",
       "      <td>4</td>\n",
       "      <td>POLYGON Z ((-77.82534 34.47332 0.00000, -78.06...</td>\n",
       "    </tr>\n",
       "    <tr>\n",
       "      <th>1</th>\n",
       "      <td>493</td>\n",
       "      <td>None</td>\n",
       "      <td>4</td>\n",
       "      <td>4</td>\n",
       "      <td>POLYGON Z ((-78.09591 35.63539 0.00000, -78.33...</td>\n",
       "    </tr>\n",
       "    <tr>\n",
       "      <th>2</th>\n",
       "      <td>494</td>\n",
       "      <td>None</td>\n",
       "      <td>4</td>\n",
       "      <td>4</td>\n",
       "      <td>POLYGON Z ((-78.37797 36.81111 0.00000, -78.41...</td>\n",
       "    </tr>\n",
       "  </tbody>\n",
       "</table>\n",
       "</div>"
      ],
      "text/plain": [
       "   frame_id hemisphere  track_number_min  track_number_max  \\\n",
       "0       492       None                 4                 4   \n",
       "1       493       None                 4                 4   \n",
       "2       494       None                 4                 4   \n",
       "\n",
       "                                            geometry  \n",
       "0  POLYGON Z ((-77.82534 34.47332 0.00000, -78.06...  \n",
       "1  POLYGON Z ((-78.09591 35.63539 0.00000, -78.33...  \n",
       "2  POLYGON Z ((-78.37797 36.81111 0.00000, -78.41...  "
      ]
     },
     "execution_count": 9,
     "metadata": {},
     "output_type": "execute_result"
    }
   ],
   "source": [
    "df_frames_all = frames2gdf(frames)\n",
    "df_frames_all.head()"
   ]
  },
  {
   "cell_type": "code",
   "execution_count": 10,
   "id": "8556da14",
   "metadata": {
    "ExecuteTime": {
     "end_time": "2023-03-23T18:01:32.003066Z",
     "start_time": "2023-03-23T18:01:31.813235Z"
    }
   },
   "outputs": [
    {
     "data": {
      "text/plain": [
       "<Axes: >"
      ]
     },
     "execution_count": 10,
     "metadata": {},
     "output_type": "execute_result"
    },
    {
     "data": {
      "image/png": "[encoded data removed]",
      "text/plain": [
       "<Figure size 640x480 with 1 Axes>"
      ]
     },
     "metadata": {},
     "output_type": "display_data"
    }
   ],
   "source": [
    "df_frames_all.plot()"
   ]
  },
  {
   "cell_type": "code",
   "execution_count": 11,
   "id": "ba8524af",
   "metadata": {
    "ExecuteTime": {
     "end_time": "2023-03-23T18:01:32.361165Z",
     "start_time": "2023-03-23T18:01:32.005418Z"
    }
   },
   "outputs": [
    {
     "data": {
      "text/plain": [
       "(33.325749911225884, 38.81283288963675)"
      ]
     },
     "execution_count": 11,
     "metadata": {},
     "output_type": "execute_result"
    },
    {
     "data": {
      "image/png": "[encoded data removed]",
      "text/plain": [
       "<Figure size 640x480 with 1 Axes>"
      ]
     },
     "metadata": {},
     "output_type": "display_data"
    }
   ],
   "source": [
    "fig, ax = plt.subplots()\n",
    "df_world = gpd.read_file(gpd.datasets.get_path('naturalearth_lowres'))\n",
    "df_world.boundary.plot(ax=ax)\n",
    "df_frames_by_track = df_frames_all.dissolve(by='track_number_min').reset_index(drop=False)\n",
    "df_frames_by_track.plot(ax=ax, \n",
    "                        column='track_number_min',\n",
    "                        categorical=True,\n",
    "                        alpha=.25, \n",
    "                        legend=True)\n",
    "df_aoi.boundary.plot(ax=ax, edgecolor='black')\n",
    "xmin, ymin, xmax, ymax = df_frames_by_track.total_bounds\n",
    "ax.set_xlim(xmin - 1, xmax + 1)\n",
    "ax.set_ylim(ymin - 1, ymax + 1)"
   ]
  },
  {
   "cell_type": "code",
   "execution_count": 12,
   "id": "5b3e3fe3",
   "metadata": {
    "ExecuteTime": {
     "end_time": "2023-03-23T18:01:32.736239Z",
     "start_time": "2023-03-23T18:01:32.362981Z"
    }
   },
   "outputs": [
    {
     "data": {
      "text/plain": [
       "(33.325749911225884, 38.81283288963675)"
      ]
     },
     "execution_count": 12,
     "metadata": {},
     "output_type": "execute_result"
    },
    {
     "data": {
      "image/png": "[encoded data removed]",
      "text/plain": [
       "<Figure size 1000x1000 with 1 Axes>"
      ]
     },
     "metadata": {},
     "output_type": "display_data"
    }
   ],
   "source": [
    "fig, ax = plt.subplots(figsize=(10, 10))\n",
    "df_world = gpd.read_file(gpd.datasets.get_path('naturalearth_lowres'))\n",
    "df_world.boundary.plot(ax=ax)\n",
    "df_frames_all.plot(ax=ax, \n",
    "                   column='frame_id', \n",
    "                   alpha=.25,\n",
    "                   categorical=True,\n",
    "                   legend=True)\n",
    "df_aoi.boundary.plot(ax=ax, edgecolor='black')\n",
    "\n",
    "xmin, ymin, xmax, ymax = df_frames_by_track.total_bounds\n",
    "ax.set_xlim(xmin - 1, xmax + 1)\n",
    "ax.set_ylim(ymin - 1, ymax + 1)"
   ]
  },
  {
   "cell_type": "markdown",
   "id": "425464a2",
   "metadata": {},
   "source": [
    "# Get Stack from Frame\n",
    "\n",
    "Here a stack is a list of images with metadata and extents. We note the stack here is not arbitrarily constructed and at some point might be nice to create a simple class to encapsulate it. However, here a stack is one that can be organized to do interferometry over the frames.\n",
    "\n",
    "1. Per pass coverage $\\geq 80$% as it pertains to the frame's coverage geometry\n",
    "2. Contiguous coverage through frames (determined as Polygon object)\n",
    "\n",
    "Requires:\n",
    "\n",
    "1. Frames to be contiguous (otherwise 2. does not make sense)\n",
    "2. Requires single track or two sequential tracks (we only check if the track numbers are sequential)"
   ]
  },
  {
   "cell_type": "code",
   "execution_count": 13,
   "id": "5704f85b",
   "metadata": {
    "ExecuteTime": {
     "end_time": "2023-03-23T18:01:50.714063Z",
     "start_time": "2023-03-23T18:01:32.737861Z"
    }
   },
   "outputs": [
    {
     "name": "stderr",
     "output_type": "stream",
     "text": [
      "Downloading stack from 3 frame geometries: 100%|███████████████████████████████████████████████████████████████| 3/3 [00:17<00:00,  5.84s/it]\n"
     ]
    },
    {
     "data": {
      "text/html": [
       "<div>\n",
       "<style scoped>\n",
       "    .dataframe tbody tr th:only-of-type {\n",
       "        vertical-align: middle;\n",
       "    }\n",
       "\n",
       "    .dataframe tbody tr th {\n",
       "        vertical-align: top;\n",
       "    }\n",
       "\n",
       "    .dataframe thead th {\n",
       "        text-align: right;\n",
       "    }\n",
       "</style>\n",
       "<table border=\"1\" class=\"dataframe\">\n",
       "  <thead>\n",
       "    <tr style=\"text-align: right;\">\n",
       "      <th></th>\n",
       "      <th>slc_id</th>\n",
       "      <th>start_time</th>\n",
       "      <th>stop_time</th>\n",
       "      <th>url</th>\n",
       "      <th>track_number</th>\n",
       "      <th>polarization</th>\n",
       "      <th>orbit</th>\n",
       "      <th>beam_mode</th>\n",
       "      <th>size_gb</th>\n",
       "      <th>stack_repeat_pass_id</th>\n",
       "      <th>repeat_pass_timestamp</th>\n",
       "      <th>geometry</th>\n",
       "    </tr>\n",
       "  </thead>\n",
       "  <tbody>\n",
       "    <tr>\n",
       "      <th>0</th>\n",
       "      <td>S1A_IW_SLC__1SDV_20150310T230524_20150310T2305...</td>\n",
       "      <td>2015-03-10 23:05:24+00:00</td>\n",
       "      <td>2015-03-10 23:05:53+00:00</td>\n",
       "      <td>https://datapool.asf.alaska.edu/SLC/SA/S1A_IW_...</td>\n",
       "      <td>4</td>\n",
       "      <td>VV+VH</td>\n",
       "      <td>4976</td>\n",
       "      <td>IW</td>\n",
       "      <td>4.698847</td>\n",
       "      <td>0</td>\n",
       "      <td>2015-03-10 00:00:00+00:00</td>\n",
       "      <td>POLYGON ((-78.16130 35.91949, -77.73726 34.123...</td>\n",
       "    </tr>\n",
       "    <tr>\n",
       "      <th>1</th>\n",
       "      <td>S1A_IW_SLC__1SDV_20150310T230551_20150310T2306...</td>\n",
       "      <td>2015-03-10 23:05:51+00:00</td>\n",
       "      <td>2015-03-10 23:06:19+00:00</td>\n",
       "      <td>https://datapool.asf.alaska.edu/SLC/SA/S1A_IW_...</td>\n",
       "      <td>4</td>\n",
       "      <td>VV+VH</td>\n",
       "      <td>4976</td>\n",
       "      <td>IW</td>\n",
       "      <td>4.773019</td>\n",
       "      <td>0</td>\n",
       "      <td>2015-03-10 00:00:00+00:00</td>\n",
       "      <td>POLYGON ((-78.53279 37.46199, -78.12806 35.783...</td>\n",
       "    </tr>\n",
       "    <tr>\n",
       "      <th>2</th>\n",
       "      <td>S1A_IW_SLC__1SDV_20150310T230617_20150310T2306...</td>\n",
       "      <td>2015-03-10 23:06:17+00:00</td>\n",
       "      <td>2015-03-10 23:06:44+00:00</td>\n",
       "      <td>https://datapool.asf.alaska.edu/SLC/SA/S1A_IW_...</td>\n",
       "      <td>4</td>\n",
       "      <td>VV+VH</td>\n",
       "      <td>4976</td>\n",
       "      <td>IW</td>\n",
       "      <td>4.723698</td>\n",
       "      <td>0</td>\n",
       "      <td>2015-03-10 00:00:00+00:00</td>\n",
       "      <td>POLYGON ((-78.89915 38.95433, -78.49970 37.333...</td>\n",
       "    </tr>\n",
       "    <tr>\n",
       "      <th>3</th>\n",
       "      <td>S1A_IW_SLC__1SDV_20150825T230531_20150825T2306...</td>\n",
       "      <td>2015-08-25 23:05:31+00:00</td>\n",
       "      <td>2015-08-25 23:06:01+00:00</td>\n",
       "      <td>https://datapool.asf.alaska.edu/SLC/SA/S1A_IW_...</td>\n",
       "      <td>4</td>\n",
       "      <td>VV+VH</td>\n",
       "      <td>7426</td>\n",
       "      <td>IW</td>\n",
       "      <td>4.676370</td>\n",
       "      <td>1</td>\n",
       "      <td>2015-08-25 00:00:00+00:00</td>\n",
       "      <td>POLYGON ((-78.16091 35.91830, -77.73697 34.122...</td>\n",
       "    </tr>\n",
       "    <tr>\n",
       "      <th>4</th>\n",
       "      <td>S1A_IW_SLC__1SDV_20150825T230559_20150825T2306...</td>\n",
       "      <td>2015-08-25 23:05:59+00:00</td>\n",
       "      <td>2015-08-25 23:06:26+00:00</td>\n",
       "      <td>https://datapool.asf.alaska.edu/SLC/SA/S1A_IW_...</td>\n",
       "      <td>4</td>\n",
       "      <td>VV+VH</td>\n",
       "      <td>7426</td>\n",
       "      <td>IW</td>\n",
       "      <td>4.581264</td>\n",
       "      <td>1</td>\n",
       "      <td>2015-08-25 00:00:00+00:00</td>\n",
       "      <td>POLYGON ((-78.52041 37.41198, -78.12771 35.783...</td>\n",
       "    </tr>\n",
       "  </tbody>\n",
       "</table>\n",
       "</div>"
      ],
      "text/plain": [
       "                                              slc_id  \\\n",
       "0  S1A_IW_SLC__1SDV_20150310T230524_20150310T2305...   \n",
       "1  S1A_IW_SLC__1SDV_20150310T230551_20150310T2306...   \n",
       "2  S1A_IW_SLC__1SDV_20150310T230617_20150310T2306...   \n",
       "3  S1A_IW_SLC__1SDV_20150825T230531_20150825T2306...   \n",
       "4  S1A_IW_SLC__1SDV_20150825T230559_20150825T2306...   \n",
       "\n",
       "                 start_time                 stop_time  \\\n",
       "0 2015-03-10 23:05:24+00:00 2015-03-10 23:05:53+00:00   \n",
       "1 2015-03-10 23:05:51+00:00 2015-03-10 23:06:19+00:00   \n",
       "2 2015-03-10 23:06:17+00:00 2015-03-10 23:06:44+00:00   \n",
       "3 2015-08-25 23:05:31+00:00 2015-08-25 23:06:01+00:00   \n",
       "4 2015-08-25 23:05:59+00:00 2015-08-25 23:06:26+00:00   \n",
       "\n",
       "                                                 url  track_number  \\\n",
       "0  https://datapool.asf.alaska.edu/SLC/SA/S1A_IW_...             4   \n",
       "1  https://datapool.asf.alaska.edu/SLC/SA/S1A_IW_...             4   \n",
       "2  https://datapool.asf.alaska.edu/SLC/SA/S1A_IW_...             4   \n",
       "3  https://datapool.asf.alaska.edu/SLC/SA/S1A_IW_...             4   \n",
       "4  https://datapool.asf.alaska.edu/SLC/SA/S1A_IW_...             4   \n",
       "\n",
       "  polarization  orbit beam_mode   size_gb  stack_repeat_pass_id  \\\n",
       "0        VV+VH   4976        IW  4.698847                     0   \n",
       "1        VV+VH   4976        IW  4.773019                     0   \n",
       "2        VV+VH   4976        IW  4.723698                     0   \n",
       "3        VV+VH   7426        IW  4.676370                     1   \n",
       "4        VV+VH   7426        IW  4.581264                     1   \n",
       "\n",
       "      repeat_pass_timestamp                                           geometry  \n",
       "0 2015-03-10 00:00:00+00:00  POLYGON ((-78.16130 35.91949, -77.73726 34.123...  \n",
       "1 2015-03-10 00:00:00+00:00  POLYGON ((-78.53279 37.46199, -78.12806 35.783...  \n",
       "2 2015-03-10 00:00:00+00:00  POLYGON ((-78.89915 38.95433, -78.49970 37.333...  \n",
       "3 2015-08-25 00:00:00+00:00  POLYGON ((-78.16091 35.91830, -77.73697 34.122...  \n",
       "4 2015-08-25 00:00:00+00:00  POLYGON ((-78.52041 37.41198, -78.12771 35.783...  "
      ]
     },
     "execution_count": 13,
     "metadata": {},
     "output_type": "execute_result"
    }
   ],
   "source": [
    "df_stack = get_s1_stack(frames)\n",
    "df_stack.head()"
   ]
  },
  {
   "cell_type": "markdown",
   "id": "a55861ea",
   "metadata": {},
   "source": [
    "# Select N Dates from stack\n",
    "\n",
    "To make sure there is weather model availability, we are going to truncate the stack to dates on or before `2022-03-01`."
   ]
  },
  {
   "cell_type": "code",
   "execution_count": 14,
   "id": "a2e91145",
   "metadata": {
    "ExecuteTime": {
     "end_time": "2023-03-23T18:01:50.765329Z",
     "start_time": "2023-03-23T18:01:50.715931Z"
    }
   },
   "outputs": [
    {
     "data": {
      "text/html": [
       "<div>\n",
       "<style scoped>\n",
       "    .dataframe tbody tr th:only-of-type {\n",
       "        vertical-align: middle;\n",
       "    }\n",
       "\n",
       "    .dataframe tbody tr th {\n",
       "        vertical-align: top;\n",
       "    }\n",
       "\n",
       "    .dataframe thead th {\n",
       "        text-align: right;\n",
       "    }\n",
       "</style>\n",
       "<table border=\"1\" class=\"dataframe\">\n",
       "  <thead>\n",
       "    <tr style=\"text-align: right;\">\n",
       "      <th></th>\n",
       "      <th>slc_id</th>\n",
       "      <th>start_time</th>\n",
       "      <th>stop_time</th>\n",
       "      <th>url</th>\n",
       "      <th>track_number</th>\n",
       "      <th>polarization</th>\n",
       "      <th>orbit</th>\n",
       "      <th>beam_mode</th>\n",
       "      <th>size_gb</th>\n",
       "      <th>stack_repeat_pass_id</th>\n",
       "      <th>repeat_pass_timestamp</th>\n",
       "      <th>geometry</th>\n",
       "    </tr>\n",
       "  </thead>\n",
       "  <tbody>\n",
       "    <tr>\n",
       "      <th>0</th>\n",
       "      <td>S1A_IW_SLC__1SDV_20220120T230542_20220120T2306...</td>\n",
       "      <td>2022-01-20 23:05:42+00:00</td>\n",
       "      <td>2022-01-20 23:06:09+00:00</td>\n",
       "      <td>https://datapool.asf.alaska.edu/SLC/SA/S1A_IW_...</td>\n",
       "      <td>4</td>\n",
       "      <td>VV+VH</td>\n",
       "      <td>41551</td>\n",
       "      <td>IW</td>\n",
       "      <td>3.521298</td>\n",
       "      <td>169</td>\n",
       "      <td>2022-01-20 00:00:00+00:00</td>\n",
       "      <td>POLYGON ((-77.79797 34.25223, -77.41985 32.622...</td>\n",
       "    </tr>\n",
       "    <tr>\n",
       "      <th>1</th>\n",
       "      <td>S1A_IW_SLC__1SDV_20220120T230607_20220120T2306...</td>\n",
       "      <td>2022-01-20 23:06:07+00:00</td>\n",
       "      <td>2022-01-20 23:06:35+00:00</td>\n",
       "      <td>https://datapool.asf.alaska.edu/SLC/SA/S1A_IW_...</td>\n",
       "      <td>4</td>\n",
       "      <td>VV+VH</td>\n",
       "      <td>41551</td>\n",
       "      <td>IW</td>\n",
       "      <td>4.154562</td>\n",
       "      <td>169</td>\n",
       "      <td>2022-01-20 00:00:00+00:00</td>\n",
       "      <td>POLYGON ((-78.16322 35.79635, -77.76650 34.117...</td>\n",
       "    </tr>\n",
       "    <tr>\n",
       "      <th>2</th>\n",
       "      <td>S1A_IW_SLC__1SDV_20220120T230632_20220120T2306...</td>\n",
       "      <td>2022-01-20 23:06:32+00:00</td>\n",
       "      <td>2022-01-20 23:06:59+00:00</td>\n",
       "      <td>https://datapool.asf.alaska.edu/SLC/SA/S1A_IW_...</td>\n",
       "      <td>4</td>\n",
       "      <td>VV+VH</td>\n",
       "      <td>41551</td>\n",
       "      <td>IW</td>\n",
       "      <td>4.352095</td>\n",
       "      <td>169</td>\n",
       "      <td>2022-01-20 00:00:00+00:00</td>\n",
       "      <td>POLYGON ((-78.52363 37.28969, -78.13271 35.668...</td>\n",
       "    </tr>\n",
       "    <tr>\n",
       "      <th>3</th>\n",
       "      <td>S1A_IW_SLC__1SDV_20220120T230657_20220120T2307...</td>\n",
       "      <td>2022-01-20 23:06:57+00:00</td>\n",
       "      <td>2022-01-20 23:07:24+00:00</td>\n",
       "      <td>https://datapool.asf.alaska.edu/SLC/SA/S1A_IW_...</td>\n",
       "      <td>4</td>\n",
       "      <td>VV+VH</td>\n",
       "      <td>41551</td>\n",
       "      <td>IW</td>\n",
       "      <td>4.416598</td>\n",
       "      <td>169</td>\n",
       "      <td>2022-01-20 00:00:00+00:00</td>\n",
       "      <td>POLYGON ((-78.89160 38.78209, -78.49246 37.162...</td>\n",
       "    </tr>\n",
       "    <tr>\n",
       "      <th>4</th>\n",
       "      <td>S1A_IW_SLC__1SDV_20220201T230541_20220201T2306...</td>\n",
       "      <td>2022-02-01 23:05:41+00:00</td>\n",
       "      <td>2022-02-01 23:06:08+00:00</td>\n",
       "      <td>https://datapool.asf.alaska.edu/SLC/SA/S1A_IW_...</td>\n",
       "      <td>4</td>\n",
       "      <td>VV+VH</td>\n",
       "      <td>41726</td>\n",
       "      <td>IW</td>\n",
       "      <td>3.685704</td>\n",
       "      <td>170</td>\n",
       "      <td>2022-02-01 00:00:00+00:00</td>\n",
       "      <td>POLYGON ((-77.79759 34.25279, -77.41953 32.623...</td>\n",
       "    </tr>\n",
       "  </tbody>\n",
       "</table>\n",
       "</div>"
      ],
      "text/plain": [
       "                                              slc_id  \\\n",
       "0  S1A_IW_SLC__1SDV_20220120T230542_20220120T2306...   \n",
       "1  S1A_IW_SLC__1SDV_20220120T230607_20220120T2306...   \n",
       "2  S1A_IW_SLC__1SDV_20220120T230632_20220120T2306...   \n",
       "3  S1A_IW_SLC__1SDV_20220120T230657_20220120T2307...   \n",
       "4  S1A_IW_SLC__1SDV_20220201T230541_20220201T2306...   \n",
       "\n",
       "                 start_time                 stop_time  \\\n",
       "0 2022-01-20 23:05:42+00:00 2022-01-20 23:06:09+00:00   \n",
       "1 2022-01-20 23:06:07+00:00 2022-01-20 23:06:35+00:00   \n",
       "2 2022-01-20 23:06:32+00:00 2022-01-20 23:06:59+00:00   \n",
       "3 2022-01-20 23:06:57+00:00 2022-01-20 23:07:24+00:00   \n",
       "4 2022-02-01 23:05:41+00:00 2022-02-01 23:06:08+00:00   \n",
       "\n",
       "                                                 url  track_number  \\\n",
       "0  https://datapool.asf.alaska.edu/SLC/SA/S1A_IW_...             4   \n",
       "1  https://datapool.asf.alaska.edu/SLC/SA/S1A_IW_...             4   \n",
       "2  https://datapool.asf.alaska.edu/SLC/SA/S1A_IW_...             4   \n",
       "3  https://datapool.asf.alaska.edu/SLC/SA/S1A_IW_...             4   \n",
       "4  https://datapool.asf.alaska.edu/SLC/SA/S1A_IW_...             4   \n",
       "\n",
       "  polarization  orbit beam_mode   size_gb  stack_repeat_pass_id  \\\n",
       "0        VV+VH  41551        IW  3.521298                   169   \n",
       "1        VV+VH  41551        IW  4.154562                   169   \n",
       "2        VV+VH  41551        IW  4.352095                   169   \n",
       "3        VV+VH  41551        IW  4.416598                   169   \n",
       "4        VV+VH  41726        IW  3.685704                   170   \n",
       "\n",
       "      repeat_pass_timestamp                                           geometry  \n",
       "0 2022-01-20 00:00:00+00:00  POLYGON ((-77.79797 34.25223, -77.41985 32.622...  \n",
       "1 2022-01-20 00:00:00+00:00  POLYGON ((-78.16322 35.79635, -77.76650 34.117...  \n",
       "2 2022-01-20 00:00:00+00:00  POLYGON ((-78.52363 37.28969, -78.13271 35.668...  \n",
       "3 2022-01-20 00:00:00+00:00  POLYGON ((-78.89160 38.78209, -78.49246 37.162...  \n",
       "4 2022-02-01 00:00:00+00:00  POLYGON ((-77.79759 34.25279, -77.41953 32.623...  "
      ]
     },
     "execution_count": 14,
     "metadata": {},
     "output_type": "execute_result"
    }
   ],
   "source": [
    "if AOI_NAME == 'Tibet':\n",
    "    N = 5\n",
    "else:\n",
    "    N = 3\n",
    "\n",
    "# Give ourselves 1 year buffer\n",
    "MAX_DATE = pd.Timestamp('2022-03-01', tz='UTC')\n",
    "df_stack_f = df_stack[df_stack.repeat_pass_timestamp <= MAX_DATE]\n",
    "\n",
    "dates = sorted(df_stack_f.repeat_pass_timestamp.unique(), reverse=True)\n",
    "df_stack_f = df_stack_f[df_stack_f.repeat_pass_timestamp >= dates[N]].reset_index(drop=True)\n",
    "df_stack_f.head()"
   ]
  },
  {
   "cell_type": "markdown",
   "id": "f658c827",
   "metadata": {},
   "source": [
    "# Generate Pairs"
   ]
  },
  {
   "cell_type": "code",
   "execution_count": 15,
   "id": "02fb0206",
   "metadata": {
    "ExecuteTime": {
     "end_time": "2023-03-23T18:01:51.072638Z",
     "start_time": "2023-03-23T18:01:50.767069Z"
    }
   },
   "outputs": [
    {
     "name": "stderr",
     "output_type": "stream",
     "text": [
      "Date Pairs: 100%|██████████████████████████████████████████████████████████████████████████████████████████████| 5/5 [00:00<00:00, 18.76it/s]\n"
     ]
    }
   ],
   "source": [
    "min_temporal_baseline = 0\n",
    "neighbors = 2\n",
    "\n",
    "data = enumerate_gunw_time_series(df_stack_f, \n",
    "                                  min_temporal_baseline, \n",
    "                                  n_secondary_scenes_per_ref=neighbors,\n",
    "                                  frames=frames \n",
    "                                 )"
   ]
  },
  {
   "cell_type": "code",
   "execution_count": 16,
   "id": "d8e5850f",
   "metadata": {
    "ExecuteTime": {
     "end_time": "2023-03-23T18:01:51.110436Z",
     "start_time": "2023-03-23T18:01:51.074405Z"
    }
   },
   "outputs": [
    {
     "data": {
      "text/plain": [
       "15"
      ]
     },
     "execution_count": 16,
     "metadata": {},
     "output_type": "execute_result"
    }
   ],
   "source": [
    "len(data)"
   ]
  },
  {
   "cell_type": "code",
   "execution_count": 17,
   "id": "8b4ca251",
   "metadata": {
    "ExecuteTime": {
     "end_time": "2023-03-23T18:01:51.149143Z",
     "start_time": "2023-03-23T18:01:51.112262Z"
    },
    "scrolled": false
   },
   "outputs": [
    {
     "data": {
      "text/plain": [
       "{'reference': ['S1A_IW_SLC__1SDV_20220225T230541_20220225T230608_042076_050335_D763',\n",
       "  'S1A_IW_SLC__1SDV_20220225T230606_20220225T230634_042076_050335_CE69'],\n",
       " 'secondary': ['S1A_IW_SLC__1SDV_20220213T230541_20220213T230608_041901_04FD2B_FE0C',\n",
       "  'S1A_IW_SLC__1SDV_20220213T230606_20220213T230634_041901_04FD2B_1CEA'],\n",
       " 'reference_date': Timestamp('2022-02-25 00:00:00+0000', tz='UTC'),\n",
       " 'secondary_date': Timestamp('2022-02-13 00:00:00+0000', tz='UTC'),\n",
       " 'frame_id': 492,\n",
       " 'geometry': <POLYGON Z ((-77.825 34.473 0, -78.064 35.483 0, -78.06 35.484 0, -78.061 35...>}"
      ]
     },
     "execution_count": 17,
     "metadata": {},
     "output_type": "execute_result"
    }
   ],
   "source": [
    "data[0]"
   ]
  },
  {
   "cell_type": "code",
   "execution_count": 18,
   "id": "88b487cb",
   "metadata": {
    "ExecuteTime": {
     "end_time": "2023-03-23T18:01:51.191044Z",
     "start_time": "2023-03-23T18:01:51.150948Z"
    }
   },
   "outputs": [
    {
     "data": {
      "image/svg+xml": [
       "<svg xmlns=\"http://www.w3.org/2000/svg\" xmlns:xlink=\"http://www.w3.org/1999/xlink\" width=\"100.0\" height=\"100.0\" viewBox=\"-78.1859872227687 34.20346668845718 3.3016470147548347 1.4083708008252458\" preserveAspectRatio=\"xMinYMin meet\"><g transform=\"matrix(1,0,0,-1,0,69.81530417773962)\"><path fill-rule=\"evenodd\" fill=\"#66cc99\" stroke=\"#555555\" stroke-width=\"0.0660329402950967\" opacity=\"0.6\" d=\"M -77.82534264540537,34.473324907422814 L -78.063704,35.482991 L -78.05981900616526,35.48360988997294 L -78.06123236980552,35.48955426651373 L -75.23894543420467,35.48955426651373 L -75.033926,34.468936 L -75.00662343078257,34.325749911225884 L -77.79075740826254,34.325749911225884 L -77.82534264540537,34.473324907422814 z\" /></g></svg>"
      ],
      "text/plain": [
       "<POLYGON Z ((-77.825 34.473 0, -78.064 35.483 0, -78.06 35.484 0, -78.061 35...>"
      ]
     },
     "execution_count": 18,
     "metadata": {},
     "output_type": "execute_result"
    }
   ],
   "source": [
    "data[0]['geometry']"
   ]
  },
  {
   "cell_type": "markdown",
   "id": "a69ca534",
   "metadata": {},
   "source": [
    "# Hyp3"
   ]
  },
  {
   "cell_type": "code",
   "execution_count": 19,
   "id": "dcc5809e",
   "metadata": {
    "ExecuteTime": {
     "end_time": "2023-03-23T18:01:51.230956Z",
     "start_time": "2023-03-23T18:01:51.192915Z"
    }
   },
   "outputs": [
    {
     "data": {
      "text/plain": [
       "'JOB_NAME: Norfolk_4_GMAO_0323'"
      ]
     },
     "execution_count": 19,
     "metadata": {},
     "output_type": "execute_result"
    }
   ],
   "source": [
    "TRACKS = \",\".join([str(t) for t in TRACK_DICT[AOI_NAME]])\n",
    "TODAY = datetime.datetime.now().date().strftime('%m%d')\n",
    "AOI_TOKEN = AOI_NAME.replace(' ', '-')\n",
    "JOB_NAME = '_'.join([AOI_TOKEN, TRACKS, WEATHER_MODEL, TODAY])\n",
    "f'JOB_NAME: {JOB_NAME}'"
   ]
  },
  {
   "cell_type": "code",
   "execution_count": 20,
   "id": "f1cc16df",
   "metadata": {
    "ExecuteTime": {
     "end_time": "2023-03-23T18:01:51.270846Z",
     "start_time": "2023-03-23T18:01:51.232628Z"
    }
   },
   "outputs": [
    {
     "data": {
      "text/plain": [
       "'JOB_NAME character length: 19'"
      ]
     },
     "execution_count": 20,
     "metadata": {},
     "output_type": "execute_result"
    }
   ],
   "source": [
    "f'JOB_NAME character length: {len(JOB_NAME)}'"
   ]
  },
  {
   "cell_type": "code",
   "execution_count": 21,
   "id": "2ce9417f",
   "metadata": {
    "ExecuteTime": {
     "end_time": "2023-03-23T18:01:51.308154Z",
     "start_time": "2023-03-23T18:01:51.272558Z"
    }
   },
   "outputs": [],
   "source": [
    "assert len(JOB_NAME) <= 30"
   ]
  },
  {
   "cell_type": "code",
   "execution_count": 22,
   "id": "7eba165c",
   "metadata": {
    "ExecuteTime": {
     "end_time": "2023-03-23T18:01:51.348200Z",
     "start_time": "2023-03-23T18:01:51.309871Z"
    }
   },
   "outputs": [
    {
     "data": {
      "text/plain": [
       "[{'granules': ['S1A_IW_SLC__1SDV_20220225T230541_20220225T230608_042076_050335_D763',\n",
       "   'S1A_IW_SLC__1SDV_20220225T230606_20220225T230634_042076_050335_CE69'],\n",
       "  'secondary_granules': ['S1A_IW_SLC__1SDV_20220213T230541_20220213T230608_041901_04FD2B_FE0C',\n",
       "   'S1A_IW_SLC__1SDV_20220213T230606_20220213T230634_041901_04FD2B_1CEA'],\n",
       "  'weather_model': 'GMAO',\n",
       "  'estimate_ionosphere_delay': True,\n",
       "  'compute_solid_earth_tide': True,\n",
       "  'frame_id': 492},\n",
       " {'granules': ['S1A_IW_SLC__1SDV_20220225T230606_20220225T230634_042076_050335_CE69',\n",
       "   'S1A_IW_SLC__1SDV_20220225T230632_20220225T230659_042076_050335_3D61'],\n",
       "  'secondary_granules': ['S1A_IW_SLC__1SDV_20220213T230606_20220213T230634_041901_04FD2B_1CEA',\n",
       "   'S1A_IW_SLC__1SDV_20220213T230632_20220213T230659_041901_04FD2B_8DB4'],\n",
       "  'weather_model': 'GMAO',\n",
       "  'estimate_ionosphere_delay': True,\n",
       "  'compute_solid_earth_tide': True,\n",
       "  'frame_id': 493}]"
      ]
     },
     "execution_count": 22,
     "metadata": {},
     "output_type": "execute_result"
    }
   ],
   "source": [
    "job_parameters =  [{'granules': ifg_data['reference'],\n",
    "                    'secondary_granules': ifg_data['secondary'],\n",
    "                    'weather_model': WEATHER_MODEL,\n",
    "                    'estimate_ionosphere_delay': True,\n",
    "                    'compute_solid_earth_tide': True,\n",
    "                    'frame_id': ifg_data['frame_id'],\n",
    "                     } for ifg_data in data]\n",
    "job_parameters[:2]"
   ]
  },
  {
   "cell_type": "code",
   "execution_count": 23,
   "id": "cd79c8c2",
   "metadata": {
    "ExecuteTime": {
     "end_time": "2023-03-23T18:01:51.387917Z",
     "start_time": "2023-03-23T18:01:51.350138Z"
    }
   },
   "outputs": [
    {
     "data": {
      "text/plain": [
       "[{'name': 'Norfolk_4_GMAO_0323',\n",
       "  'job_type': 'INSAR_ISCE_TEST',\n",
       "  'job_parameters': {'granules': ['S1A_IW_SLC__1SDV_20220225T230541_20220225T230608_042076_050335_D763',\n",
       "    'S1A_IW_SLC__1SDV_20220225T230606_20220225T230634_042076_050335_CE69'],\n",
       "   'secondary_granules': ['S1A_IW_SLC__1SDV_20220213T230541_20220213T230608_041901_04FD2B_FE0C',\n",
       "    'S1A_IW_SLC__1SDV_20220213T230606_20220213T230634_041901_04FD2B_1CEA'],\n",
       "   'weather_model': 'GMAO',\n",
       "   'estimate_ionosphere_delay': True,\n",
       "   'compute_solid_earth_tide': True,\n",
       "   'frame_id': 492}},\n",
       " {'name': 'Norfolk_4_GMAO_0323',\n",
       "  'job_type': 'INSAR_ISCE_TEST',\n",
       "  'job_parameters': {'granules': ['S1A_IW_SLC__1SDV_20220225T230606_20220225T230634_042076_050335_CE69',\n",
       "    'S1A_IW_SLC__1SDV_20220225T230632_20220225T230659_042076_050335_3D61'],\n",
       "   'secondary_granules': ['S1A_IW_SLC__1SDV_20220213T230606_20220213T230634_041901_04FD2B_1CEA',\n",
       "    'S1A_IW_SLC__1SDV_20220213T230632_20220213T230659_041901_04FD2B_8DB4'],\n",
       "   'weather_model': 'GMAO',\n",
       "   'estimate_ionosphere_delay': True,\n",
       "   'compute_solid_earth_tide': True,\n",
       "   'frame_id': 493}}]"
      ]
     },
     "execution_count": 23,
     "metadata": {},
     "output_type": "execute_result"
    }
   ],
   "source": [
    "job_dicts = [{'name': JOB_NAME,\n",
    "              # NOTE: we are still using the `dev` branch. Change this to \"INSAR_ISCE\" to use the `main` branch.\n",
    "              'job_type': 'INSAR_ISCE_TEST',\n",
    "              'job_parameters': parameters\n",
    "             }\n",
    "             for parameters in job_parameters]\n",
    "job_dicts[:2]"
   ]
  },
  {
   "cell_type": "code",
   "execution_count": 24,
   "id": "d6b386cd",
   "metadata": {
    "ExecuteTime": {
     "end_time": "2023-03-23T18:01:51.426088Z",
     "start_time": "2023-03-23T18:01:51.389613Z"
    }
   },
   "outputs": [
    {
     "data": {
      "text/plain": [
       "15"
      ]
     },
     "execution_count": 24,
     "metadata": {},
     "output_type": "execute_result"
    }
   ],
   "source": [
    "len(job_dicts)"
   ]
  },
  {
   "cell_type": "markdown",
   "id": "b31993d0",
   "metadata": {},
   "source": [
    "You may want to use `prompt=True` to toggle between Earthdata accounts."
   ]
  },
  {
   "cell_type": "code",
   "execution_count": 25,
   "id": "839b3d9d",
   "metadata": {
    "ExecuteTime": {
     "end_time": "2023-03-23T18:01:54.953277Z",
     "start_time": "2023-03-23T18:01:51.427689Z"
    }
   },
   "outputs": [],
   "source": [
    "import hyp3_sdk\n",
    "\n",
    "# uses .netrc; add `prompt=True` to prompt for credentials; \n",
    "hyp3_isce = hyp3_sdk.HyP3('https://hyp3-a19-jpl.asf.alaska.edu')"
   ]
  },
  {
   "cell_type": "markdown",
   "id": "0730d7d6",
   "metadata": {},
   "source": [
    "Uncomment this to submit jobs:"
   ]
  },
  {
   "cell_type": "code",
   "execution_count": 26,
   "id": "e3e98b8b",
   "metadata": {
    "ExecuteTime": {
     "end_time": "2023-03-23T18:01:54.990262Z",
     "start_time": "2023-03-23T18:01:54.955030Z"
    }
   },
   "outputs": [],
   "source": [
    "# submitted_jobs = hyp3_isce.submit_prepared_jobs(job_dicts[:])"
   ]
  },
  {
   "cell_type": "markdown",
   "id": "70cab955",
   "metadata": {},
   "source": [
    "These are useful snippets to inspect status and view metadata."
   ]
  },
  {
   "cell_type": "code",
   "execution_count": 27,
   "id": "aed6c60d",
   "metadata": {
    "ExecuteTime": {
     "end_time": "2023-03-23T18:01:55.286489Z",
     "start_time": "2023-03-23T18:01:54.992184Z"
    }
   },
   "outputs": [
    {
     "name": "stdout",
     "output_type": "stream",
     "text": [
      "0 HyP3 Jobs: 0 succeeded, 0 failed, 0 running, 0 pending.\n"
     ]
    }
   ],
   "source": [
    "jobs = hyp3_isce.find_jobs(name=JOB_NAME)\n",
    "print(jobs)"
   ]
  },
  {
   "cell_type": "code",
   "execution_count": 28,
   "id": "d6f2698c",
   "metadata": {
    "ExecuteTime": {
     "end_time": "2023-03-23T18:01:55.327608Z",
     "start_time": "2023-03-23T18:01:55.292151Z"
    }
   },
   "outputs": [],
   "source": [
    "# jobs[0].to_dict()"
   ]
  },
  {
   "cell_type": "code",
   "execution_count": 29,
   "id": "45615dbd",
   "metadata": {
    "ExecuteTime": {
     "end_time": "2023-03-23T18:01:55.365039Z",
     "start_time": "2023-03-23T18:01:55.329531Z"
    }
   },
   "outputs": [],
   "source": [
    "# successful_jobs = hyp3_isce.find_jobs(name=JOB_NAME, status_code='SUCCEEDED')\n",
    "# dicts_success = [j.to_dict() for j in successful_jobs]\n",
    "# dicts_success[:]"
   ]
  },
  {
   "cell_type": "code",
   "execution_count": 30,
   "id": "7612e29a",
   "metadata": {
    "ExecuteTime": {
     "end_time": "2023-03-23T18:01:55.401362Z",
     "start_time": "2023-03-23T18:01:55.366624Z"
    },
    "scrolled": true
   },
   "outputs": [],
   "source": [
    "# urls = [d['files'][0]['url'] for d in dicts_success]\n",
    "# urls"
   ]
  },
  {
   "cell_type": "code",
   "execution_count": 31,
   "id": "e1966468",
   "metadata": {
    "ExecuteTime": {
     "end_time": "2023-03-23T18:01:55.437876Z",
     "start_time": "2023-03-23T18:01:55.403049Z"
    }
   },
   "outputs": [],
   "source": [
    "# all_jobs = hyp3_isce.find_jobs(name=JOB_NAME)\n",
    "# dicts_all = [j.to_dict() for j in all_jobs]\n",
    "# dicts_all[:]"
   ]
  },
  {
   "cell_type": "markdown",
   "id": "f71dbc9d",
   "metadata": {},
   "source": [
    "# Failed Jobs and Resubmission"
   ]
  },
  {
   "cell_type": "code",
   "execution_count": 32,
   "id": "0589ccc5",
   "metadata": {
    "ExecuteTime": {
     "end_time": "2023-03-23T18:01:55.578981Z",
     "start_time": "2023-03-23T18:01:55.439731Z"
    }
   },
   "outputs": [
    {
     "data": {
      "text/plain": [
       "[]"
      ]
     },
     "execution_count": 32,
     "metadata": {},
     "output_type": "execute_result"
    }
   ],
   "source": [
    "failed_jobs = hyp3_isce.find_jobs(name=JOB_NAME, status_code='FAILED')\n",
    "dicts_failed = [j.to_dict() for j in failed_jobs]\n",
    "dicts_failed[:]"
   ]
  },
  {
   "cell_type": "code",
   "execution_count": 33,
   "id": "ca5fd081",
   "metadata": {
    "ExecuteTime": {
     "end_time": "2023-03-23T18:01:55.616377Z",
     "start_time": "2023-03-23T18:01:55.580507Z"
    }
   },
   "outputs": [],
   "source": [
    "JOB_NAME_RESUBMIT = JOB_NAME + '_v2'"
   ]
  },
  {
   "cell_type": "code",
   "execution_count": 34,
   "id": "a8cd5d3b",
   "metadata": {
    "ExecuteTime": {
     "end_time": "2023-03-23T18:01:55.655212Z",
     "start_time": "2023-03-23T18:01:55.618067Z"
    }
   },
   "outputs": [
    {
     "data": {
      "text/plain": [
       "[]"
      ]
     },
     "execution_count": 34,
     "metadata": {},
     "output_type": "execute_result"
    }
   ],
   "source": [
    "job_dicts_resubmit = [{'name': JOB_NAME_RESUBMIT,\n",
    "                       # NOTE: we are still using the `dev` branch. Change this to \"INSAR_ISCE\" to use the `main` branch.\n",
    "                       'job_type': 'INSAR_ISCE_TEST',\n",
    "                      'job_parameters': d['job_parameters']\n",
    "                      }\n",
    "                     for d in dicts_failed[:1]]\n",
    "job_dicts_resubmit"
   ]
  },
  {
   "cell_type": "code",
   "execution_count": 35,
   "id": "6d3fbb0f",
   "metadata": {
    "ExecuteTime": {
     "end_time": "2023-03-23T18:01:55.693284Z",
     "start_time": "2023-03-23T18:01:55.656950Z"
    }
   },
   "outputs": [],
   "source": [
    "# submitted_jobs = hyp3_isce.submit_prepared_jobs(job_dicts_resubmit[:])"
   ]
  },
  {
   "cell_type": "code",
   "execution_count": 36,
   "id": "6a15f78c",
   "metadata": {
    "ExecuteTime": {
     "end_time": "2023-03-23T18:01:55.826361Z",
     "start_time": "2023-03-23T18:01:55.694999Z"
    }
   },
   "outputs": [
    {
     "name": "stdout",
     "output_type": "stream",
     "text": [
      "0 HyP3 Jobs: 0 succeeded, 0 failed, 0 running, 0 pending.\n"
     ]
    }
   ],
   "source": [
    "jobs_v2 = hyp3_isce.find_jobs(name=JOB_NAME_RESUBMIT)\n",
    "print(jobs_v2)"
   ]
  }
 ],
 "metadata": {
  "kernelspec": {
   "display_name": "s1-frame-enumerator",
   "language": "python",
   "name": "s1-frame-enumerator"
  },
  "language_info": {
   "codemirror_mode": {
    "name": "ipython",
    "version": 3
   },
   "file_extension": ".py",
   "mimetype": "text/x-python",
   "name": "python",
   "nbconvert_exporter": "python",
   "pygments_lexer": "ipython3",
   "version": "3.11.0"
  }
 },
 "nbformat": 4,
 "nbformat_minor": 5
}
