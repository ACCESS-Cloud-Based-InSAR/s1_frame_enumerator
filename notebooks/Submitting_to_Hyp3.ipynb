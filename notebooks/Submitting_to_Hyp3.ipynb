{
 "cells": [
  {
   "cell_type": "markdown",
   "id": "61d520ce",
   "metadata": {},
   "source": [
    "Frame enumuration and submission to Hyp3 with Tropo, Iono, SET corrections."
   ]
  },
  {
   "cell_type": "code",
   "execution_count": 1,
   "id": "0bd2d25a",
   "metadata": {
    "ExecuteTime": {
     "end_time": "2023-03-22T00:30:39.442940Z",
     "start_time": "2023-03-22T00:30:39.416282Z"
    }
   },
   "outputs": [],
   "source": [
    "%load_ext autoreload\n",
    "%autoreload 2"
   ]
  },
  {
   "cell_type": "code",
   "execution_count": 2,
   "id": "756918c1",
   "metadata": {
    "ExecuteTime": {
     "end_time": "2023-03-22T00:30:41.294748Z",
     "start_time": "2023-03-22T00:30:39.445109Z"
    }
   },
   "outputs": [],
   "source": [
    "from s1_frame_enumerator import (get_s1_stack, \n",
    "                                 filter_s1_stack_by_geometric_coverage_per_pass, \n",
    "                                 get_global_s1_frames, \n",
    "                                 get_overlapping_s1_frames, \n",
    "                                 enumerate_dates, \n",
    "                                 frames2gdf, \n",
    "                                 enumerate_gunw_time_series)\n",
    "from shapely.geometry import Point\n",
    "import geopandas as gpd\n",
    "from rasterio.crs import CRS\n",
    "import matplotlib.pyplot as plt\n",
    "import warnings\n",
    "import json\n",
    "import pandas as pd\n",
    "import datetime"
   ]
  },
  {
   "cell_type": "code",
   "execution_count": 3,
   "id": "777b4285",
   "metadata": {
    "ExecuteTime": {
     "end_time": "2023-03-22T00:30:41.331180Z",
     "start_time": "2023-03-22T00:30:41.296470Z"
    }
   },
   "outputs": [],
   "source": [
    "AOI_NAME = 'Aleutian' #'Los Angeles' # 'Hawaii'\n",
    "WEATHER_MODEL = 'GMAO'"
   ]
  },
  {
   "cell_type": "code",
   "execution_count": 4,
   "id": "f7be2e2b",
   "metadata": {
    "ExecuteTime": {
     "end_time": "2023-03-22T00:30:41.369544Z",
     "start_time": "2023-03-22T00:30:41.333708Z"
    }
   },
   "outputs": [],
   "source": [
    "if WEATHER_MODEL == 'HRRR':\n",
    "    assert 'Los-Angeles' in AOI_NAME"
   ]
  },
  {
   "cell_type": "code",
   "execution_count": 5,
   "id": "1687232a",
   "metadata": {
    "ExecuteTime": {
     "end_time": "2023-03-22T00:30:41.409626Z",
     "start_time": "2023-03-22T00:30:41.371258Z"
    }
   },
   "outputs": [],
   "source": [
    "GEO_DICT = {'Los-Angeles-0':  Point(-118, 34).buffer(1),\n",
    "            'Los-Angeles-1':  Point(-118, 34).buffer(1),\n",
    "            'Hawaii-0': Point(-155.5, 19.5).buffer(1),\n",
    "            'Hawaii-1': Point(-155.5, 19.5).buffer(1),\n",
    "            'Norfolk': Point(-76.5, 36.4).buffer(1),\n",
    "            'Somalia': Point(41, 1.5).buffer(1),\n",
    "            'Tibet': Point(92, 41.5).buffer(1),\n",
    "            'Norway': Point(13, 65).buffer(1),\n",
    "            'Aleutian': Point(-177, 52).buffer(.25),\n",
    "            }\n",
    "\n",
    "TRACK_DICT = {'Los-Angeles-0': [64],\n",
    "              'Los-Angeles-1': [71],\n",
    "              'Hawaii-0': [124],\n",
    "              'Hawaii-1': [87],\n",
    "              'Norfolk': [4],\n",
    "              'Somalia': [87],\n",
    "              'Tibet': [48],\n",
    "              'Norway': [37],\n",
    "              'Aleutian': [59],\n",
    "              }"
   ]
  },
  {
   "cell_type": "code",
   "execution_count": 6,
   "id": "587c8c37",
   "metadata": {
    "ExecuteTime": {
     "end_time": "2023-03-22T00:30:41.449493Z",
     "start_time": "2023-03-22T00:30:41.411314Z"
    }
   },
   "outputs": [],
   "source": [
    "aoi_geo = GEO_DICT[AOI_NAME]\n",
    "track_numbers = TRACK_DICT[AOI_NAME]\n",
    "\n",
    "df_aoi = gpd.GeoDataFrame(geometry=[aoi_geo], crs=CRS.from_epsg(4326))"
   ]
  },
  {
   "cell_type": "code",
   "execution_count": 7,
   "id": "f50578b5",
   "metadata": {
    "ExecuteTime": {
     "end_time": "2023-03-22T00:30:50.274994Z",
     "start_time": "2023-03-22T00:30:41.450725Z"
    }
   },
   "outputs": [],
   "source": [
    "frames = get_overlapping_s1_frames(aoi_geo, track_numbers=track_numbers)"
   ]
  },
  {
   "cell_type": "code",
   "execution_count": 8,
   "id": "63ad72b8",
   "metadata": {
    "ExecuteTime": {
     "end_time": "2023-03-22T00:30:50.313364Z",
     "start_time": "2023-03-22T00:30:50.276659Z"
    }
   },
   "outputs": [],
   "source": [
    "# There will be lots of ways to do this more efficiently i.e. only include frames with overlap of a land mask\n",
    "# Even to be more confident would likely want some percentage\n",
    "# Currently, we just shrunk our AOI and excluded a frame\n",
    "if AOI_NAME == 'Aleutian':\n",
    "    frames = list(filter(lambda f: f.frame_id!= 9101, frames))"
   ]
  },
  {
   "cell_type": "code",
   "execution_count": 9,
   "id": "f3634314",
   "metadata": {
    "ExecuteTime": {
     "end_time": "2023-03-22T00:30:50.362618Z",
     "start_time": "2023-03-22T00:30:50.315201Z"
    }
   },
   "outputs": [
    {
     "data": {
      "text/html": [
       "<div>\n",
       "<style scoped>\n",
       "    .dataframe tbody tr th:only-of-type {\n",
       "        vertical-align: middle;\n",
       "    }\n",
       "\n",
       "    .dataframe tbody tr th {\n",
       "        vertical-align: top;\n",
       "    }\n",
       "\n",
       "    .dataframe thead th {\n",
       "        text-align: right;\n",
       "    }\n",
       "</style>\n",
       "<table border=\"1\" class=\"dataframe\">\n",
       "  <thead>\n",
       "    <tr style=\"text-align: right;\">\n",
       "      <th></th>\n",
       "      <th>frame_id</th>\n",
       "      <th>hemisphere</th>\n",
       "      <th>track_number_min</th>\n",
       "      <th>track_number_max</th>\n",
       "      <th>geometry</th>\n",
       "    </tr>\n",
       "  </thead>\n",
       "  <tbody>\n",
       "    <tr>\n",
       "      <th>0</th>\n",
       "      <td>9102</td>\n",
       "      <td>None</td>\n",
       "      <td>59</td>\n",
       "      <td>59</td>\n",
       "      <td>POLYGON Z ((-179.25232 51.11341 0.00000, -179....</td>\n",
       "    </tr>\n",
       "  </tbody>\n",
       "</table>\n",
       "</div>"
      ],
      "text/plain": [
       "   frame_id hemisphere  track_number_min  track_number_max  \\\n",
       "0      9102       None                59                59   \n",
       "\n",
       "                                            geometry  \n",
       "0  POLYGON Z ((-179.25232 51.11341 0.00000, -179....  "
      ]
     },
     "execution_count": 9,
     "metadata": {},
     "output_type": "execute_result"
    }
   ],
   "source": [
    "df_frames_all = frames2gdf(frames)\n",
    "df_frames_all.head()"
   ]
  },
  {
   "cell_type": "code",
   "execution_count": 10,
   "id": "8556da14",
   "metadata": {
    "ExecuteTime": {
     "end_time": "2023-03-22T00:30:50.585894Z",
     "start_time": "2023-03-22T00:30:50.366487Z"
    }
   },
   "outputs": [
    {
     "data": {
      "text/plain": [
       "<Axes: >"
      ]
     },
     "execution_count": 10,
     "metadata": {},
     "output_type": "execute_result"
    },
    {
     "data": {
      "image/png": "[encoded data removed]",
      "text/plain": [
       "<Figure size 640x480 with 1 Axes>"
      ]
     },
     "metadata": {},
     "output_type": "display_data"
    }
   ],
   "source": [
    "df_frames_all.plot()"
   ]
  },
  {
   "cell_type": "code",
   "execution_count": 11,
   "id": "ba8524af",
   "metadata": {
    "ExecuteTime": {
     "end_time": "2023-03-22T00:30:50.943689Z",
     "start_time": "2023-03-22T00:30:50.588526Z"
    }
   },
   "outputs": [
    {
     "data": {
      "text/plain": [
       "(50.094426525795875, 53.25164802620814)"
      ]
     },
     "execution_count": 11,
     "metadata": {},
     "output_type": "execute_result"
    },
    {
     "data": {
      "image/png": "[encoded data removed]",
      "text/plain": [
       "<Figure size 640x480 with 1 Axes>"
      ]
     },
     "metadata": {},
     "output_type": "display_data"
    }
   ],
   "source": [
    "fig, ax = plt.subplots()\n",
    "df_world = gpd.read_file(gpd.datasets.get_path('naturalearth_lowres'))\n",
    "df_world.boundary.plot(ax=ax)\n",
    "df_frames_by_track = df_frames_all.dissolve(by='track_number_min').reset_index(drop=False)\n",
    "df_frames_by_track.plot(ax=ax, \n",
    "                        column='track_number_min',\n",
    "                        categorical=True,\n",
    "                        alpha=.25, \n",
    "                        legend=True)\n",
    "df_aoi.boundary.plot(ax=ax, edgecolor='black')\n",
    "xmin, ymin, xmax, ymax = df_frames_by_track.total_bounds\n",
    "ax.set_xlim(xmin - 1, xmax + 1)\n",
    "ax.set_ylim(ymin - 1, ymax + 1)"
   ]
  },
  {
   "cell_type": "code",
   "execution_count": 12,
   "id": "5b3e3fe3",
   "metadata": {
    "ExecuteTime": {
     "end_time": "2023-03-22T00:30:51.298837Z",
     "start_time": "2023-03-22T00:30:50.945531Z"
    }
   },
   "outputs": [
    {
     "data": {
      "text/plain": [
       "(50.094426525795875, 53.25164802620814)"
      ]
     },
     "execution_count": 12,
     "metadata": {},
     "output_type": "execute_result"
    },
    {
     "data": {
      "image/png": "[encoded data removed]",
      "text/plain": [
       "<Figure size 1000x1000 with 1 Axes>"
      ]
     },
     "metadata": {},
     "output_type": "display_data"
    }
   ],
   "source": [
    "fig, ax = plt.subplots(figsize=(10, 10))\n",
    "df_world = gpd.read_file(gpd.datasets.get_path('naturalearth_lowres'))\n",
    "df_world.boundary.plot(ax=ax)\n",
    "df_frames_all.plot(ax=ax, \n",
    "                   column='frame_id', \n",
    "                   alpha=.25,\n",
    "                   categorical=True,\n",
    "                   legend=True)\n",
    "df_aoi.boundary.plot(ax=ax, edgecolor='black')\n",
    "\n",
    "xmin, ymin, xmax, ymax = df_frames_by_track.total_bounds\n",
    "ax.set_xlim(xmin - 1, xmax + 1)\n",
    "ax.set_ylim(ymin - 1, ymax + 1)"
   ]
  },
  {
   "cell_type": "markdown",
   "id": "425464a2",
   "metadata": {},
   "source": [
    "# Get Stack from Frame\n",
    "\n",
    "Here a stack is a list of images with metadata and extents. We note the stack here is not arbitrarily constructed and at some point might be nice to create a simple class to encapsulate it. However, here a stack is one that can be organized to do interferometry over the frames.\n",
    "\n",
    "1. Per pass coverage $\\geq 80$% as it pertains to the frame's coverage geometry\n",
    "2. Contiguous coverage through frames (determined as Polygon object)\n",
    "\n",
    "Requires:\n",
    "\n",
    "1. Frames to be contiguous (otherwise 2. does not make sense)\n",
    "2. Requires single track or two sequential tracks (we only check if the track numbers are sequential)"
   ]
  },
  {
   "cell_type": "code",
   "execution_count": 13,
   "id": "5704f85b",
   "metadata": {
    "ExecuteTime": {
     "end_time": "2023-03-22T00:30:58.111919Z",
     "start_time": "2023-03-22T00:30:51.300671Z"
    }
   },
   "outputs": [
    {
     "name": "stderr",
     "output_type": "stream",
     "text": [
      "Downloading stack from 1 frame geometries\n"
     ]
    },
    {
     "data": {
      "text/html": [
       "<div>\n",
       "<style scoped>\n",
       "    .dataframe tbody tr th:only-of-type {\n",
       "        vertical-align: middle;\n",
       "    }\n",
       "\n",
       "    .dataframe tbody tr th {\n",
       "        vertical-align: top;\n",
       "    }\n",
       "\n",
       "    .dataframe thead th {\n",
       "        text-align: right;\n",
       "    }\n",
       "</style>\n",
       "<table border=\"1\" class=\"dataframe\">\n",
       "  <thead>\n",
       "    <tr style=\"text-align: right;\">\n",
       "      <th></th>\n",
       "      <th>slc_id</th>\n",
       "      <th>start_time</th>\n",
       "      <th>stop_time</th>\n",
       "      <th>url</th>\n",
       "      <th>track_number</th>\n",
       "      <th>polarization</th>\n",
       "      <th>orbit</th>\n",
       "      <th>beam_mode</th>\n",
       "      <th>size_gb</th>\n",
       "      <th>stack_repeat_pass_id</th>\n",
       "      <th>repeat_pass_timestamp</th>\n",
       "      <th>geometry</th>\n",
       "    </tr>\n",
       "  </thead>\n",
       "  <tbody>\n",
       "    <tr>\n",
       "      <th>0</th>\n",
       "      <td>S1B_IW_SLC__1SSV_20161016T180136_20161016T1802...</td>\n",
       "      <td>2016-10-16 18:01:36+00:00</td>\n",
       "      <td>2016-10-16 18:02:06+00:00</td>\n",
       "      <td>https://datapool.asf.alaska.edu/SLC/SB/S1B_IW_...</td>\n",
       "      <td>59</td>\n",
       "      <td>VV</td>\n",
       "      <td>2535</td>\n",
       "      <td>IW</td>\n",
       "      <td>2.253735</td>\n",
       "      <td>7</td>\n",
       "      <td>2016-10-16 00:00:00+00:00</td>\n",
       "      <td>POLYGON ((-175.77722 50.56355, -175.19310 52.3...</td>\n",
       "    </tr>\n",
       "    <tr>\n",
       "      <th>1</th>\n",
       "      <td>S1B_IW_SLC__1SSV_20161109T180136_20161109T1802...</td>\n",
       "      <td>2016-11-09 18:01:36+00:00</td>\n",
       "      <td>2016-11-09 18:02:06+00:00</td>\n",
       "      <td>https://datapool.asf.alaska.edu/SLC/SB/S1B_IW_...</td>\n",
       "      <td>59</td>\n",
       "      <td>VV</td>\n",
       "      <td>2885</td>\n",
       "      <td>IW</td>\n",
       "      <td>2.591868</td>\n",
       "      <td>8</td>\n",
       "      <td>2016-11-09 00:00:00+00:00</td>\n",
       "      <td>POLYGON ((-175.77622 50.56342, -175.19191 52.3...</td>\n",
       "    </tr>\n",
       "    <tr>\n",
       "      <th>2</th>\n",
       "      <td>S1B_IW_SLC__1SSV_20161203T180135_20161203T1802...</td>\n",
       "      <td>2016-12-03 18:01:35+00:00</td>\n",
       "      <td>2016-12-03 18:02:05+00:00</td>\n",
       "      <td>https://datapool.asf.alaska.edu/SLC/SB/S1B_IW_...</td>\n",
       "      <td>59</td>\n",
       "      <td>VV</td>\n",
       "      <td>3235</td>\n",
       "      <td>IW</td>\n",
       "      <td>2.673943</td>\n",
       "      <td>9</td>\n",
       "      <td>2016-12-03 00:00:00+00:00</td>\n",
       "      <td>POLYGON ((-175.19183 52.34723, -178.85074 52.7...</td>\n",
       "    </tr>\n",
       "    <tr>\n",
       "      <th>3</th>\n",
       "      <td>S1B_IW_SLC__1SSV_20161227T180135_20161227T1802...</td>\n",
       "      <td>2016-12-27 18:01:35+00:00</td>\n",
       "      <td>2016-12-27 18:02:04+00:00</td>\n",
       "      <td>https://datapool.asf.alaska.edu/SLC/SB/S1B_IW_...</td>\n",
       "      <td>59</td>\n",
       "      <td>VV</td>\n",
       "      <td>3585</td>\n",
       "      <td>IW</td>\n",
       "      <td>2.770986</td>\n",
       "      <td>10</td>\n",
       "      <td>2016-12-27 00:00:00+00:00</td>\n",
       "      <td>POLYGON ((-175.19333 52.34503, -178.85202 52.7...</td>\n",
       "    </tr>\n",
       "    <tr>\n",
       "      <th>4</th>\n",
       "      <td>S1B_IW_SLC__1SSV_20170120T180133_20170120T1802...</td>\n",
       "      <td>2017-01-20 18:01:33+00:00</td>\n",
       "      <td>2017-01-20 18:02:02+00:00</td>\n",
       "      <td>https://datapool.asf.alaska.edu/SLC/SB/S1B_IW_...</td>\n",
       "      <td>59</td>\n",
       "      <td>VV</td>\n",
       "      <td>3935</td>\n",
       "      <td>IW</td>\n",
       "      <td>2.529571</td>\n",
       "      <td>11</td>\n",
       "      <td>2017-01-20 00:00:00+00:00</td>\n",
       "      <td>POLYGON ((-175.19035 52.34661, -178.84909 52.7...</td>\n",
       "    </tr>\n",
       "  </tbody>\n",
       "</table>\n",
       "</div>"
      ],
      "text/plain": [
       "                                              slc_id  \\\n",
       "0  S1B_IW_SLC__1SSV_20161016T180136_20161016T1802...   \n",
       "1  S1B_IW_SLC__1SSV_20161109T180136_20161109T1802...   \n",
       "2  S1B_IW_SLC__1SSV_20161203T180135_20161203T1802...   \n",
       "3  S1B_IW_SLC__1SSV_20161227T180135_20161227T1802...   \n",
       "4  S1B_IW_SLC__1SSV_20170120T180133_20170120T1802...   \n",
       "\n",
       "                 start_time                 stop_time  \\\n",
       "0 2016-10-16 18:01:36+00:00 2016-10-16 18:02:06+00:00   \n",
       "1 2016-11-09 18:01:36+00:00 2016-11-09 18:02:06+00:00   \n",
       "2 2016-12-03 18:01:35+00:00 2016-12-03 18:02:05+00:00   \n",
       "3 2016-12-27 18:01:35+00:00 2016-12-27 18:02:04+00:00   \n",
       "4 2017-01-20 18:01:33+00:00 2017-01-20 18:02:02+00:00   \n",
       "\n",
       "                                                 url  track_number  \\\n",
       "0  https://datapool.asf.alaska.edu/SLC/SB/S1B_IW_...            59   \n",
       "1  https://datapool.asf.alaska.edu/SLC/SB/S1B_IW_...            59   \n",
       "2  https://datapool.asf.alaska.edu/SLC/SB/S1B_IW_...            59   \n",
       "3  https://datapool.asf.alaska.edu/SLC/SB/S1B_IW_...            59   \n",
       "4  https://datapool.asf.alaska.edu/SLC/SB/S1B_IW_...            59   \n",
       "\n",
       "  polarization  orbit beam_mode   size_gb  stack_repeat_pass_id  \\\n",
       "0           VV   2535        IW  2.253735                     7   \n",
       "1           VV   2885        IW  2.591868                     8   \n",
       "2           VV   3235        IW  2.673943                     9   \n",
       "3           VV   3585        IW  2.770986                    10   \n",
       "4           VV   3935        IW  2.529571                    11   \n",
       "\n",
       "      repeat_pass_timestamp                                           geometry  \n",
       "0 2016-10-16 00:00:00+00:00  POLYGON ((-175.77722 50.56355, -175.19310 52.3...  \n",
       "1 2016-11-09 00:00:00+00:00  POLYGON ((-175.77622 50.56342, -175.19191 52.3...  \n",
       "2 2016-12-03 00:00:00+00:00  POLYGON ((-175.19183 52.34723, -178.85074 52.7...  \n",
       "3 2016-12-27 00:00:00+00:00  POLYGON ((-175.19333 52.34503, -178.85202 52.7...  \n",
       "4 2017-01-20 00:00:00+00:00  POLYGON ((-175.19035 52.34661, -178.84909 52.7...  "
      ]
     },
     "execution_count": 13,
     "metadata": {},
     "output_type": "execute_result"
    }
   ],
   "source": [
    "df_stack = get_s1_stack(frames)\n",
    "df_stack.head()"
   ]
  },
  {
   "cell_type": "markdown",
   "id": "a55861ea",
   "metadata": {},
   "source": [
    "# Select N Dates from stack\n",
    "\n",
    "To make sure there is weather model availability, we are going to truncate the stack to dates on or before `2022-03-01`."
   ]
  },
  {
   "cell_type": "code",
   "execution_count": 14,
   "id": "a2e91145",
   "metadata": {
    "ExecuteTime": {
     "end_time": "2023-03-22T00:30:58.171078Z",
     "start_time": "2023-03-22T00:30:58.114404Z"
    }
   },
   "outputs": [
    {
     "data": {
      "text/html": [
       "<div>\n",
       "<style scoped>\n",
       "    .dataframe tbody tr th:only-of-type {\n",
       "        vertical-align: middle;\n",
       "    }\n",
       "\n",
       "    .dataframe tbody tr th {\n",
       "        vertical-align: top;\n",
       "    }\n",
       "\n",
       "    .dataframe thead th {\n",
       "        text-align: right;\n",
       "    }\n",
       "</style>\n",
       "<table border=\"1\" class=\"dataframe\">\n",
       "  <thead>\n",
       "    <tr style=\"text-align: right;\">\n",
       "      <th></th>\n",
       "      <th>slc_id</th>\n",
       "      <th>start_time</th>\n",
       "      <th>stop_time</th>\n",
       "      <th>url</th>\n",
       "      <th>track_number</th>\n",
       "      <th>polarization</th>\n",
       "      <th>orbit</th>\n",
       "      <th>beam_mode</th>\n",
       "      <th>size_gb</th>\n",
       "      <th>stack_repeat_pass_id</th>\n",
       "      <th>repeat_pass_timestamp</th>\n",
       "      <th>geometry</th>\n",
       "    </tr>\n",
       "  </thead>\n",
       "  <tbody>\n",
       "    <tr>\n",
       "      <th>0</th>\n",
       "      <td>S1A_IW_SLC__1SDV_20170619T180219_20170619T1802...</td>\n",
       "      <td>2017-06-19 18:02:19+00:00</td>\n",
       "      <td>2017-06-19 18:02:49+00:00</td>\n",
       "      <td>https://datapool.asf.alaska.edu/SLC/SA/S1A_IW_...</td>\n",
       "      <td>59</td>\n",
       "      <td>VV+VH</td>\n",
       "      <td>17106</td>\n",
       "      <td>IW</td>\n",
       "      <td>4.279134</td>\n",
       "      <td>21</td>\n",
       "      <td>2017-06-19 00:00:00+00:00</td>\n",
       "      <td>POLYGON ((-175.19369 52.34633, -178.85167 52.7...</td>\n",
       "    </tr>\n",
       "    <tr>\n",
       "      <th>1</th>\n",
       "      <td>S1A_IW_SLC__1SDV_20170701T180219_20170701T1802...</td>\n",
       "      <td>2017-07-01 18:02:19+00:00</td>\n",
       "      <td>2017-07-01 18:02:49+00:00</td>\n",
       "      <td>https://datapool.asf.alaska.edu/SLC/SA/S1A_IW_...</td>\n",
       "      <td>59</td>\n",
       "      <td>VV+VH</td>\n",
       "      <td>17281</td>\n",
       "      <td>IW</td>\n",
       "      <td>4.290374</td>\n",
       "      <td>22</td>\n",
       "      <td>2017-07-01 00:00:00+00:00</td>\n",
       "      <td>POLYGON ((-175.19292 52.34592, -178.85089 52.7...</td>\n",
       "    </tr>\n",
       "    <tr>\n",
       "      <th>2</th>\n",
       "      <td>S1A_IW_SLC__1SDV_20170713T180220_20170713T1802...</td>\n",
       "      <td>2017-07-13 18:02:20+00:00</td>\n",
       "      <td>2017-07-13 18:02:50+00:00</td>\n",
       "      <td>https://datapool.asf.alaska.edu/SLC/SA/S1A_IW_...</td>\n",
       "      <td>59</td>\n",
       "      <td>VV+VH</td>\n",
       "      <td>17456</td>\n",
       "      <td>IW</td>\n",
       "      <td>4.301014</td>\n",
       "      <td>23</td>\n",
       "      <td>2017-07-13 00:00:00+00:00</td>\n",
       "      <td>POLYGON ((-175.19328 52.34641, -178.85132 52.7...</td>\n",
       "    </tr>\n",
       "    <tr>\n",
       "      <th>3</th>\n",
       "      <td>S1A_IW_SLC__1SDV_20180403T180221_20180403T1802...</td>\n",
       "      <td>2018-04-03 18:02:21+00:00</td>\n",
       "      <td>2018-04-03 18:02:51+00:00</td>\n",
       "      <td>https://datapool.asf.alaska.edu/SLC/SA/S1A_IW_...</td>\n",
       "      <td>59</td>\n",
       "      <td>VV+VH</td>\n",
       "      <td>21306</td>\n",
       "      <td>IW</td>\n",
       "      <td>4.387327</td>\n",
       "      <td>44</td>\n",
       "      <td>2018-04-03 00:00:00+00:00</td>\n",
       "      <td>POLYGON ((-175.77760 50.56439, -175.19341 52.3...</td>\n",
       "    </tr>\n",
       "  </tbody>\n",
       "</table>\n",
       "</div>"
      ],
      "text/plain": [
       "                                              slc_id  \\\n",
       "0  S1A_IW_SLC__1SDV_20170619T180219_20170619T1802...   \n",
       "1  S1A_IW_SLC__1SDV_20170701T180219_20170701T1802...   \n",
       "2  S1A_IW_SLC__1SDV_20170713T180220_20170713T1802...   \n",
       "3  S1A_IW_SLC__1SDV_20180403T180221_20180403T1802...   \n",
       "\n",
       "                 start_time                 stop_time  \\\n",
       "0 2017-06-19 18:02:19+00:00 2017-06-19 18:02:49+00:00   \n",
       "1 2017-07-01 18:02:19+00:00 2017-07-01 18:02:49+00:00   \n",
       "2 2017-07-13 18:02:20+00:00 2017-07-13 18:02:50+00:00   \n",
       "3 2018-04-03 18:02:21+00:00 2018-04-03 18:02:51+00:00   \n",
       "\n",
       "                                                 url  track_number  \\\n",
       "0  https://datapool.asf.alaska.edu/SLC/SA/S1A_IW_...            59   \n",
       "1  https://datapool.asf.alaska.edu/SLC/SA/S1A_IW_...            59   \n",
       "2  https://datapool.asf.alaska.edu/SLC/SA/S1A_IW_...            59   \n",
       "3  https://datapool.asf.alaska.edu/SLC/SA/S1A_IW_...            59   \n",
       "\n",
       "  polarization  orbit beam_mode   size_gb  stack_repeat_pass_id  \\\n",
       "0        VV+VH  17106        IW  4.279134                    21   \n",
       "1        VV+VH  17281        IW  4.290374                    22   \n",
       "2        VV+VH  17456        IW  4.301014                    23   \n",
       "3        VV+VH  21306        IW  4.387327                    44   \n",
       "\n",
       "      repeat_pass_timestamp                                           geometry  \n",
       "0 2017-06-19 00:00:00+00:00  POLYGON ((-175.19369 52.34633, -178.85167 52.7...  \n",
       "1 2017-07-01 00:00:00+00:00  POLYGON ((-175.19292 52.34592, -178.85089 52.7...  \n",
       "2 2017-07-13 00:00:00+00:00  POLYGON ((-175.19328 52.34641, -178.85132 52.7...  \n",
       "3 2018-04-03 00:00:00+00:00  POLYGON ((-175.77760 50.56439, -175.19341 52.3...  "
      ]
     },
     "execution_count": 14,
     "metadata": {},
     "output_type": "execute_result"
    }
   ],
   "source": [
    "if AOI_NAME == 'Tibet':\n",
    "    N = 5\n",
    "else:\n",
    "    N = 3\n",
    "\n",
    "# Give ourselves 1 year buffer\n",
    "MAX_DATE = pd.Timestamp('2022-03-01', tz='UTC')\n",
    "df_stack_f = df_stack[df_stack.repeat_pass_timestamp <= MAX_DATE]\n",
    "\n",
    "dates = sorted(df_stack_f.repeat_pass_timestamp.unique(), reverse=True)\n",
    "df_stack_f = df_stack_f[df_stack_f.repeat_pass_timestamp >= dates[N]].reset_index(drop=True)\n",
    "df_stack_f.head()"
   ]
  },
  {
   "cell_type": "markdown",
   "id": "f658c827",
   "metadata": {},
   "source": [
    "# Generate Pairs"
   ]
  },
  {
   "cell_type": "code",
   "execution_count": 15,
   "id": "02fb0206",
   "metadata": {
    "ExecuteTime": {
     "end_time": "2023-03-22T00:30:58.343695Z",
     "start_time": "2023-03-22T00:30:58.173064Z"
    }
   },
   "outputs": [
    {
     "name": "stderr",
     "output_type": "stream",
     "text": [
      "Date Pairs: 100%|█| 5/5 [00:00<00:00, 40.\n"
     ]
    }
   ],
   "source": [
    "min_temporal_baseline = 0\n",
    "neighbors = 2\n",
    "\n",
    "data = enumerate_gunw_time_series(df_stack_f, \n",
    "                                  min_temporal_baseline, \n",
    "                                  n_secondary_scenes_per_ref=neighbors,\n",
    "                                  frames=frames \n",
    "                                 )"
   ]
  },
  {
   "cell_type": "code",
   "execution_count": 16,
   "id": "d8e5850f",
   "metadata": {
    "ExecuteTime": {
     "end_time": "2023-03-22T00:30:58.394597Z",
     "start_time": "2023-03-22T00:30:58.346828Z"
    }
   },
   "outputs": [
    {
     "data": {
      "text/plain": [
       "5"
      ]
     },
     "execution_count": 16,
     "metadata": {},
     "output_type": "execute_result"
    }
   ],
   "source": [
    "len(data)"
   ]
  },
  {
   "cell_type": "code",
   "execution_count": 17,
   "id": "8b4ca251",
   "metadata": {
    "ExecuteTime": {
     "end_time": "2023-03-22T00:30:58.442038Z",
     "start_time": "2023-03-22T00:30:58.397039Z"
    },
    "scrolled": false
   },
   "outputs": [
    {
     "data": {
      "text/plain": [
       "{'reference': ['S1A_IW_SLC__1SDV_20180403T180221_20180403T180251_021306_024A9A_2DF1'],\n",
       " 'secondary': ['S1A_IW_SLC__1SDV_20170713T180220_20170713T180250_017456_01D2CE_6B7E'],\n",
       " 'reference_date': Timestamp('2018-04-03 00:00:00+0000', tz='UTC'),\n",
       " 'secondary_date': Timestamp('2017-07-13 00:00:00+0000', tz='UTC'),\n",
       " 'frame_id': 9102,\n",
       " 'geometry': <POLYGON Z ((-179.252 51.113 0, -179.081 51.813 0, -179.008 52.103 0, -179.0...>}"
      ]
     },
     "execution_count": 17,
     "metadata": {},
     "output_type": "execute_result"
    }
   ],
   "source": [
    "data[0]"
   ]
  },
  {
   "cell_type": "code",
   "execution_count": 18,
   "id": "88b487cb",
   "metadata": {
    "ExecuteTime": {
     "end_time": "2023-03-22T00:30:58.487959Z",
     "start_time": "2023-03-22T00:30:58.444033Z"
    }
   },
   "outputs": [
    {
     "data": {
      "image/svg+xml": [
       "<svg xmlns=\"http://www.w3.org/2000/svg\" xmlns:xlink=\"http://www.w3.org/1999/xlink\" width=\"100.0\" height=\"100.0\" viewBox=\"-179.41823769643628 50.933112704727755 4.355473168839154 1.4798491425485025\" preserveAspectRatio=\"xMinYMin meet\"><g transform=\"matrix(1,0,0,-1,0,103.34607455200401)\"><path fill-rule=\"evenodd\" fill=\"#66cc99\" stroke=\"#555555\" stroke-width=\"0.08710946337678309\" opacity=\"0.6\" d=\"M -179.25231584728584,51.11341149392832 L -179.081046,51.813273 L -179.00771047113597,52.10348361385113 L -179.01127,52.103808 L -178.9745315292432,52.25164802620814 L -175.22407834866524,52.25164802620814 L -175.40943828255715,51.69502280576233 L -175.403336,51.694253 L -175.5996261111066,51.094426525795875 L -179.25692387536816,51.094426525795875 L -179.25231584728584,51.11341149392832 z\" /></g></svg>"
      ],
      "text/plain": [
       "<POLYGON Z ((-179.252 51.113 0, -179.081 51.813 0, -179.008 52.103 0, -179.0...>"
      ]
     },
     "execution_count": 18,
     "metadata": {},
     "output_type": "execute_result"
    }
   ],
   "source": [
    "data[0]['geometry']"
   ]
  },
  {
   "cell_type": "markdown",
   "id": "a69ca534",
   "metadata": {},
   "source": [
    "# Hyp3"
   ]
  },
  {
   "cell_type": "code",
   "execution_count": 19,
   "id": "dcc5809e",
   "metadata": {
    "ExecuteTime": {
     "end_time": "2023-03-22T00:30:58.537135Z",
     "start_time": "2023-03-22T00:30:58.490158Z"
    }
   },
   "outputs": [
    {
     "data": {
      "text/plain": [
       "'JOB_NAME: Aleutian_59_GMAO_0321'"
      ]
     },
     "execution_count": 19,
     "metadata": {},
     "output_type": "execute_result"
    }
   ],
   "source": [
    "TRACKS = \",\".join([str(t) for t in TRACK_DICT[AOI_NAME]])\n",
    "TODAY = datetime.datetime.now().date().strftime('%m%d')\n",
    "AOI_TOKEN = AOI_NAME.replace(' ', '-')\n",
    "JOB_NAME = '_'.join([AOI_TOKEN, TRACKS, WEATHER_MODEL, TODAY])\n",
    "f'JOB_NAME: {JOB_NAME}'"
   ]
  },
  {
   "cell_type": "code",
   "execution_count": 20,
   "id": "f1cc16df",
   "metadata": {
    "ExecuteTime": {
     "end_time": "2023-03-22T00:30:58.580771Z",
     "start_time": "2023-03-22T00:30:58.539123Z"
    }
   },
   "outputs": [
    {
     "data": {
      "text/plain": [
       "'JOB_NAME character length: 21'"
      ]
     },
     "execution_count": 20,
     "metadata": {},
     "output_type": "execute_result"
    }
   ],
   "source": [
    "f'JOB_NAME character length: {len(JOB_NAME)}'"
   ]
  },
  {
   "cell_type": "code",
   "execution_count": 21,
   "id": "2ce9417f",
   "metadata": {
    "ExecuteTime": {
     "end_time": "2023-03-22T00:30:58.626809Z",
     "start_time": "2023-03-22T00:30:58.582551Z"
    }
   },
   "outputs": [],
   "source": [
    "assert len(JOB_NAME) <= 30"
   ]
  },
  {
   "cell_type": "code",
   "execution_count": 22,
   "id": "7eba165c",
   "metadata": {
    "ExecuteTime": {
     "end_time": "2023-03-22T00:30:58.670002Z",
     "start_time": "2023-03-22T00:30:58.628987Z"
    }
   },
   "outputs": [
    {
     "data": {
      "text/plain": [
       "[{'granules': ['S1A_IW_SLC__1SDV_20180403T180221_20180403T180251_021306_024A9A_2DF1'],\n",
       "  'secondary_granules': ['S1A_IW_SLC__1SDV_20170713T180220_20170713T180250_017456_01D2CE_6B7E'],\n",
       "  'weather_model': 'GMAO',\n",
       "  'estimate_ionosphere_delay': True,\n",
       "  'compute_solid_earth_tide': True,\n",
       "  'frame_id': 9102},\n",
       " {'granules': ['S1A_IW_SLC__1SDV_20180403T180221_20180403T180251_021306_024A9A_2DF1'],\n",
       "  'secondary_granules': ['S1A_IW_SLC__1SDV_20170701T180219_20170701T180249_017281_01CD86_8A37'],\n",
       "  'weather_model': 'GMAO',\n",
       "  'estimate_ionosphere_delay': True,\n",
       "  'compute_solid_earth_tide': True,\n",
       "  'frame_id': 9102}]"
      ]
     },
     "execution_count": 22,
     "metadata": {},
     "output_type": "execute_result"
    }
   ],
   "source": [
    "job_parameters =  [{'granules': ifg_data['reference'],\n",
    "                    'secondary_granules': ifg_data['secondary'],\n",
    "                    'weather_model': WEATHER_MODEL,\n",
    "                    'estimate_ionosphere_delay': True,\n",
    "                    'compute_solid_earth_tide': True,\n",
    "                    'frame_id': ifg_data['frame_id'],\n",
    "                     } for ifg_data in data]\n",
    "job_parameters[:2]"
   ]
  },
  {
   "cell_type": "code",
   "execution_count": 23,
   "id": "cd79c8c2",
   "metadata": {
    "ExecuteTime": {
     "end_time": "2023-03-22T00:30:58.716831Z",
     "start_time": "2023-03-22T00:30:58.672073Z"
    }
   },
   "outputs": [
    {
     "data": {
      "text/plain": [
       "[{'name': 'Aleutian_59_GMAO_0321',\n",
       "  'job_type': 'INSAR_ISCE_TEST',\n",
       "  'job_parameters': {'granules': ['S1A_IW_SLC__1SDV_20180403T180221_20180403T180251_021306_024A9A_2DF1'],\n",
       "   'secondary_granules': ['S1A_IW_SLC__1SDV_20170713T180220_20170713T180250_017456_01D2CE_6B7E'],\n",
       "   'weather_model': 'GMAO',\n",
       "   'estimate_ionosphere_delay': True,\n",
       "   'compute_solid_earth_tide': True,\n",
       "   'frame_id': 9102}},\n",
       " {'name': 'Aleutian_59_GMAO_0321',\n",
       "  'job_type': 'INSAR_ISCE_TEST',\n",
       "  'job_parameters': {'granules': ['S1A_IW_SLC__1SDV_20180403T180221_20180403T180251_021306_024A9A_2DF1'],\n",
       "   'secondary_granules': ['S1A_IW_SLC__1SDV_20170701T180219_20170701T180249_017281_01CD86_8A37'],\n",
       "   'weather_model': 'GMAO',\n",
       "   'estimate_ionosphere_delay': True,\n",
       "   'compute_solid_earth_tide': True,\n",
       "   'frame_id': 9102}}]"
      ]
     },
     "execution_count": 23,
     "metadata": {},
     "output_type": "execute_result"
    }
   ],
   "source": [
    "job_dicts = [{'name': JOB_NAME,\n",
    "              # NOTE: we are still using the `dev` branch. Change this to \"INSAR_ISCE\" to use the `main` branch.\n",
    "              'job_type': 'INSAR_ISCE_TEST',\n",
    "              'job_parameters': parameters\n",
    "             }\n",
    "             for parameters in job_parameters]\n",
    "job_dicts[:2]"
   ]
  },
  {
   "cell_type": "code",
   "execution_count": 24,
   "id": "d6b386cd",
   "metadata": {
    "ExecuteTime": {
     "end_time": "2023-03-22T00:30:58.756904Z",
     "start_time": "2023-03-22T00:30:58.718730Z"
    }
   },
   "outputs": [
    {
     "data": {
      "text/plain": [
       "5"
      ]
     },
     "execution_count": 24,
     "metadata": {},
     "output_type": "execute_result"
    }
   ],
   "source": [
    "len(job_dicts)"
   ]
  },
  {
   "cell_type": "markdown",
   "id": "b31993d0",
   "metadata": {},
   "source": [
    "You may want to use `prompt=True` to toggle between Earthdata accounts."
   ]
  },
  {
   "cell_type": "code",
   "execution_count": 25,
   "id": "839b3d9d",
   "metadata": {
    "ExecuteTime": {
     "end_time": "2023-03-22T00:31:03.559479Z",
     "start_time": "2023-03-22T00:30:58.758574Z"
    }
   },
   "outputs": [],
   "source": [
    "import hyp3_sdk\n",
    "\n",
    "# uses .netrc; add `prompt=True` to prompt for credentials; \n",
    "hyp3_isce = hyp3_sdk.HyP3('https://hyp3-a19-jpl.asf.alaska.edu')"
   ]
  },
  {
   "cell_type": "markdown",
   "id": "0730d7d6",
   "metadata": {},
   "source": [
    "Uncomment this to submit jobs:"
   ]
  },
  {
   "cell_type": "code",
   "execution_count": 26,
   "id": "e3e98b8b",
   "metadata": {
    "ExecuteTime": {
     "end_time": "2023-03-22T00:31:03.596718Z",
     "start_time": "2023-03-22T00:31:03.561076Z"
    }
   },
   "outputs": [],
   "source": [
    "# submitted_jobs = hyp3_isce.submit_prepared_jobs(job_dicts[:])"
   ]
  },
  {
   "cell_type": "markdown",
   "id": "70cab955",
   "metadata": {},
   "source": [
    "These are useful snippets to inspect status and view metadata."
   ]
  },
  {
   "cell_type": "code",
   "execution_count": 27,
   "id": "aed6c60d",
   "metadata": {
    "ExecuteTime": {
     "end_time": "2023-03-22T00:31:03.976533Z",
     "start_time": "2023-03-22T00:31:03.598547Z"
    }
   },
   "outputs": [
    {
     "name": "stdout",
     "output_type": "stream",
     "text": [
      "0 HyP3 Jobs: 0 succeeded, 0 failed, 0 running, 0 pending.\n"
     ]
    }
   ],
   "source": [
    "jobs = hyp3_isce.find_jobs(name=JOB_NAME)\n",
    "print(jobs)"
   ]
  },
  {
   "cell_type": "code",
   "execution_count": 28,
   "id": "d6f2698c",
   "metadata": {
    "ExecuteTime": {
     "end_time": "2023-03-22T00:31:04.018082Z",
     "start_time": "2023-03-22T00:31:03.982137Z"
    }
   },
   "outputs": [],
   "source": [
    "# jobs[0].to_dict()"
   ]
  },
  {
   "cell_type": "code",
   "execution_count": 29,
   "id": "45615dbd",
   "metadata": {
    "ExecuteTime": {
     "end_time": "2023-03-22T00:31:04.056295Z",
     "start_time": "2023-03-22T00:31:04.019972Z"
    }
   },
   "outputs": [],
   "source": [
    "# successful_jobs = hyp3_isce.find_jobs(name=JOB_NAME, status_code='SUCCEEDED')\n",
    "# dicts_success = [j.to_dict() for j in successful_jobs]\n",
    "# dicts_success[:]"
   ]
  },
  {
   "cell_type": "code",
   "execution_count": 30,
   "id": "7612e29a",
   "metadata": {
    "ExecuteTime": {
     "end_time": "2023-03-22T00:31:04.092896Z",
     "start_time": "2023-03-22T00:31:04.057907Z"
    },
    "scrolled": true
   },
   "outputs": [],
   "source": [
    "# urls = [d['files'][0]['url'] for d in dicts_success]\n",
    "# urls"
   ]
  },
  {
   "cell_type": "code",
   "execution_count": 31,
   "id": "0589ccc5",
   "metadata": {
    "ExecuteTime": {
     "end_time": "2023-03-22T00:31:04.129421Z",
     "start_time": "2023-03-22T00:31:04.094549Z"
    }
   },
   "outputs": [],
   "source": [
    "# failed_jobs = hyp3_isce.find_jobs(name=JOB_NAME, status_code='FAILED')\n",
    "# dicts_failed = [j.to_dict() for j in failed_jobs]\n",
    "# dicts_failed[:]"
   ]
  },
  {
   "cell_type": "code",
   "execution_count": 32,
   "id": "707d074c",
   "metadata": {
    "ExecuteTime": {
     "end_time": "2023-03-22T00:31:04.165848Z",
     "start_time": "2023-03-22T00:31:04.131335Z"
    }
   },
   "outputs": [],
   "source": [
    "# all_jobs = hyp3_isce.find_jobs(name=JOB_NAME)\n",
    "# dicts_all = [j.to_dict() for j in all_jobs]\n",
    "# dicts_all[:]"
   ]
  }
 ],
 "metadata": {
  "kernelspec": {
   "display_name": "s1-frame-enumerator",
   "language": "python",
   "name": "s1-frame-enumerator"
  },
  "language_info": {
   "codemirror_mode": {
    "name": "ipython",
    "version": 3
   },
   "file_extension": ".py",
   "mimetype": "text/x-python",
   "name": "python",
   "nbconvert_exporter": "python",
   "pygments_lexer": "ipython3",
   "version": "3.11.0"
  }
 },
 "nbformat": 4,
 "nbformat_minor": 5
}
