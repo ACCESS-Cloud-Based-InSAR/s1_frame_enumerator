{
 "cells": [
  {
   "cell_type": "markdown",
   "id": "61d520ce",
   "metadata": {},
   "source": [
    "Frame enumuration and submission to Hyp3 with Tropo, Iono, SET corrections."
   ]
  },
  {
   "cell_type": "code",
   "execution_count": 3,
   "id": "0bd2d25a",
   "metadata": {
    "ExecuteTime": {
     "end_time": "2023-04-04T17:02:45.425097Z",
     "start_time": "2023-04-04T17:02:45.398144Z"
    }
   },
   "outputs": [],
   "source": [
    "%load_ext autoreload\n",
    "%autoreload 2"
   ]
  },
  {
   "cell_type": "code",
   "execution_count": 4,
   "id": "756918c1",
   "metadata": {
    "ExecuteTime": {
     "end_time": "2023-04-04T17:02:50.133085Z",
     "start_time": "2023-04-04T17:02:45.427496Z"
    }
   },
   "outputs": [],
   "source": [
    "from s1_frame_enumerator import (get_s1_stack, \n",
    "                                 filter_s1_stack_by_geometric_coverage_per_pass, \n",
    "                                 get_global_s1_frames, \n",
    "                                 get_overlapping_s1_frames, \n",
    "                                 enumerate_dates, \n",
    "                                 frames2gdf, \n",
    "                                 enumerate_gunw_time_series)\n",
    "from shapely.geometry import Point\n",
    "import geopandas as gpd\n",
    "from rasterio.crs import CRS\n",
    "import matplotlib.pyplot as plt\n",
    "import warnings\n",
    "import json\n",
    "import pandas as pd\n",
    "import datetime"
   ]
  },
  {
   "cell_type": "code",
   "execution_count": 16,
   "id": "777b4285",
   "metadata": {
    "ExecuteTime": {
     "end_time": "2023-04-04T17:02:50.168632Z",
     "start_time": "2023-04-04T17:02:50.134862Z"
    }
   },
   "outputs": [],
   "source": [
    "AOI_NAME = 'Chile-South' #'Los Angeles' # 'Hawaii'\n",
    "WEATHER_MODEL = None"
   ]
  },
  {
   "cell_type": "code",
   "execution_count": 17,
   "id": "f7be2e2b",
   "metadata": {
    "ExecuteTime": {
     "end_time": "2023-04-04T17:02:50.207713Z",
     "start_time": "2023-04-04T17:02:50.170528Z"
    }
   },
   "outputs": [],
   "source": [
    "if WEATHER_MODEL == 'HRRR':\n",
    "    assert AOI_NAME in ['Maine', 'Bellingham', 'Los-Angeles-0', \n",
    "                        'Los-Angeles-1', 'Norfolk', 'Wax-Lake', 'Anchorage',\n",
    "                        'New-York']"
   ]
  },
  {
   "cell_type": "code",
   "execution_count": 27,
   "id": "1687232a",
   "metadata": {
    "ExecuteTime": {
     "end_time": "2023-04-04T17:02:50.247655Z",
     "start_time": "2023-04-04T17:02:50.210551Z"
    }
   },
   "outputs": [],
   "source": [
    "GEO_DICT = {'Los-Angeles-0':  Point(-118, 34).buffer(1),\n",
    "            'Los-Angeles-1':  Point(-118, 34).buffer(1),\n",
    "            'Hawaii-0': Point(-155.5, 19.5).buffer(1),\n",
    "            'Hawaii-1': Point(-155.5, 19.5).buffer(1),\n",
    "            'Norfolk': Point(-76.5, 36.4).buffer(1),\n",
    "            'Somalia': Point(41, 1.5).buffer(1),\n",
    "            'Tibet': Point(92, 41.5).buffer(1),\n",
    "            'Norway': Point(13, 65).buffer(1),\n",
    "            'Aleutian': Point(-177, 52).buffer(.25),\n",
    "            'Wax-Lake': Point(-91.5, 30).buffer(1),\n",
    "            'Bellingham': Point(-122.5, 48.5).buffer(1),\n",
    "            'Maine': Point(-69, 47).buffer(1),\n",
    "            'Anchorage': Point(-150, 61).buffer(1),\n",
    "            'Chile': Point(-69.0355, -19.449).buffer(2.5),\n",
    "            'Saudi-Arabia': Point(47.5, 24).buffer(2.5),\n",
    "            'New-York': Point(-74, 42).buffer(2),\n",
    "            'Chile-South': Point(-70.5, -54.5).buffer(1)\n",
    "            }\n",
    "\n",
    "TRACK_DICT = {'Los-Angeles-0': [64],\n",
    "              'Los-Angeles-1': [71],\n",
    "              'Hawaii-0': [124],\n",
    "              'Hawaii-1': [87],\n",
    "              'Norfolk': [4],\n",
    "              'Somalia': [87],\n",
    "              'Tibet': [48],\n",
    "              'Norway': [37],\n",
    "              'Aleutian': [59],\n",
    "              'Wax-Lake': [63],\n",
    "              'Bellingham': [137],\n",
    "              'Maine': [164],\n",
    "              'Anchorage': [131],\n",
    "              'Chile': [54],\n",
    "              'Saudi-Arabia': [72],\n",
    "              'New-York': [33],\n",
    "              'Chile-South': [33],\n",
    "              }"
   ]
  },
  {
   "cell_type": "code",
   "execution_count": 28,
   "id": "587c8c37",
   "metadata": {
    "ExecuteTime": {
     "end_time": "2023-04-04T17:02:50.290541Z",
     "start_time": "2023-04-04T17:02:50.249466Z"
    }
   },
   "outputs": [],
   "source": [
    "aoi_geo = GEO_DICT[AOI_NAME]\n",
    "track_numbers = TRACK_DICT[AOI_NAME]\n",
    "\n",
    "df_aoi = gpd.GeoDataFrame(geometry=[aoi_geo], crs=CRS.from_epsg(4326))"
   ]
  },
  {
   "cell_type": "code",
   "execution_count": 29,
   "id": "f50578b5",
   "metadata": {
    "ExecuteTime": {
     "end_time": "2023-04-04T17:15:56.619725Z",
     "start_time": "2023-04-04T17:15:47.998445Z"
    }
   },
   "outputs": [],
   "source": [
    "frames = get_overlapping_s1_frames(aoi_geo, track_numbers=track_numbers)"
   ]
  },
  {
   "cell_type": "code",
   "execution_count": 30,
   "id": "63ad72b8",
   "metadata": {
    "ExecuteTime": {
     "end_time": "2023-04-04T17:15:56.663152Z",
     "start_time": "2023-04-04T17:15:56.621938Z"
    }
   },
   "outputs": [],
   "source": [
    "# There will be lots of ways to do this more efficiently i.e. only include frames with overlap of a land mask\n",
    "# Even to be more confident would likely want some percentage\n",
    "# Currently, we just shrunk our AOI and excluded a frame\n",
    "if AOI_NAME == 'Aleutian':\n",
    "    frames = list(filter(lambda f: f.frame_id!= 9101, frames))"
   ]
  },
  {
   "cell_type": "code",
   "execution_count": 31,
   "id": "f3634314",
   "metadata": {
    "ExecuteTime": {
     "end_time": "2023-04-04T17:15:56.707938Z",
     "start_time": "2023-04-04T17:15:56.665026Z"
    }
   },
   "outputs": [
    {
     "data": {
      "text/html": [
       "<div>\n",
       "<style scoped>\n",
       "    .dataframe tbody tr th:only-of-type {\n",
       "        vertical-align: middle;\n",
       "    }\n",
       "\n",
       "    .dataframe tbody tr th {\n",
       "        vertical-align: top;\n",
       "    }\n",
       "\n",
       "    .dataframe thead th {\n",
       "        text-align: right;\n",
       "    }\n",
       "</style>\n",
       "<table border=\"1\" class=\"dataframe\">\n",
       "  <thead>\n",
       "    <tr style=\"text-align: right;\">\n",
       "      <th></th>\n",
       "      <th>frame_id</th>\n",
       "      <th>hemisphere</th>\n",
       "      <th>track_number_min</th>\n",
       "      <th>track_number_max</th>\n",
       "      <th>geometry</th>\n",
       "    </tr>\n",
       "  </thead>\n",
       "  <tbody>\n",
       "    <tr>\n",
       "      <th>0</th>\n",
       "      <td>5103</td>\n",
       "      <td>west</td>\n",
       "      <td>33</td>\n",
       "      <td>33</td>\n",
       "      <td>POLYGON Z ((-72.25699 -55.98341 0.00000, -72.6...</td>\n",
       "    </tr>\n",
       "    <tr>\n",
       "      <th>1</th>\n",
       "      <td>5104</td>\n",
       "      <td>west</td>\n",
       "      <td>33</td>\n",
       "      <td>33</td>\n",
       "      <td>POLYGON Z ((-73.00962 -54.87749 0.00000, -73.0...</td>\n",
       "    </tr>\n",
       "    <tr>\n",
       "      <th>2</th>\n",
       "      <td>5105</td>\n",
       "      <td>west</td>\n",
       "      <td>33</td>\n",
       "      <td>33</td>\n",
       "      <td>POLYGON Z ((-73.73484 -53.76977 0.00000, -73.8...</td>\n",
       "    </tr>\n",
       "  </tbody>\n",
       "</table>\n",
       "</div>"
      ],
      "text/plain": [
       "   frame_id hemisphere  track_number_min  track_number_max  \\\n",
       "0      5103       west                33                33   \n",
       "1      5104       west                33                33   \n",
       "2      5105       west                33                33   \n",
       "\n",
       "                                            geometry  \n",
       "0  POLYGON Z ((-72.25699 -55.98341 0.00000, -72.6...  \n",
       "1  POLYGON Z ((-73.00962 -54.87749 0.00000, -73.0...  \n",
       "2  POLYGON Z ((-73.73484 -53.76977 0.00000, -73.8...  "
      ]
     },
     "execution_count": 31,
     "metadata": {},
     "output_type": "execute_result"
    }
   ],
   "source": [
    "df_frames_all = frames2gdf(frames)\n",
    "df_frames_all.head()"
   ]
  },
  {
   "cell_type": "code",
   "execution_count": 32,
   "id": "8556da14",
   "metadata": {
    "ExecuteTime": {
     "end_time": "2023-03-23T18:01:32.003066Z",
     "start_time": "2023-03-23T18:01:31.813235Z"
    }
   },
   "outputs": [
    {
     "data": {
      "text/plain": [
       "<Axes: >"
      ]
     },
     "execution_count": 32,
     "metadata": {},
     "output_type": "execute_result"
    },
    {
     "data": {
      "image/png": "[encoded data removed]",
      "text/plain": [
       "<Figure size 640x480 with 1 Axes>"
      ]
     },
     "metadata": {},
     "output_type": "display_data"
    }
   ],
   "source": [
    "df_frames_all.plot()"
   ]
  },
  {
   "cell_type": "code",
   "execution_count": 33,
   "id": "ba8524af",
   "metadata": {
    "ExecuteTime": {
     "end_time": "2023-03-23T18:01:32.361165Z",
     "start_time": "2023-03-23T18:01:32.005418Z"
    }
   },
   "outputs": [
    {
     "name": "stderr",
     "output_type": "stream",
     "text": [
      "/var/folders/0p/d5x2m4tx5kg1246bplsvyfyh0000gq/T/ipykernel_4600/2968930518.py:2: FutureWarning: The geopandas.dataset module is deprecated and will be removed in GeoPandas 1.0. You can get the original 'naturalearth_lowres' data from https://www.naturalearthdata.com/downloads/110m-cultural-vectors/.\n",
      "  df_world = gpd.read_file(gpd.datasets.get_path('naturalearth_lowres'))\n"
     ]
    },
    {
     "data": {
      "text/plain": [
       "(-57.01247789385884, -51.72444236707099)"
      ]
     },
     "execution_count": 33,
     "metadata": {},
     "output_type": "execute_result"
    },
    {
     "data": {
      "image/png": "[encoded data removed]",
      "text/plain": [
       "<Figure size 640x480 with 1 Axes>"
      ]
     },
     "metadata": {},
     "output_type": "display_data"
    }
   ],
   "source": [
    "fig, ax = plt.subplots()\n",
    "df_world = gpd.read_file(gpd.datasets.get_path('naturalearth_lowres'))\n",
    "df_world.boundary.plot(ax=ax)\n",
    "df_frames_by_track = df_frames_all.dissolve(by='track_number_min').reset_index(drop=False)\n",
    "df_frames_by_track.plot(ax=ax, \n",
    "                        column='track_number_min',\n",
    "                        categorical=True,\n",
    "                        alpha=.25, \n",
    "                        legend=True)\n",
    "df_aoi.boundary.plot(ax=ax, edgecolor='black')\n",
    "xmin, ymin, xmax, ymax = df_frames_by_track.total_bounds\n",
    "ax.set_xlim(xmin - 1, xmax + 1)\n",
    "ax.set_ylim(ymin - 1, ymax + 1)"
   ]
  },
  {
   "cell_type": "code",
   "execution_count": 34,
   "id": "5b3e3fe3",
   "metadata": {
    "ExecuteTime": {
     "end_time": "2023-03-23T18:01:32.736239Z",
     "start_time": "2023-03-23T18:01:32.362981Z"
    }
   },
   "outputs": [
    {
     "name": "stderr",
     "output_type": "stream",
     "text": [
      "/var/folders/0p/d5x2m4tx5kg1246bplsvyfyh0000gq/T/ipykernel_4600/1923061845.py:2: FutureWarning: The geopandas.dataset module is deprecated and will be removed in GeoPandas 1.0. You can get the original 'naturalearth_lowres' data from https://www.naturalearthdata.com/downloads/110m-cultural-vectors/.\n",
      "  df_world = gpd.read_file(gpd.datasets.get_path('naturalearth_lowres'))\n"
     ]
    },
    {
     "data": {
      "text/plain": [
       "(-57.01247789385884, -51.72444236707099)"
      ]
     },
     "execution_count": 34,
     "metadata": {},
     "output_type": "execute_result"
    },
    {
     "data": {
      "image/png": "[encoded data removed]",
      "text/plain": [
       "<Figure size 1000x1000 with 1 Axes>"
      ]
     },
     "metadata": {},
     "output_type": "display_data"
    }
   ],
   "source": [
    "fig, ax = plt.subplots(figsize=(10, 10))\n",
    "df_world = gpd.read_file(gpd.datasets.get_path('naturalearth_lowres'))\n",
    "df_world.boundary.plot(ax=ax)\n",
    "df_frames_all.plot(ax=ax, \n",
    "                   column='frame_id', \n",
    "                   alpha=.25,\n",
    "                   categorical=True,\n",
    "                   legend=True)\n",
    "df_aoi.boundary.plot(ax=ax, edgecolor='black')\n",
    "\n",
    "xmin, ymin, xmax, ymax = df_frames_by_track.total_bounds\n",
    "ax.set_xlim(xmin - 1, xmax + 1)\n",
    "ax.set_ylim(ymin - 1, ymax + 1)"
   ]
  },
  {
   "cell_type": "markdown",
   "id": "425464a2",
   "metadata": {},
   "source": [
    "# Get Stack from Frame\n",
    "\n",
    "Here a stack is a list of images with metadata and extents. We note the stack here is not arbitrarily constructed and at some point might be nice to create a simple class to encapsulate it. However, here a stack is one that can be organized to do interferometry over the frames.\n",
    "\n",
    "1. Per pass coverage $\\geq 80$% as it pertains to the frame's coverage geometry\n",
    "2. Contiguous coverage through frames (determined as Polygon object)\n",
    "\n",
    "Requires:\n",
    "\n",
    "1. Frames to be contiguous (otherwise 2. does not make sense)\n",
    "2. Requires single track or two sequential tracks (we only check if the track numbers are sequential)"
   ]
  },
  {
   "cell_type": "code",
   "execution_count": 35,
   "id": "5704f85b",
   "metadata": {
    "ExecuteTime": {
     "end_time": "2023-03-23T18:01:50.714063Z",
     "start_time": "2023-03-23T18:01:32.737861Z"
    }
   },
   "outputs": [
    {
     "name": "stderr",
     "output_type": "stream",
     "text": [
      "Downloading stack from 3 frame geometries: 100%|███████████████████████████| 3/3 [00:04<00:00,  1.34s/it]\n",
      "/Users/cmarshak/bekaert-team/s1-frame-enumerator/src/s1_frame_enumerator/s1_stack_formatter.py:60: FutureWarning: DataFrameGroupBy.grouper is deprecated and will be removed in a future version of pandas.\n",
      "  df_formatted['stack_repeat_pass_id'] = df_formatted.groupby(['stack_repeat_pass_id']).grouper.group_info[0]\n"
     ]
    },
    {
     "data": {
      "text/html": [
       "<div>\n",
       "<style scoped>\n",
       "    .dataframe tbody tr th:only-of-type {\n",
       "        vertical-align: middle;\n",
       "    }\n",
       "\n",
       "    .dataframe tbody tr th {\n",
       "        vertical-align: top;\n",
       "    }\n",
       "\n",
       "    .dataframe thead th {\n",
       "        text-align: right;\n",
       "    }\n",
       "</style>\n",
       "<table border=\"1\" class=\"dataframe\">\n",
       "  <thead>\n",
       "    <tr style=\"text-align: right;\">\n",
       "      <th></th>\n",
       "      <th>slc_id</th>\n",
       "      <th>start_time</th>\n",
       "      <th>stop_time</th>\n",
       "      <th>url</th>\n",
       "      <th>track_number</th>\n",
       "      <th>polarization</th>\n",
       "      <th>orbit</th>\n",
       "      <th>beam_mode</th>\n",
       "      <th>size_gb</th>\n",
       "      <th>stack_repeat_pass_id</th>\n",
       "      <th>repeat_pass_timestamp</th>\n",
       "      <th>geometry</th>\n",
       "    </tr>\n",
       "  </thead>\n",
       "  <tbody>\n",
       "    <tr>\n",
       "      <th>0</th>\n",
       "      <td>S1A_IW_SLC__1SSV_20141008T000227_20141008T0002...</td>\n",
       "      <td>2014-10-08 00:02:27+00:00</td>\n",
       "      <td>2014-10-08 00:02:57+00:00</td>\n",
       "      <td>https://datapool.asf.alaska.edu/SLC/SA/S1A_IW_...</td>\n",
       "      <td>33</td>\n",
       "      <td>VV</td>\n",
       "      <td>2730</td>\n",
       "      <td>IW</td>\n",
       "      <td>2.654739</td>\n",
       "      <td>0</td>\n",
       "      <td>2014-10-08 00:00:00+00:00</td>\n",
       "      <td>POLYGON ((-73.08009 -54.92540, -71.90183 -56.6...</td>\n",
       "    </tr>\n",
       "    <tr>\n",
       "      <th>1</th>\n",
       "      <td>S1A_IW_SLC__1SSV_20141008T000255_20141008T0003...</td>\n",
       "      <td>2014-10-08 00:02:55+00:00</td>\n",
       "      <td>2014-10-08 00:03:22+00:00</td>\n",
       "      <td>https://datapool.asf.alaska.edu/SLC/SA/S1A_IW_...</td>\n",
       "      <td>33</td>\n",
       "      <td>VV</td>\n",
       "      <td>2730</td>\n",
       "      <td>IW</td>\n",
       "      <td>2.456603</td>\n",
       "      <td>0</td>\n",
       "      <td>2014-10-08 00:00:00+00:00</td>\n",
       "      <td>POLYGON ((-74.01853 -53.44837, -72.99281 -55.0...</td>\n",
       "    </tr>\n",
       "    <tr>\n",
       "      <th>2</th>\n",
       "      <td>S1A_IW_SLC__1SSV_20141008T000320_20141008T0003...</td>\n",
       "      <td>2014-10-08 00:03:20+00:00</td>\n",
       "      <td>2014-10-08 00:03:47+00:00</td>\n",
       "      <td>https://datapool.asf.alaska.edu/SLC/SA/S1A_IW_...</td>\n",
       "      <td>33</td>\n",
       "      <td>VV</td>\n",
       "      <td>2730</td>\n",
       "      <td>IW</td>\n",
       "      <td>2.372378</td>\n",
       "      <td>0</td>\n",
       "      <td>2014-10-08 00:00:00+00:00</td>\n",
       "      <td>POLYGON ((-74.87027 -52.01253, -73.94155 -53.5...</td>\n",
       "    </tr>\n",
       "    <tr>\n",
       "      <th>3</th>\n",
       "      <td>S1A_IW_SLC__1SDV_20141101T000227_20141101T0002...</td>\n",
       "      <td>2014-11-01 00:02:27+00:00</td>\n",
       "      <td>2014-11-01 00:02:57+00:00</td>\n",
       "      <td>https://datapool.asf.alaska.edu/SLC/SA/S1A_IW_...</td>\n",
       "      <td>33</td>\n",
       "      <td>VV+VH</td>\n",
       "      <td>3080</td>\n",
       "      <td>IW</td>\n",
       "      <td>4.638248</td>\n",
       "      <td>1</td>\n",
       "      <td>2014-11-01 00:00:00+00:00</td>\n",
       "      <td>POLYGON ((-73.07960 -54.92487, -71.90139 -56.6...</td>\n",
       "    </tr>\n",
       "    <tr>\n",
       "      <th>4</th>\n",
       "      <td>S1A_IW_SLC__1SDV_20141101T000254_20141101T0003...</td>\n",
       "      <td>2014-11-01 00:02:54+00:00</td>\n",
       "      <td>2014-11-01 00:03:22+00:00</td>\n",
       "      <td>https://datapool.asf.alaska.edu/SLC/SA/S1A_IW_...</td>\n",
       "      <td>33</td>\n",
       "      <td>VV+VH</td>\n",
       "      <td>3080</td>\n",
       "      <td>IW</td>\n",
       "      <td>4.427715</td>\n",
       "      <td>1</td>\n",
       "      <td>2014-11-01 00:00:00+00:00</td>\n",
       "      <td>POLYGON ((-74.01801 -53.44797, -72.99262 -55.0...</td>\n",
       "    </tr>\n",
       "  </tbody>\n",
       "</table>\n",
       "</div>"
      ],
      "text/plain": [
       "                                              slc_id  \\\n",
       "0  S1A_IW_SLC__1SSV_20141008T000227_20141008T0002...   \n",
       "1  S1A_IW_SLC__1SSV_20141008T000255_20141008T0003...   \n",
       "2  S1A_IW_SLC__1SSV_20141008T000320_20141008T0003...   \n",
       "3  S1A_IW_SLC__1SDV_20141101T000227_20141101T0002...   \n",
       "4  S1A_IW_SLC__1SDV_20141101T000254_20141101T0003...   \n",
       "\n",
       "                 start_time                 stop_time  \\\n",
       "0 2014-10-08 00:02:27+00:00 2014-10-08 00:02:57+00:00   \n",
       "1 2014-10-08 00:02:55+00:00 2014-10-08 00:03:22+00:00   \n",
       "2 2014-10-08 00:03:20+00:00 2014-10-08 00:03:47+00:00   \n",
       "3 2014-11-01 00:02:27+00:00 2014-11-01 00:02:57+00:00   \n",
       "4 2014-11-01 00:02:54+00:00 2014-11-01 00:03:22+00:00   \n",
       "\n",
       "                                                 url  track_number  \\\n",
       "0  https://datapool.asf.alaska.edu/SLC/SA/S1A_IW_...            33   \n",
       "1  https://datapool.asf.alaska.edu/SLC/SA/S1A_IW_...            33   \n",
       "2  https://datapool.asf.alaska.edu/SLC/SA/S1A_IW_...            33   \n",
       "3  https://datapool.asf.alaska.edu/SLC/SA/S1A_IW_...            33   \n",
       "4  https://datapool.asf.alaska.edu/SLC/SA/S1A_IW_...            33   \n",
       "\n",
       "  polarization  orbit beam_mode   size_gb  stack_repeat_pass_id  \\\n",
       "0           VV   2730        IW  2.654739                     0   \n",
       "1           VV   2730        IW  2.456603                     0   \n",
       "2           VV   2730        IW  2.372378                     0   \n",
       "3        VV+VH   3080        IW  4.638248                     1   \n",
       "4        VV+VH   3080        IW  4.427715                     1   \n",
       "\n",
       "      repeat_pass_timestamp                                           geometry  \n",
       "0 2014-10-08 00:00:00+00:00  POLYGON ((-73.08009 -54.92540, -71.90183 -56.6...  \n",
       "1 2014-10-08 00:00:00+00:00  POLYGON ((-74.01853 -53.44837, -72.99281 -55.0...  \n",
       "2 2014-10-08 00:00:00+00:00  POLYGON ((-74.87027 -52.01253, -73.94155 -53.5...  \n",
       "3 2014-11-01 00:00:00+00:00  POLYGON ((-73.07960 -54.92487, -71.90139 -56.6...  \n",
       "4 2014-11-01 00:00:00+00:00  POLYGON ((-74.01801 -53.44797, -72.99262 -55.0...  "
      ]
     },
     "execution_count": 35,
     "metadata": {},
     "output_type": "execute_result"
    }
   ],
   "source": [
    "df_stack = get_s1_stack(frames)\n",
    "df_stack.head()"
   ]
  },
  {
   "cell_type": "markdown",
   "id": "a55861ea",
   "metadata": {},
   "source": [
    "# Select N Dates from stack\n",
    "\n",
    "To make sure there is weather model availability, we are going to truncate the stack to dates on or before `2022-03-01`."
   ]
  },
  {
   "cell_type": "code",
   "execution_count": 36,
   "id": "a2e91145",
   "metadata": {
    "ExecuteTime": {
     "end_time": "2023-03-23T18:01:50.765329Z",
     "start_time": "2023-03-23T18:01:50.715931Z"
    }
   },
   "outputs": [
    {
     "data": {
      "text/html": [
       "<div>\n",
       "<style scoped>\n",
       "    .dataframe tbody tr th:only-of-type {\n",
       "        vertical-align: middle;\n",
       "    }\n",
       "\n",
       "    .dataframe tbody tr th {\n",
       "        vertical-align: top;\n",
       "    }\n",
       "\n",
       "    .dataframe thead th {\n",
       "        text-align: right;\n",
       "    }\n",
       "</style>\n",
       "<table border=\"1\" class=\"dataframe\">\n",
       "  <thead>\n",
       "    <tr style=\"text-align: right;\">\n",
       "      <th></th>\n",
       "      <th>slc_id</th>\n",
       "      <th>start_time</th>\n",
       "      <th>stop_time</th>\n",
       "      <th>url</th>\n",
       "      <th>track_number</th>\n",
       "      <th>polarization</th>\n",
       "      <th>orbit</th>\n",
       "      <th>beam_mode</th>\n",
       "      <th>size_gb</th>\n",
       "      <th>stack_repeat_pass_id</th>\n",
       "      <th>repeat_pass_timestamp</th>\n",
       "      <th>geometry</th>\n",
       "    </tr>\n",
       "  </thead>\n",
       "  <tbody>\n",
       "    <tr>\n",
       "      <th>0</th>\n",
       "      <td>S1A_IW_SLC__1SDV_20190503T000248_20190503T0003...</td>\n",
       "      <td>2019-05-03 00:02:48+00:00</td>\n",
       "      <td>2019-05-03 00:03:17+00:00</td>\n",
       "      <td>https://datapool.asf.alaska.edu/SLC/SA/S1A_IW_...</td>\n",
       "      <td>33</td>\n",
       "      <td>VV+VH</td>\n",
       "      <td>27055</td>\n",
       "      <td>IW</td>\n",
       "      <td>4.368307</td>\n",
       "      <td>85</td>\n",
       "      <td>2019-05-03 00:00:00+00:00</td>\n",
       "      <td>POLYGON ((-72.90486 -55.06825, -71.71495 -56.7...</td>\n",
       "    </tr>\n",
       "    <tr>\n",
       "      <th>1</th>\n",
       "      <td>S1A_IW_SLC__1SDV_20190503T000315_20190503T0003...</td>\n",
       "      <td>2019-05-03 00:03:15+00:00</td>\n",
       "      <td>2019-05-03 00:03:43+00:00</td>\n",
       "      <td>https://datapool.asf.alaska.edu/SLC/SA/S1A_IW_...</td>\n",
       "      <td>33</td>\n",
       "      <td>VV+VH</td>\n",
       "      <td>27055</td>\n",
       "      <td>IW</td>\n",
       "      <td>4.314490</td>\n",
       "      <td>85</td>\n",
       "      <td>2019-05-03 00:00:00+00:00</td>\n",
       "      <td>POLYGON ((-73.85322 -53.59253, -72.81804 -55.1...</td>\n",
       "    </tr>\n",
       "    <tr>\n",
       "      <th>2</th>\n",
       "      <td>S1A_IW_SLC__1SDV_20190503T000341_20190503T0003...</td>\n",
       "      <td>2019-05-03 00:03:41+00:00</td>\n",
       "      <td>2019-05-03 00:03:56+00:00</td>\n",
       "      <td>https://datapool.asf.alaska.edu/SLC/SA/S1A_IW_...</td>\n",
       "      <td>33</td>\n",
       "      <td>VV+VH</td>\n",
       "      <td>27055</td>\n",
       "      <td>IW</td>\n",
       "      <td>2.166531</td>\n",
       "      <td>85</td>\n",
       "      <td>2019-05-03 00:00:00+00:00</td>\n",
       "      <td>POLYGON ((-74.30662 -52.84455, -73.77428 -53.7...</td>\n",
       "    </tr>\n",
       "    <tr>\n",
       "      <th>3</th>\n",
       "      <td>S1A_IW_SLC__1SDV_20190819T000254_20190819T0003...</td>\n",
       "      <td>2019-08-19 00:02:54+00:00</td>\n",
       "      <td>2019-08-19 00:03:24+00:00</td>\n",
       "      <td>https://datapool.asf.alaska.edu/SLC/SA/S1A_IW_...</td>\n",
       "      <td>33</td>\n",
       "      <td>VV+VH</td>\n",
       "      <td>28630</td>\n",
       "      <td>IW</td>\n",
       "      <td>4.495625</td>\n",
       "      <td>86</td>\n",
       "      <td>2019-08-19 00:00:00+00:00</td>\n",
       "      <td>POLYGON ((-72.89682 -55.06656, -71.70641 -56.7...</td>\n",
       "    </tr>\n",
       "    <tr>\n",
       "      <th>4</th>\n",
       "      <td>S1A_IW_SLC__1SDV_20190819T000321_20190819T0003...</td>\n",
       "      <td>2019-08-19 00:03:21+00:00</td>\n",
       "      <td>2019-08-19 00:03:49+00:00</td>\n",
       "      <td>https://datapool.asf.alaska.edu/SLC/SA/S1A_IW_...</td>\n",
       "      <td>33</td>\n",
       "      <td>VV+VH</td>\n",
       "      <td>28630</td>\n",
       "      <td>IW</td>\n",
       "      <td>4.268273</td>\n",
       "      <td>86</td>\n",
       "      <td>2019-08-19 00:00:00+00:00</td>\n",
       "      <td>POLYGON ((-73.85300 -53.59287, -72.81783 -55.1...</td>\n",
       "    </tr>\n",
       "  </tbody>\n",
       "</table>\n",
       "</div>"
      ],
      "text/plain": [
       "                                              slc_id  \\\n",
       "0  S1A_IW_SLC__1SDV_20190503T000248_20190503T0003...   \n",
       "1  S1A_IW_SLC__1SDV_20190503T000315_20190503T0003...   \n",
       "2  S1A_IW_SLC__1SDV_20190503T000341_20190503T0003...   \n",
       "3  S1A_IW_SLC__1SDV_20190819T000254_20190819T0003...   \n",
       "4  S1A_IW_SLC__1SDV_20190819T000321_20190819T0003...   \n",
       "\n",
       "                 start_time                 stop_time  \\\n",
       "0 2019-05-03 00:02:48+00:00 2019-05-03 00:03:17+00:00   \n",
       "1 2019-05-03 00:03:15+00:00 2019-05-03 00:03:43+00:00   \n",
       "2 2019-05-03 00:03:41+00:00 2019-05-03 00:03:56+00:00   \n",
       "3 2019-08-19 00:02:54+00:00 2019-08-19 00:03:24+00:00   \n",
       "4 2019-08-19 00:03:21+00:00 2019-08-19 00:03:49+00:00   \n",
       "\n",
       "                                                 url  track_number  \\\n",
       "0  https://datapool.asf.alaska.edu/SLC/SA/S1A_IW_...            33   \n",
       "1  https://datapool.asf.alaska.edu/SLC/SA/S1A_IW_...            33   \n",
       "2  https://datapool.asf.alaska.edu/SLC/SA/S1A_IW_...            33   \n",
       "3  https://datapool.asf.alaska.edu/SLC/SA/S1A_IW_...            33   \n",
       "4  https://datapool.asf.alaska.edu/SLC/SA/S1A_IW_...            33   \n",
       "\n",
       "  polarization  orbit beam_mode   size_gb  stack_repeat_pass_id  \\\n",
       "0        VV+VH  27055        IW  4.368307                    85   \n",
       "1        VV+VH  27055        IW  4.314490                    85   \n",
       "2        VV+VH  27055        IW  2.166531                    85   \n",
       "3        VV+VH  28630        IW  4.495625                    86   \n",
       "4        VV+VH  28630        IW  4.268273                    86   \n",
       "\n",
       "      repeat_pass_timestamp                                           geometry  \n",
       "0 2019-05-03 00:00:00+00:00  POLYGON ((-72.90486 -55.06825, -71.71495 -56.7...  \n",
       "1 2019-05-03 00:00:00+00:00  POLYGON ((-73.85322 -53.59253, -72.81804 -55.1...  \n",
       "2 2019-05-03 00:00:00+00:00  POLYGON ((-74.30662 -52.84455, -73.77428 -53.7...  \n",
       "3 2019-08-19 00:00:00+00:00  POLYGON ((-72.89682 -55.06656, -71.70641 -56.7...  \n",
       "4 2019-08-19 00:00:00+00:00  POLYGON ((-73.85300 -53.59287, -72.81783 -55.1...  "
      ]
     },
     "execution_count": 36,
     "metadata": {},
     "output_type": "execute_result"
    }
   ],
   "source": [
    "if AOI_NAME == 'Tibet':\n",
    "    N = 5\n",
    "else:\n",
    "    N = 3\n",
    "\n",
    "# Give ourselves 1 year buffer\n",
    "MAX_DATE = pd.Timestamp('2022-03-01', tz='UTC')\n",
    "df_stack_f = df_stack[df_stack.repeat_pass_timestamp <= MAX_DATE]\n",
    "\n",
    "dates = sorted(df_stack_f.repeat_pass_timestamp.unique(), reverse=True)\n",
    "df_stack_f = df_stack_f[df_stack_f.repeat_pass_timestamp >= dates[N]].reset_index(drop=True)\n",
    "df_stack_f.head()"
   ]
  },
  {
   "cell_type": "markdown",
   "id": "f658c827",
   "metadata": {},
   "source": [
    "# Generate Pairs"
   ]
  },
  {
   "cell_type": "code",
   "execution_count": 37,
   "id": "02fb0206",
   "metadata": {
    "ExecuteTime": {
     "end_time": "2023-03-23T18:01:51.072638Z",
     "start_time": "2023-03-23T18:01:50.767069Z"
    }
   },
   "outputs": [
    {
     "name": "stderr",
     "output_type": "stream",
     "text": [
      "Date Pairs: 100%|██████████████████████████████████████████████████████████| 5/5 [00:00<00:00, 81.05it/s]\n"
     ]
    }
   ],
   "source": [
    "min_temporal_baseline = 0\n",
    "neighbors = 2\n",
    "\n",
    "data = enumerate_gunw_time_series(df_stack_f, \n",
    "                                  min_temporal_baseline, \n",
    "                                  n_secondary_scenes_per_ref=neighbors,\n",
    "                                  frames=frames \n",
    "                                 )"
   ]
  },
  {
   "cell_type": "code",
   "execution_count": 38,
   "id": "d8e5850f",
   "metadata": {
    "ExecuteTime": {
     "end_time": "2023-03-23T18:01:51.110436Z",
     "start_time": "2023-03-23T18:01:51.074405Z"
    }
   },
   "outputs": [
    {
     "data": {
      "text/plain": [
       "15"
      ]
     },
     "execution_count": 38,
     "metadata": {},
     "output_type": "execute_result"
    }
   ],
   "source": [
    "len(data)"
   ]
  },
  {
   "cell_type": "code",
   "execution_count": 39,
   "id": "8b4ca251",
   "metadata": {
    "ExecuteTime": {
     "end_time": "2023-03-23T18:01:51.149143Z",
     "start_time": "2023-03-23T18:01:51.112262Z"
    }
   },
   "outputs": [
    {
     "data": {
      "text/plain": [
       "{'reference': ['S1A_IW_SLC__1SDV_20220216T000304_20220216T000334_041930_04FE33_8465',\n",
       "  'S1A_IW_SLC__1SDV_20220216T000331_20220216T000359_041930_04FE33_013F'],\n",
       " 'secondary': ['S1A_IW_SLC__1SDV_20220123T000305_20220123T000334_041580_04F21A_19D3',\n",
       "  'S1A_IW_SLC__1SDV_20220123T000332_20220123T000400_041580_04F21A_3B33'],\n",
       " 'reference_date': Timestamp('2022-02-16 00:00:00+0000', tz='UTC'),\n",
       " 'secondary_date': Timestamp('2022-01-23 00:00:00+0000', tz='UTC'),\n",
       " 'frame_id': 5103,\n",
       " 'geometry': <POLYGON Z ((-72.257 -55.983 0, -72.604 -55.481 0, -72.799 -55.194 0, -72.98...>}"
      ]
     },
     "execution_count": 39,
     "metadata": {},
     "output_type": "execute_result"
    }
   ],
   "source": [
    "data[0]"
   ]
  },
  {
   "cell_type": "code",
   "execution_count": 40,
   "id": "88b487cb",
   "metadata": {
    "ExecuteTime": {
     "end_time": "2023-03-23T18:01:51.191044Z",
     "start_time": "2023-03-23T18:01:51.150948Z"
    }
   },
   "outputs": [
    {
     "data": {
      "image/svg+xml": [
       "<svg xmlns=\"http://www.w3.org/2000/svg\" xmlns:xlink=\"http://www.w3.org/1999/xlink\" width=\"100.0\" height=\"100.0\" viewBox=\"-73.18726485387815 -56.2181926761089 5.554299120751452 1.5041235055451665\" preserveAspectRatio=\"xMinYMin meet\"><g transform=\"matrix(1,0,0,-1,0,-110.93226184667263)\"><path fill-rule=\"evenodd\" fill=\"#66cc99\" stroke=\"#555555\" stroke-width=\"0.11108598241502904\" opacity=\"0.6\" d=\"M -72.25699297746961,-55.98340964744709 L -72.604095,-55.481327 L -72.798685,-55.193954 L -72.98155007162809,-54.91978395281379 L -68.73064269564298,-54.91978395281379 L -68.56900732843656,-55.1232904471524 L -68.33487096496293,-55.41385534738023 L -68.333509,-55.413493 L -68.06674966455209,-55.73892250108889 L -67.83868051537675,-56.01247789385884 L -72.23656664215324,-56.01247789385884 L -72.25699297746961,-55.98340964744709 z\" /></g></svg>"
      ],
      "text/plain": [
       "<POLYGON Z ((-72.257 -55.983 0, -72.604 -55.481 0, -72.799 -55.194 0, -72.98...>"
      ]
     },
     "execution_count": 40,
     "metadata": {},
     "output_type": "execute_result"
    }
   ],
   "source": [
    "data[0]['geometry']"
   ]
  },
  {
   "cell_type": "markdown",
   "id": "a69ca534",
   "metadata": {},
   "source": [
    "# Hyp3"
   ]
  },
  {
   "cell_type": "code",
   "execution_count": 44,
   "id": "dcc5809e",
   "metadata": {
    "ExecuteTime": {
     "end_time": "2023-03-23T18:01:51.230956Z",
     "start_time": "2023-03-23T18:01:51.192915Z"
    }
   },
   "outputs": [
    {
     "data": {
      "text/plain": [
       "'JOB_NAME: Chile-South_33_0208'"
      ]
     },
     "execution_count": 44,
     "metadata": {},
     "output_type": "execute_result"
    }
   ],
   "source": [
    "TRACKS = \",\".join([str(t) for t in TRACK_DICT[AOI_NAME]])\n",
    "TODAY = datetime.datetime.now().date().strftime('%m%d')\n",
    "AOI_TOKEN = AOI_NAME.replace(' ', '-')\n",
    "TOKENS = [t for t in [AOI_TOKEN, TRACKS, WEATHER_MODEL, TODAY] if t]\n",
    "JOB_NAME = '_'.join(TOKENS)\n",
    "f'JOB_NAME: {JOB_NAME}'"
   ]
  },
  {
   "cell_type": "code",
   "execution_count": 45,
   "id": "f1cc16df",
   "metadata": {
    "ExecuteTime": {
     "end_time": "2023-03-23T18:01:51.270846Z",
     "start_time": "2023-03-23T18:01:51.232628Z"
    }
   },
   "outputs": [
    {
     "data": {
      "text/plain": [
       "'JOB_NAME character length: 19'"
      ]
     },
     "execution_count": 45,
     "metadata": {},
     "output_type": "execute_result"
    }
   ],
   "source": [
    "f'JOB_NAME character length: {len(JOB_NAME)}'"
   ]
  },
  {
   "cell_type": "code",
   "execution_count": 46,
   "id": "2ce9417f",
   "metadata": {
    "ExecuteTime": {
     "end_time": "2023-03-23T18:01:51.308154Z",
     "start_time": "2023-03-23T18:01:51.272558Z"
    }
   },
   "outputs": [],
   "source": [
    "assert len(JOB_NAME) <= 30"
   ]
  },
  {
   "cell_type": "code",
   "execution_count": 47,
   "id": "7eba165c",
   "metadata": {
    "ExecuteTime": {
     "end_time": "2023-03-23T18:01:51.348200Z",
     "start_time": "2023-03-23T18:01:51.309871Z"
    }
   },
   "outputs": [
    {
     "data": {
      "text/plain": [
       "[{'granules': ['S1A_IW_SLC__1SDV_20220216T000304_20220216T000334_041930_04FE33_8465',\n",
       "   'S1A_IW_SLC__1SDV_20220216T000331_20220216T000359_041930_04FE33_013F'],\n",
       "  'secondary_granules': ['S1A_IW_SLC__1SDV_20220123T000305_20220123T000334_041580_04F21A_19D3',\n",
       "   'S1A_IW_SLC__1SDV_20220123T000332_20220123T000400_041580_04F21A_3B33'],\n",
       "  'frame_id': 5103},\n",
       " {'granules': ['S1A_IW_SLC__1SDV_20220216T000304_20220216T000334_041930_04FE33_8465',\n",
       "   'S1A_IW_SLC__1SDV_20220216T000331_20220216T000359_041930_04FE33_013F'],\n",
       "  'secondary_granules': ['S1A_IW_SLC__1SDV_20220123T000305_20220123T000334_041580_04F21A_19D3',\n",
       "   'S1A_IW_SLC__1SDV_20220123T000332_20220123T000400_041580_04F21A_3B33'],\n",
       "  'frame_id': 5104}]"
      ]
     },
     "execution_count": 47,
     "metadata": {},
     "output_type": "execute_result"
    }
   ],
   "source": [
    "job_parameters =  [{'granules': ifg_data['reference'],\n",
    "                    'secondary_granules': ifg_data['secondary'],\n",
    "                   'weather_model': WEATHER_MODEL,\n",
    "                    'frame_id': ifg_data['frame_id'],\n",
    "                     } for ifg_data in data]\n",
    "[params.pop('weather_model') for params in job_parameters if params['weather_model'] is None]\n",
    "job_parameters[:2]"
   ]
  },
  {
   "cell_type": "code",
   "execution_count": 48,
   "id": "cd79c8c2",
   "metadata": {
    "ExecuteTime": {
     "end_time": "2023-03-23T18:01:51.387917Z",
     "start_time": "2023-03-23T18:01:51.350138Z"
    }
   },
   "outputs": [
    {
     "data": {
      "text/plain": [
       "[{'name': 'Chile-South_33_0208',\n",
       "  'job_type': 'INSAR_ISCE_TEST',\n",
       "  'job_parameters': {'granules': ['S1A_IW_SLC__1SDV_20220216T000304_20220216T000334_041930_04FE33_8465',\n",
       "    'S1A_IW_SLC__1SDV_20220216T000331_20220216T000359_041930_04FE33_013F'],\n",
       "   'secondary_granules': ['S1A_IW_SLC__1SDV_20220123T000305_20220123T000334_041580_04F21A_19D3',\n",
       "    'S1A_IW_SLC__1SDV_20220123T000332_20220123T000400_041580_04F21A_3B33'],\n",
       "   'frame_id': 5103}},\n",
       " {'name': 'Chile-South_33_0208',\n",
       "  'job_type': 'INSAR_ISCE_TEST',\n",
       "  'job_parameters': {'granules': ['S1A_IW_SLC__1SDV_20220216T000304_20220216T000334_041930_04FE33_8465',\n",
       "    'S1A_IW_SLC__1SDV_20220216T000331_20220216T000359_041930_04FE33_013F'],\n",
       "   'secondary_granules': ['S1A_IW_SLC__1SDV_20220123T000305_20220123T000334_041580_04F21A_19D3',\n",
       "    'S1A_IW_SLC__1SDV_20220123T000332_20220123T000400_041580_04F21A_3B33'],\n",
       "   'frame_id': 5104}}]"
      ]
     },
     "execution_count": 48,
     "metadata": {},
     "output_type": "execute_result"
    }
   ],
   "source": [
    "job_dicts = [{'name': JOB_NAME,\n",
    "              # NOTE: we are still using the `dev` branch. Change this to \"INSAR_ISCE\" to use the `main` branch.\n",
    "              'job_type': 'INSAR_ISCE_TEST',\n",
    "              'job_parameters': parameters\n",
    "             }\n",
    "             for parameters in job_parameters]\n",
    "job_dicts[:2]"
   ]
  },
  {
   "cell_type": "code",
   "execution_count": 49,
   "id": "d6b386cd",
   "metadata": {
    "ExecuteTime": {
     "end_time": "2023-03-23T18:01:51.426088Z",
     "start_time": "2023-03-23T18:01:51.389613Z"
    }
   },
   "outputs": [
    {
     "data": {
      "text/plain": [
       "15"
      ]
     },
     "execution_count": 49,
     "metadata": {},
     "output_type": "execute_result"
    }
   ],
   "source": [
    "len(job_dicts)"
   ]
  },
  {
   "cell_type": "markdown",
   "id": "b31993d0",
   "metadata": {},
   "source": [
    "You may want to use `prompt=True` to toggle between Earthdata accounts."
   ]
  },
  {
   "cell_type": "code",
   "execution_count": 50,
   "id": "839b3d9d",
   "metadata": {
    "ExecuteTime": {
     "end_time": "2023-03-23T18:01:54.953277Z",
     "start_time": "2023-03-23T18:01:51.427689Z"
    }
   },
   "outputs": [],
   "source": [
    "import hyp3_sdk\n",
    "\n",
    "# uses .netrc; add `prompt=True` to prompt for credentials; \n",
    "# hyp3_isce = hyp3_sdk.HyP3('https://hyp3-a19-jpl.asf.alaska.edu')\n",
    "hyp3_isce = hyp3_sdk.HyP3('https://hyp3-tibet-jpl.asf.alaska.edu')"
   ]
  },
  {
   "cell_type": "markdown",
   "id": "0730d7d6",
   "metadata": {},
   "source": [
    "Uncomment this to submit jobs:"
   ]
  },
  {
   "cell_type": "code",
   "execution_count": 53,
   "id": "e3e98b8b",
   "metadata": {
    "ExecuteTime": {
     "end_time": "2023-03-23T18:01:54.990262Z",
     "start_time": "2023-03-23T18:01:54.955030Z"
    }
   },
   "outputs": [],
   "source": [
    "#submitted_jobs = hyp3_isce.submit_prepared_jobs(job_dicts[:])"
   ]
  },
  {
   "cell_type": "markdown",
   "id": "70cab955",
   "metadata": {},
   "source": [
    "These are useful snippets to inspect status and view metadata."
   ]
  },
  {
   "cell_type": "code",
   "execution_count": 54,
   "id": "aed6c60d",
   "metadata": {
    "ExecuteTime": {
     "end_time": "2023-03-23T18:01:55.286489Z",
     "start_time": "2023-03-23T18:01:54.992184Z"
    }
   },
   "outputs": [
    {
     "name": "stdout",
     "output_type": "stream",
     "text": [
      "15 HyP3 Jobs: 0 succeeded, 0 failed, 0 running, 15 pending.\n"
     ]
    }
   ],
   "source": [
    "jobs = hyp3_isce.find_jobs(name=JOB_NAME)\n",
    "print(jobs)"
   ]
  },
  {
   "cell_type": "code",
   "execution_count": 28,
   "id": "d6f2698c",
   "metadata": {
    "ExecuteTime": {
     "end_time": "2023-03-23T18:01:55.327608Z",
     "start_time": "2023-03-23T18:01:55.292151Z"
    }
   },
   "outputs": [],
   "source": [
    "# jobs[0].to_dict()"
   ]
  },
  {
   "cell_type": "code",
   "execution_count": 29,
   "id": "45615dbd",
   "metadata": {
    "ExecuteTime": {
     "end_time": "2023-03-23T18:01:55.365039Z",
     "start_time": "2023-03-23T18:01:55.329531Z"
    }
   },
   "outputs": [],
   "source": [
    "# successful_jobs = hyp3_isce.find_jobs(name=JOB_NAME, status_code='SUCCEEDED')\n",
    "# dicts_success = [j.to_dict() for j in successful_jobs]\n",
    "# dicts_success[:]"
   ]
  },
  {
   "cell_type": "code",
   "execution_count": 30,
   "id": "7612e29a",
   "metadata": {
    "ExecuteTime": {
     "end_time": "2023-03-23T18:01:55.401362Z",
     "start_time": "2023-03-23T18:01:55.366624Z"
    },
    "scrolled": true
   },
   "outputs": [],
   "source": [
    "# urls = [d['files'][0]['url'] for d in dicts_success]\n",
    "# urls"
   ]
  },
  {
   "cell_type": "code",
   "execution_count": 31,
   "id": "e1966468",
   "metadata": {
    "ExecuteTime": {
     "end_time": "2023-03-23T18:01:55.437876Z",
     "start_time": "2023-03-23T18:01:55.403049Z"
    }
   },
   "outputs": [],
   "source": [
    "# all_jobs = hyp3_isce.find_jobs(name=JOB_NAME)\n",
    "# dicts_all = [j.to_dict() for j in all_jobs]\n",
    "# dicts_all[:]"
   ]
  },
  {
   "cell_type": "markdown",
   "id": "f71dbc9d",
   "metadata": {},
   "source": [
    "# Failed Jobs and Resubmission"
   ]
  },
  {
   "cell_type": "code",
   "execution_count": 32,
   "id": "0589ccc5",
   "metadata": {
    "ExecuteTime": {
     "end_time": "2023-03-23T18:01:55.578981Z",
     "start_time": "2023-03-23T18:01:55.439731Z"
    }
   },
   "outputs": [
    {
     "data": {
      "text/plain": [
       "[]"
      ]
     },
     "execution_count": 32,
     "metadata": {},
     "output_type": "execute_result"
    }
   ],
   "source": [
    "failed_jobs = hyp3_isce.find_jobs(name=JOB_NAME, status_code='FAILED')\n",
    "dicts_failed = [j.to_dict() for j in failed_jobs]\n",
    "dicts_failed[:]"
   ]
  },
  {
   "cell_type": "code",
   "execution_count": 33,
   "id": "ca5fd081",
   "metadata": {
    "ExecuteTime": {
     "end_time": "2023-03-23T18:01:55.616377Z",
     "start_time": "2023-03-23T18:01:55.580507Z"
    }
   },
   "outputs": [],
   "source": [
    "JOB_NAME_RESUBMIT = JOB_NAME + '_v2'"
   ]
  },
  {
   "cell_type": "code",
   "execution_count": 34,
   "id": "a8cd5d3b",
   "metadata": {
    "ExecuteTime": {
     "end_time": "2023-03-23T18:01:55.655212Z",
     "start_time": "2023-03-23T18:01:55.618067Z"
    }
   },
   "outputs": [
    {
     "data": {
      "text/plain": [
       "[]"
      ]
     },
     "execution_count": 34,
     "metadata": {},
     "output_type": "execute_result"
    }
   ],
   "source": [
    "job_dicts_resubmit = [{'name': JOB_NAME_RESUBMIT,\n",
    "                       # NOTE: we are still using the `dev` branch. Change this to \"INSAR_ISCE\" to use the `main` branch.\n",
    "                       'job_type': 'INSAR_ISCE_TEST',\n",
    "                      'job_parameters': d['job_parameters']\n",
    "                      }\n",
    "                     for d in dicts_failed[:1]]\n",
    "job_dicts_resubmit"
   ]
  },
  {
   "cell_type": "code",
   "execution_count": 35,
   "id": "6d3fbb0f",
   "metadata": {
    "ExecuteTime": {
     "end_time": "2023-03-23T18:01:55.693284Z",
     "start_time": "2023-03-23T18:01:55.656950Z"
    }
   },
   "outputs": [],
   "source": [
    "# submitted_jobs = hyp3_isce.submit_prepared_jobs(job_dicts_resubmit[:])"
   ]
  },
  {
   "cell_type": "code",
   "execution_count": 36,
   "id": "6a15f78c",
   "metadata": {
    "ExecuteTime": {
     "end_time": "2023-03-23T18:01:55.826361Z",
     "start_time": "2023-03-23T18:01:55.694999Z"
    }
   },
   "outputs": [
    {
     "name": "stdout",
     "output_type": "stream",
     "text": [
      "0 HyP3 Jobs: 0 succeeded, 0 failed, 0 running, 0 pending.\n"
     ]
    }
   ],
   "source": [
    "jobs_v2 = hyp3_isce.find_jobs(name=JOB_NAME_RESUBMIT)\n",
    "print(jobs_v2)"
   ]
  }
 ],
 "metadata": {
  "kernelspec": {
   "display_name": "s1-frame-enumerator",
   "language": "python",
   "name": "s1-frame-enumerator"
  },
  "language_info": {
   "codemirror_mode": {
    "name": "ipython",
    "version": 3
   },
   "file_extension": ".py",
   "mimetype": "text/x-python",
   "name": "python",
   "nbconvert_exporter": "python",
   "pygments_lexer": "ipython3",
   "version": "3.12.1"
  }
 },
 "nbformat": 4,
 "nbformat_minor": 5
}
