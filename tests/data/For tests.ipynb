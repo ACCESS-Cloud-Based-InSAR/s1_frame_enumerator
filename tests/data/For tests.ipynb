{
 "cells": [
  {
   "cell_type": "code",
   "execution_count": 1,
   "id": "161942a1",
   "metadata": {
    "ExecuteTime": {
     "end_time": "2023-03-14T18:57:51.361026Z",
     "start_time": "2023-03-14T18:57:51.331628Z"
    }
   },
   "outputs": [],
   "source": [
    "%load_ext autoreload\n",
    "%autoreload 2"
   ]
  },
  {
   "cell_type": "markdown",
   "id": "b27c9f26",
   "metadata": {},
   "source": [
    "# For Stack\n",
    "\n",
    "Generate mock responses"
   ]
  },
  {
   "cell_type": "code",
   "execution_count": 2,
   "id": "a3e5e565",
   "metadata": {
    "ExecuteTime": {
     "end_time": "2023-03-14T18:57:52.911557Z",
     "start_time": "2023-03-14T18:57:51.365144Z"
    }
   },
   "outputs": [],
   "source": [
    "from s1_frame_enumerator import S1Frame, query_slc_metadata_over_frame"
   ]
  },
  {
   "cell_type": "code",
   "execution_count": 3,
   "id": "17ce84ea",
   "metadata": {
    "ExecuteTime": {
     "end_time": "2023-03-14T18:57:52.946549Z",
     "start_time": "2023-03-14T18:57:52.913234Z"
    }
   },
   "outputs": [],
   "source": [
    "from s1_frame_enumerator import S1Frame, query_slc_metadata_over_frame\n",
    "import json"
   ]
  },
  {
   "cell_type": "code",
   "execution_count": 4,
   "id": "435e792a",
   "metadata": {
    "ExecuteTime": {
     "end_time": "2023-03-14T18:57:52.981175Z",
     "start_time": "2023-03-14T18:57:52.948316Z"
    }
   },
   "outputs": [],
   "source": [
    "def generate_mock_data(frame_id):\n",
    "    frame = S1Frame(frame_id)\n",
    "    result = query_slc_metadata_over_frame(frame)\n",
    "    out_path = f'frame_{frame_id}_asf_results.json'\n",
    "    json.dump(result, open(out_path, 'w'))\n",
    "    return out_path"
   ]
  },
  {
   "cell_type": "code",
   "execution_count": 5,
   "id": "7c40cf74",
   "metadata": {
    "ExecuteTime": {
     "end_time": "2023-03-14T19:01:02.640795Z",
     "start_time": "2023-03-14T18:57:52.983823Z"
    }
   },
   "outputs": [
    {
     "data": {
      "text/plain": [
       "'frame_9848_asf_results.json'"
      ]
     },
     "execution_count": 5,
     "metadata": {},
     "output_type": "execute_result"
    }
   ],
   "source": [
    "# generate_mock_data(13403)\n",
    "# generate_mock_data(13404)\n",
    "# generate_mock_data(9847)\n",
    "# generate_mock_data(9848)"
   ]
  },
  {
   "cell_type": "markdown",
   "id": "0633c9e4",
   "metadata": {},
   "source": [
    "# For Enumeration\n",
    "\n",
    "Generate Small Stack"
   ]
  },
  {
   "cell_type": "code",
   "execution_count": 6,
   "id": "5cf1c82e",
   "metadata": {
    "ExecuteTime": {
     "end_time": "2023-03-14T19:01:02.682919Z",
     "start_time": "2023-03-14T19:01:02.644591Z"
    }
   },
   "outputs": [],
   "source": [
    "from shapely.geometry import Point\n",
    "import geopandas as gpd\n",
    "from rasterio.crs import CRS\n",
    "from s1_frame_enumerator import get_overlapping_s1_frames, get_s1_stack\n",
    "import pandas as pd\n",
    "\n",
    "aoi_geo = Point(-120, 35).buffer(.5)\n",
    "df_aoi = gpd.GeoDataFrame(geometry=[aoi_geo], crs=CRS.from_epsg(4326))"
   ]
  },
  {
   "cell_type": "code",
   "execution_count": 7,
   "id": "bc833000",
   "metadata": {
    "ExecuteTime": {
     "end_time": "2023-03-14T19:01:02.731018Z",
     "start_time": "2023-03-14T19:01:02.684487Z"
    }
   },
   "outputs": [
    {
     "data": {
      "text/plain": [
       "2"
      ]
     },
     "execution_count": 7,
     "metadata": {},
     "output_type": "execute_result"
    }
   ],
   "source": [
    "frames = get_overlapping_s1_frames(aoi_geo, track_numbers=[137])\n",
    "len(frames)"
   ]
  },
  {
   "cell_type": "code",
   "execution_count": 8,
   "id": "73264513",
   "metadata": {
    "ExecuteTime": {
     "end_time": "2023-03-14T19:01:02.765380Z",
     "start_time": "2023-03-14T19:01:02.732796Z"
    }
   },
   "outputs": [
    {
     "name": "stdout",
     "output_type": "stream",
     "text": [
      "21248\n",
      "21249\n"
     ]
    }
   ],
   "source": [
    "for frame in frames:\n",
    "    print(frame.frame_id)"
   ]
  },
  {
   "cell_type": "code",
   "execution_count": 10,
   "id": "c6b78ec7",
   "metadata": {
    "ExecuteTime": {
     "end_time": "2023-03-14T19:03:56.848445Z",
     "start_time": "2023-03-14T19:01:38.570871Z"
    }
   },
   "outputs": [
    {
     "name": "stderr",
     "output_type": "stream",
     "text": [
      "Downloading stack from 2 frame geometries: 10\n"
     ]
    },
    {
     "data": {
      "text/html": [
       "<div>\n",
       "<style scoped>\n",
       "    .dataframe tbody tr th:only-of-type {\n",
       "        vertical-align: middle;\n",
       "    }\n",
       "\n",
       "    .dataframe tbody tr th {\n",
       "        vertical-align: top;\n",
       "    }\n",
       "\n",
       "    .dataframe thead th {\n",
       "        text-align: right;\n",
       "    }\n",
       "</style>\n",
       "<table border=\"1\" class=\"dataframe\">\n",
       "  <thead>\n",
       "    <tr style=\"text-align: right;\">\n",
       "      <th></th>\n",
       "      <th>slc_id</th>\n",
       "      <th>start_time</th>\n",
       "      <th>stop_time</th>\n",
       "      <th>url</th>\n",
       "      <th>track_number</th>\n",
       "      <th>polarization</th>\n",
       "      <th>orbit</th>\n",
       "      <th>beam_mode</th>\n",
       "      <th>size_gb</th>\n",
       "      <th>stack_repeat_pass_id</th>\n",
       "      <th>repeat_pass_timestamp</th>\n",
       "      <th>geometry</th>\n",
       "    </tr>\n",
       "  </thead>\n",
       "  <tbody>\n",
       "    <tr>\n",
       "      <th>0</th>\n",
       "      <td>S1A_IW_SLC__1SDV_20150401T015800_20150401T0158...</td>\n",
       "      <td>2015-04-01 01:58:00+00:00</td>\n",
       "      <td>2015-04-01 01:58:30+00:00</td>\n",
       "      <td>https://datapool.asf.alaska.edu/SLC/SA/S1A_IW_...</td>\n",
       "      <td>137</td>\n",
       "      <td>VV+VH</td>\n",
       "      <td>5284</td>\n",
       "      <td>IW</td>\n",
       "      <td>4.907014</td>\n",
       "      <td>3</td>\n",
       "      <td>2015-04-01 00:00:00+00:00</td>\n",
       "      <td>POLYGON ((-121.18324 35.18838, -120.76283 33.3...</td>\n",
       "    </tr>\n",
       "    <tr>\n",
       "      <th>1</th>\n",
       "      <td>S1A_IW_SLC__1SDV_20150401T015828_20150401T0158...</td>\n",
       "      <td>2015-04-01 01:58:28+00:00</td>\n",
       "      <td>2015-04-01 01:58:55+00:00</td>\n",
       "      <td>https://datapool.asf.alaska.edu/SLC/SA/S1A_IW_...</td>\n",
       "      <td>137</td>\n",
       "      <td>VV+VH</td>\n",
       "      <td>5284</td>\n",
       "      <td>IW</td>\n",
       "      <td>4.697075</td>\n",
       "      <td>4</td>\n",
       "      <td>2015-04-01 00:00:00+00:00</td>\n",
       "      <td>POLYGON ((-121.54370 36.73265, -121.14296 35.0...</td>\n",
       "    </tr>\n",
       "    <tr>\n",
       "      <th>2</th>\n",
       "      <td>S1A_IW_SLC__1SSV_20150507T015751_20150507T0158...</td>\n",
       "      <td>2015-05-07 01:57:51+00:00</td>\n",
       "      <td>2015-05-07 01:58:21+00:00</td>\n",
       "      <td>https://datapool.asf.alaska.edu/SLC/SA/S1A_IW_...</td>\n",
       "      <td>137</td>\n",
       "      <td>VV</td>\n",
       "      <td>5809</td>\n",
       "      <td>IW</td>\n",
       "      <td>2.652423</td>\n",
       "      <td>5</td>\n",
       "      <td>2015-05-07 00:00:00+00:00</td>\n",
       "      <td>POLYGON ((-121.02775 34.52478, -120.61049 32.7...</td>\n",
       "    </tr>\n",
       "    <tr>\n",
       "      <th>3</th>\n",
       "      <td>S1A_IW_SLC__1SSV_20150507T015818_20150507T0158...</td>\n",
       "      <td>2015-05-07 01:58:18+00:00</td>\n",
       "      <td>2015-05-07 01:58:45+00:00</td>\n",
       "      <td>https://datapool.asf.alaska.edu/SLC/SA/S1A_IW_...</td>\n",
       "      <td>137</td>\n",
       "      <td>VV</td>\n",
       "      <td>5809</td>\n",
       "      <td>IW</td>\n",
       "      <td>2.437214</td>\n",
       "      <td>5</td>\n",
       "      <td>2015-05-07 00:00:00+00:00</td>\n",
       "      <td>POLYGON ((-121.37492 36.01932, -120.98943 34.3...</td>\n",
       "    </tr>\n",
       "    <tr>\n",
       "      <th>4</th>\n",
       "      <td>S1A_IW_SLC__1SSV_20150507T015843_20150507T0159...</td>\n",
       "      <td>2015-05-07 01:58:43+00:00</td>\n",
       "      <td>2015-05-07 01:59:11+00:00</td>\n",
       "      <td>https://datapool.asf.alaska.edu/SLC/SA/S1A_IW_...</td>\n",
       "      <td>137</td>\n",
       "      <td>VV</td>\n",
       "      <td>5809</td>\n",
       "      <td>IW</td>\n",
       "      <td>2.568650</td>\n",
       "      <td>5</td>\n",
       "      <td>2015-05-07 00:00:00+00:00</td>\n",
       "      <td>POLYGON ((-121.74913 37.56177, -121.34393 35.8...</td>\n",
       "    </tr>\n",
       "  </tbody>\n",
       "</table>\n",
       "</div>"
      ],
      "text/plain": [
       "                                              slc_id  \\\n",
       "0  S1A_IW_SLC__1SDV_20150401T015800_20150401T0158...   \n",
       "1  S1A_IW_SLC__1SDV_20150401T015828_20150401T0158...   \n",
       "2  S1A_IW_SLC__1SSV_20150507T015751_20150507T0158...   \n",
       "3  S1A_IW_SLC__1SSV_20150507T015818_20150507T0158...   \n",
       "4  S1A_IW_SLC__1SSV_20150507T015843_20150507T0159...   \n",
       "\n",
       "                 start_time                 stop_time  \\\n",
       "0 2015-04-01 01:58:00+00:00 2015-04-01 01:58:30+00:00   \n",
       "1 2015-04-01 01:58:28+00:00 2015-04-01 01:58:55+00:00   \n",
       "2 2015-05-07 01:57:51+00:00 2015-05-07 01:58:21+00:00   \n",
       "3 2015-05-07 01:58:18+00:00 2015-05-07 01:58:45+00:00   \n",
       "4 2015-05-07 01:58:43+00:00 2015-05-07 01:59:11+00:00   \n",
       "\n",
       "                                                 url  track_number  \\\n",
       "0  https://datapool.asf.alaska.edu/SLC/SA/S1A_IW_...           137   \n",
       "1  https://datapool.asf.alaska.edu/SLC/SA/S1A_IW_...           137   \n",
       "2  https://datapool.asf.alaska.edu/SLC/SA/S1A_IW_...           137   \n",
       "3  https://datapool.asf.alaska.edu/SLC/SA/S1A_IW_...           137   \n",
       "4  https://datapool.asf.alaska.edu/SLC/SA/S1A_IW_...           137   \n",
       "\n",
       "  polarization  orbit beam_mode   size_gb  stack_repeat_pass_id  \\\n",
       "0        VV+VH   5284        IW  4.907014                     3   \n",
       "1        VV+VH   5284        IW  4.697075                     4   \n",
       "2           VV   5809        IW  2.652423                     5   \n",
       "3           VV   5809        IW  2.437214                     5   \n",
       "4           VV   5809        IW  2.568650                     5   \n",
       "\n",
       "      repeat_pass_timestamp                                           geometry  \n",
       "0 2015-04-01 00:00:00+00:00  POLYGON ((-121.18324 35.18838, -120.76283 33.3...  \n",
       "1 2015-04-01 00:00:00+00:00  POLYGON ((-121.54370 36.73265, -121.14296 35.0...  \n",
       "2 2015-05-07 00:00:00+00:00  POLYGON ((-121.02775 34.52478, -120.61049 32.7...  \n",
       "3 2015-05-07 00:00:00+00:00  POLYGON ((-121.37492 36.01932, -120.98943 34.3...  \n",
       "4 2015-05-07 00:00:00+00:00  POLYGON ((-121.74913 37.56177, -121.34393 35.8...  "
      ]
     },
     "execution_count": 10,
     "metadata": {},
     "output_type": "execute_result"
    }
   ],
   "source": [
    "df_stack = get_s1_stack(frames)\n",
    "df_stack.head()"
   ]
  },
  {
   "cell_type": "code",
   "execution_count": 11,
   "id": "9a1552c0",
   "metadata": {
    "ExecuteTime": {
     "end_time": "2023-03-14T19:03:56.884383Z",
     "start_time": "2023-03-14T19:03:56.850472Z"
    }
   },
   "outputs": [
    {
     "data": {
      "text/plain": [
       "<UTC>"
      ]
     },
     "execution_count": 11,
     "metadata": {},
     "output_type": "execute_result"
    }
   ],
   "source": [
    "df_stack.repeat_pass_timestamp[0].tz"
   ]
  },
  {
   "cell_type": "code",
   "execution_count": 12,
   "id": "9210803c",
   "metadata": {
    "ExecuteTime": {
     "end_time": "2023-03-14T19:03:56.923778Z",
     "start_time": "2023-03-14T19:03:56.886037Z"
    }
   },
   "outputs": [
    {
     "data": {
      "text/plain": [
       "(30, 12)"
      ]
     },
     "execution_count": 12,
     "metadata": {},
     "output_type": "execute_result"
    }
   ],
   "source": [
    "import datetime\n",
    "\n",
    "x = pd.to_datetime(df_stack.repeat_pass_timestamp)\n",
    "cond_0 = x > pd.Timestamp('2022-9-1', tz='UTC')\n",
    "cond_1 = x < pd.Timestamp('2023-1-1', tz='UTC')\n",
    "\n",
    "df_stack_subset = df_stack[cond_0 & cond_1].reset_index(drop=True)\n",
    "df_stack_subset.shape"
   ]
  },
  {
   "cell_type": "code",
   "execution_count": 13,
   "id": "4c0dd148",
   "metadata": {
    "ExecuteTime": {
     "end_time": "2023-03-14T19:03:56.982094Z",
     "start_time": "2023-03-14T19:03:56.925981Z"
    }
   },
   "outputs": [],
   "source": [
    "df_stack_subset.to_file('sample_stack_137.geojson', driver='GeoJSON')"
   ]
  },
  {
   "cell_type": "code",
   "execution_count": 17,
   "id": "a60402c3",
   "metadata": {
    "ExecuteTime": {
     "end_time": "2023-03-14T19:07:32.373845Z",
     "start_time": "2023-03-14T19:07:32.338715Z"
    }
   },
   "outputs": [
    {
     "data": {
      "text/plain": [
       "[Timestamp('2022-09-03 00:00:00+0000', tz='UTC'),\n",
       " Timestamp('2022-09-15 00:00:00+0000', tz='UTC'),\n",
       " Timestamp('2022-09-27 00:00:00+0000', tz='UTC'),\n",
       " Timestamp('2022-10-09 00:00:00+0000', tz='UTC'),\n",
       " Timestamp('2022-10-21 00:00:00+0000', tz='UTC'),\n",
       " Timestamp('2022-11-02 00:00:00+0000', tz='UTC'),\n",
       " Timestamp('2022-11-14 00:00:00+0000', tz='UTC'),\n",
       " Timestamp('2022-11-26 00:00:00+0000', tz='UTC'),\n",
       " Timestamp('2022-12-08 00:00:00+0000', tz='UTC'),\n",
       " Timestamp('2022-12-20 00:00:00+0000', tz='UTC')]"
      ]
     },
     "execution_count": 17,
     "metadata": {},
     "output_type": "execute_result"
    }
   ],
   "source": [
    "dates = df_stack_subset.repeat_pass_timestamp.unique().tolist()\n",
    "dates"
   ]
  },
  {
   "cell_type": "code",
   "execution_count": 15,
   "id": "f4ebffd9",
   "metadata": {
    "ExecuteTime": {
     "end_time": "2023-03-14T19:03:57.062806Z",
     "start_time": "2023-03-14T19:03:57.018739Z"
    }
   },
   "outputs": [
    {
     "data": {
      "text/plain": [
       "{'reference': ['S1A_IW_SLC__1SDV_20221220T015822_20221220T015852_046409_058F3D_D201',\n",
       "  'S1A_IW_SLC__1SDV_20221220T015850_20221220T015918_046409_058F3D_2768',\n",
       "  'S1A_IW_SLC__1SDV_20221220T015916_20221220T015943_046409_058F3D_8C7E'],\n",
       " 'secondary': ['S1A_IW_SLC__1SDV_20221208T015823_20221208T015853_046234_058941_FEE4',\n",
       "  'S1A_IW_SLC__1SDV_20221208T015851_20221208T015919_046234_058941_A19D',\n",
       "  'S1A_IW_SLC__1SDV_20221208T015917_20221208T015944_046234_058941_52CD'],\n",
       " 'reference_date': Timestamp('2022-12-20 00:00:00+0000', tz='UTC'),\n",
       " 'secondary_date': Timestamp('2022-12-08 00:00:00+0000', tz='UTC'),\n",
       " 'frame_id': None,\n",
       " 'geometry': None}"
      ]
     },
     "execution_count": 15,
     "metadata": {},
     "output_type": "execute_result"
    }
   ],
   "source": [
    "from s1_frame_enumerator.ifg_enum import select_ifg_pair_from_stack\n",
    "frames = [S1Frame(21248), S1Frame(21249)]\n",
    "\n",
    "ref_date = pd.Timestamp('2022-12-20', tz='UTC')\n",
    "sec_date = pd.Timestamp('2022-12-8', tz='UTC')\n",
    "\n",
    "select_ifg_pair_from_stack(ref_date, sec_date, df_stack_subset, None)"
   ]
  },
  {
   "cell_type": "code",
   "execution_count": 16,
   "id": "4fe32e64",
   "metadata": {
    "ExecuteTime": {
     "end_time": "2023-03-14T19:03:57.114261Z",
     "start_time": "2023-03-14T19:03:57.064600Z"
    }
   },
   "outputs": [
    {
     "ename": "NameError",
     "evalue": "name 'f' is not defined",
     "output_type": "error",
     "traceback": [
      "\u001b[0;31m---------------------------------------------------------------------------\u001b[0m",
      "\u001b[0;31mNameError\u001b[0m                                 Traceback (most recent call last)",
      "Cell \u001b[0;32mIn[16], line 7\u001b[0m\n\u001b[1;32m      4\u001b[0m ref_date \u001b[38;5;241m=\u001b[39m pd\u001b[38;5;241m.\u001b[39mTimestamp(\u001b[38;5;124m'\u001b[39m\u001b[38;5;124m2022-12-20\u001b[39m\u001b[38;5;124m'\u001b[39m, tz\u001b[38;5;241m=\u001b[39m\u001b[38;5;124m'\u001b[39m\u001b[38;5;124mUTC\u001b[39m\u001b[38;5;124m'\u001b[39m)\n\u001b[1;32m      5\u001b[0m sec_date \u001b[38;5;241m=\u001b[39m pd\u001b[38;5;241m.\u001b[39mTimestamp(\u001b[38;5;124m'\u001b[39m\u001b[38;5;124m2022-12-8\u001b[39m\u001b[38;5;124m'\u001b[39m, tz\u001b[38;5;241m=\u001b[39m\u001b[38;5;124m'\u001b[39m\u001b[38;5;124mUTC\u001b[39m\u001b[38;5;124m'\u001b[39m)\n\u001b[0;32m----> 7\u001b[0m select_ifg_pair_from_stack(ref_date, sec_date, df_stack_subset, \u001b[43mf\u001b[49m)\n",
      "\u001b[0;31mNameError\u001b[0m: name 'f' is not defined"
     ]
    }
   ],
   "source": [
    "from s1_frame_enumerator.ifg_enum import select_ifg_pair_from_stack\n",
    "frames = [S1Frame(21248), S1Frame(21249)]\n",
    "\n",
    "ref_date = pd.Timestamp('2022-12-20', tz='UTC')\n",
    "sec_date = pd.Timestamp('2022-12-8', tz='UTC')\n",
    "\n",
    "select_ifg_pair_from_stack(ref_date, sec_date, df_stack_subset, f)"
   ]
  }
 ],
 "metadata": {
  "kernelspec": {
   "display_name": "s1-frame-enumerator",
   "language": "python",
   "name": "s1-frame-enumerator"
  },
  "language_info": {
   "codemirror_mode": {
    "name": "ipython",
    "version": 3
   },
   "file_extension": ".py",
   "mimetype": "text/x-python",
   "name": "python",
   "nbconvert_exporter": "python",
   "pygments_lexer": "ipython3",
   "version": "3.11.0"
  }
 },
 "nbformat": 4,
 "nbformat_minor": 5
}
