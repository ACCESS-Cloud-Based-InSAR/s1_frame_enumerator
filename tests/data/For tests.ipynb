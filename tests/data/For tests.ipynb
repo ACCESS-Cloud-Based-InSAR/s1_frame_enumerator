{
 "cells": [
  {
   "cell_type": "code",
   "execution_count": 1,
   "id": "161942a1",
   "metadata": {
    "ExecuteTime": {
     "end_time": "2023-03-10T02:20:22.791213Z",
     "start_time": "2023-03-10T02:20:22.763811Z"
    }
   },
   "outputs": [],
   "source": [
    "%load_ext autoreload\n",
    "%autoreload 2"
   ]
  },
  {
   "cell_type": "markdown",
   "id": "b27c9f26",
   "metadata": {},
   "source": [
    "# For Stack\n",
    "\n",
    "Generate mock responses"
   ]
  },
  {
   "cell_type": "code",
   "execution_count": 2,
   "id": "a3e5e565",
   "metadata": {
    "ExecuteTime": {
     "end_time": "2023-03-10T02:20:24.022674Z",
     "start_time": "2023-03-10T02:20:22.793218Z"
    }
   },
   "outputs": [],
   "source": [
    "from s1_frame_enumerator import S1Frame, query_slc_metadata_over_frame"
   ]
  },
  {
   "cell_type": "code",
   "execution_count": 3,
   "id": "17ce84ea",
   "metadata": {
    "ExecuteTime": {
     "end_time": "2023-03-10T02:20:24.065730Z",
     "start_time": "2023-03-10T02:20:24.025055Z"
    }
   },
   "outputs": [],
   "source": [
    "from s1_frame_enumerator import S1Frame, query_slc_metadata_over_frame\n",
    "import json"
   ]
  },
  {
   "cell_type": "code",
   "execution_count": 4,
   "id": "435e792a",
   "metadata": {
    "ExecuteTime": {
     "end_time": "2023-03-10T02:20:24.104113Z",
     "start_time": "2023-03-10T02:20:24.068482Z"
    }
   },
   "outputs": [],
   "source": [
    "def generate_mock_data(frame_id):\n",
    "    frame = S1Frame(frame_id)\n",
    "    result = query_slc_metadata_over_frame(frame)\n",
    "    out_path = f'frame_{frame_id}_asf_results.json'\n",
    "    json.dump(result, open(out_path, 'w'))\n",
    "    return out_path"
   ]
  },
  {
   "cell_type": "code",
   "execution_count": 5,
   "id": "7c40cf74",
   "metadata": {
    "ExecuteTime": {
     "end_time": "2023-03-10T02:21:30.430443Z",
     "start_time": "2023-03-10T02:20:24.107925Z"
    }
   },
   "outputs": [
    {
     "data": {
      "text/plain": [
       "'frame_9848_asf_results.json'"
      ]
     },
     "execution_count": 5,
     "metadata": {},
     "output_type": "execute_result"
    }
   ],
   "source": [
    "#generate_mock_data(21249)\n",
    "#generate_mock_data(22439)\n",
    "generate_mock_data(13403)\n",
    "generate_mock_data(13404)\n",
    "generate_mock_data(9847)\n",
    "generate_mock_data(9848)"
   ]
  },
  {
   "cell_type": "markdown",
   "id": "3eb60d63",
   "metadata": {},
   "source": [
    "# For Enumeration\n",
    "\n",
    "Generate Small Stack"
   ]
  },
  {
   "cell_type": "code",
   "execution_count": 6,
   "id": "840958da",
   "metadata": {
    "ExecuteTime": {
     "end_time": "2023-03-10T02:21:30.469222Z",
     "start_time": "2023-03-10T02:21:30.432244Z"
    }
   },
   "outputs": [],
   "source": [
    "from shapely.geometry import Point\n",
    "import geopandas as gpd\n",
    "from rasterio.crs import CRS\n",
    "from s1_frame_enumerator import get_overlapping_s1_frames, get_s1_stack\n",
    "\n",
    "aoi_geo = Point(-120, 35).buffer(.5)\n",
    "df_aoi = gpd.GeoDataFrame(geometry=[aoi_geo], crs=CRS.from_epsg(4326))"
   ]
  },
  {
   "cell_type": "code",
   "execution_count": 7,
   "id": "76a11f75",
   "metadata": {
    "ExecuteTime": {
     "end_time": "2023-03-10T02:21:30.516587Z",
     "start_time": "2023-03-10T02:21:30.470809Z"
    }
   },
   "outputs": [
    {
     "data": {
      "text/plain": [
       "2"
      ]
     },
     "execution_count": 7,
     "metadata": {},
     "output_type": "execute_result"
    }
   ],
   "source": [
    "frames = get_overlapping_s1_frames(aoi_geo, track_numbers=[137])\n",
    "len(frames)"
   ]
  },
  {
   "cell_type": "code",
   "execution_count": 20,
   "id": "5efb88fb",
   "metadata": {
    "ExecuteTime": {
     "end_time": "2023-03-10T02:28:59.271845Z",
     "start_time": "2023-03-10T02:28:59.233761Z"
    }
   },
   "outputs": [
    {
     "name": "stdout",
     "output_type": "stream",
     "text": [
      "21248\n",
      "21249\n"
     ]
    }
   ],
   "source": [
    "for frame in frames:\n",
    "    print(frame.frame_id)"
   ]
  },
  {
   "cell_type": "code",
   "execution_count": 8,
   "id": "e55fbcec",
   "metadata": {
    "ExecuteTime": {
     "end_time": "2023-03-10T02:21:55.150287Z",
     "start_time": "2023-03-10T02:21:30.518720Z"
    }
   },
   "outputs": [
    {
     "name": "stderr",
     "output_type": "stream",
     "text": [
      "Downloading stack from 2 frame geometries: 10\n"
     ]
    },
    {
     "data": {
      "text/html": [
       "<div>\n",
       "<style scoped>\n",
       "    .dataframe tbody tr th:only-of-type {\n",
       "        vertical-align: middle;\n",
       "    }\n",
       "\n",
       "    .dataframe tbody tr th {\n",
       "        vertical-align: top;\n",
       "    }\n",
       "\n",
       "    .dataframe thead th {\n",
       "        text-align: right;\n",
       "    }\n",
       "</style>\n",
       "<table border=\"1\" class=\"dataframe\">\n",
       "  <thead>\n",
       "    <tr style=\"text-align: right;\">\n",
       "      <th></th>\n",
       "      <th>slc_id</th>\n",
       "      <th>start_time</th>\n",
       "      <th>stop_time</th>\n",
       "      <th>url</th>\n",
       "      <th>track_number</th>\n",
       "      <th>polarization</th>\n",
       "      <th>orbit</th>\n",
       "      <th>beam_mode</th>\n",
       "      <th>size_gb</th>\n",
       "      <th>stack_repeat_pass_id</th>\n",
       "      <th>repeat_pass_date</th>\n",
       "      <th>geometry</th>\n",
       "    </tr>\n",
       "  </thead>\n",
       "  <tbody>\n",
       "    <tr>\n",
       "      <th>0</th>\n",
       "      <td>S1A_IW_SLC__1SDV_20150401T015800_20150401T0158...</td>\n",
       "      <td>2015-04-01 01:58:00+00:00</td>\n",
       "      <td>2015-04-01 01:58:30+00:00</td>\n",
       "      <td>https://datapool.asf.alaska.edu/SLC/SA/S1A_IW_...</td>\n",
       "      <td>137</td>\n",
       "      <td>VV+VH</td>\n",
       "      <td>5284</td>\n",
       "      <td>IW</td>\n",
       "      <td>4.907014</td>\n",
       "      <td>3</td>\n",
       "      <td>2015-04-01</td>\n",
       "      <td>POLYGON ((-121.18324 35.18838, -120.76283 33.3...</td>\n",
       "    </tr>\n",
       "    <tr>\n",
       "      <th>1</th>\n",
       "      <td>S1A_IW_SLC__1SDV_20150401T015828_20150401T0158...</td>\n",
       "      <td>2015-04-01 01:58:28+00:00</td>\n",
       "      <td>2015-04-01 01:58:55+00:00</td>\n",
       "      <td>https://datapool.asf.alaska.edu/SLC/SA/S1A_IW_...</td>\n",
       "      <td>137</td>\n",
       "      <td>VV+VH</td>\n",
       "      <td>5284</td>\n",
       "      <td>IW</td>\n",
       "      <td>4.697075</td>\n",
       "      <td>4</td>\n",
       "      <td>2015-04-01</td>\n",
       "      <td>POLYGON ((-121.54370 36.73265, -121.14296 35.0...</td>\n",
       "    </tr>\n",
       "    <tr>\n",
       "      <th>2</th>\n",
       "      <td>S1A_IW_SLC__1SSV_20150507T015751_20150507T0158...</td>\n",
       "      <td>2015-05-07 01:57:51+00:00</td>\n",
       "      <td>2015-05-07 01:58:21+00:00</td>\n",
       "      <td>https://datapool.asf.alaska.edu/SLC/SA/S1A_IW_...</td>\n",
       "      <td>137</td>\n",
       "      <td>VV</td>\n",
       "      <td>5809</td>\n",
       "      <td>IW</td>\n",
       "      <td>2.652423</td>\n",
       "      <td>5</td>\n",
       "      <td>2015-05-07</td>\n",
       "      <td>POLYGON ((-121.02775 34.52478, -120.61049 32.7...</td>\n",
       "    </tr>\n",
       "    <tr>\n",
       "      <th>3</th>\n",
       "      <td>S1A_IW_SLC__1SSV_20150507T015818_20150507T0158...</td>\n",
       "      <td>2015-05-07 01:58:18+00:00</td>\n",
       "      <td>2015-05-07 01:58:45+00:00</td>\n",
       "      <td>https://datapool.asf.alaska.edu/SLC/SA/S1A_IW_...</td>\n",
       "      <td>137</td>\n",
       "      <td>VV</td>\n",
       "      <td>5809</td>\n",
       "      <td>IW</td>\n",
       "      <td>2.437214</td>\n",
       "      <td>5</td>\n",
       "      <td>2015-05-07</td>\n",
       "      <td>POLYGON ((-121.37492 36.01932, -120.98943 34.3...</td>\n",
       "    </tr>\n",
       "    <tr>\n",
       "      <th>4</th>\n",
       "      <td>S1A_IW_SLC__1SSV_20150507T015843_20150507T0159...</td>\n",
       "      <td>2015-05-07 01:58:43+00:00</td>\n",
       "      <td>2015-05-07 01:59:11+00:00</td>\n",
       "      <td>https://datapool.asf.alaska.edu/SLC/SA/S1A_IW_...</td>\n",
       "      <td>137</td>\n",
       "      <td>VV</td>\n",
       "      <td>5809</td>\n",
       "      <td>IW</td>\n",
       "      <td>2.568650</td>\n",
       "      <td>5</td>\n",
       "      <td>2015-05-07</td>\n",
       "      <td>POLYGON ((-121.74913 37.56177, -121.34393 35.8...</td>\n",
       "    </tr>\n",
       "  </tbody>\n",
       "</table>\n",
       "</div>"
      ],
      "text/plain": [
       "                                              slc_id  \\\n",
       "0  S1A_IW_SLC__1SDV_20150401T015800_20150401T0158...   \n",
       "1  S1A_IW_SLC__1SDV_20150401T015828_20150401T0158...   \n",
       "2  S1A_IW_SLC__1SSV_20150507T015751_20150507T0158...   \n",
       "3  S1A_IW_SLC__1SSV_20150507T015818_20150507T0158...   \n",
       "4  S1A_IW_SLC__1SSV_20150507T015843_20150507T0159...   \n",
       "\n",
       "                 start_time                 stop_time  \\\n",
       "0 2015-04-01 01:58:00+00:00 2015-04-01 01:58:30+00:00   \n",
       "1 2015-04-01 01:58:28+00:00 2015-04-01 01:58:55+00:00   \n",
       "2 2015-05-07 01:57:51+00:00 2015-05-07 01:58:21+00:00   \n",
       "3 2015-05-07 01:58:18+00:00 2015-05-07 01:58:45+00:00   \n",
       "4 2015-05-07 01:58:43+00:00 2015-05-07 01:59:11+00:00   \n",
       "\n",
       "                                                 url  track_number  \\\n",
       "0  https://datapool.asf.alaska.edu/SLC/SA/S1A_IW_...           137   \n",
       "1  https://datapool.asf.alaska.edu/SLC/SA/S1A_IW_...           137   \n",
       "2  https://datapool.asf.alaska.edu/SLC/SA/S1A_IW_...           137   \n",
       "3  https://datapool.asf.alaska.edu/SLC/SA/S1A_IW_...           137   \n",
       "4  https://datapool.asf.alaska.edu/SLC/SA/S1A_IW_...           137   \n",
       "\n",
       "  polarization  orbit beam_mode   size_gb  stack_repeat_pass_id  \\\n",
       "0        VV+VH   5284        IW  4.907014                     3   \n",
       "1        VV+VH   5284        IW  4.697075                     4   \n",
       "2           VV   5809        IW  2.652423                     5   \n",
       "3           VV   5809        IW  2.437214                     5   \n",
       "4           VV   5809        IW  2.568650                     5   \n",
       "\n",
       "  repeat_pass_date                                           geometry  \n",
       "0       2015-04-01  POLYGON ((-121.18324 35.18838, -120.76283 33.3...  \n",
       "1       2015-04-01  POLYGON ((-121.54370 36.73265, -121.14296 35.0...  \n",
       "2       2015-05-07  POLYGON ((-121.02775 34.52478, -120.61049 32.7...  \n",
       "3       2015-05-07  POLYGON ((-121.37492 36.01932, -120.98943 34.3...  \n",
       "4       2015-05-07  POLYGON ((-121.74913 37.56177, -121.34393 35.8...  "
      ]
     },
     "execution_count": 8,
     "metadata": {},
     "output_type": "execute_result"
    }
   ],
   "source": [
    "df_stack = get_s1_stack(frames)\n",
    "df_stack.head()"
   ]
  },
  {
   "cell_type": "code",
   "execution_count": 9,
   "id": "15bf2d74",
   "metadata": {
    "ExecuteTime": {
     "end_time": "2023-03-10T02:21:55.191716Z",
     "start_time": "2023-03-10T02:21:55.153771Z"
    }
   },
   "outputs": [
    {
     "data": {
      "text/plain": [
       "array([datetime.date(2015, 4, 1), datetime.date(2015, 5, 7),\n",
       "       datetime.date(2015, 5, 31), datetime.date(2015, 6, 12),\n",
       "       datetime.date(2015, 6, 24), datetime.date(2015, 7, 18),\n",
       "       datetime.date(2015, 7, 30), datetime.date(2015, 8, 11),\n",
       "       datetime.date(2015, 8, 23), datetime.date(2015, 9, 4),\n",
       "       datetime.date(2015, 9, 16), datetime.date(2015, 9, 28),\n",
       "       datetime.date(2015, 10, 10), datetime.date(2015, 11, 3),\n",
       "       datetime.date(2015, 11, 15), datetime.date(2015, 11, 27),\n",
       "       datetime.date(2015, 12, 21), datetime.date(2016, 1, 14),\n",
       "       datetime.date(2016, 1, 26), datetime.date(2016, 2, 7),\n",
       "       datetime.date(2016, 2, 19), datetime.date(2016, 3, 2),\n",
       "       datetime.date(2016, 3, 14), datetime.date(2016, 3, 26),\n",
       "       datetime.date(2016, 4, 7), datetime.date(2016, 4, 19),\n",
       "       datetime.date(2016, 5, 1), datetime.date(2016, 5, 13),\n",
       "       datetime.date(2016, 5, 25), datetime.date(2016, 6, 6),\n",
       "       datetime.date(2016, 6, 30), datetime.date(2016, 7, 24),\n",
       "       datetime.date(2016, 8, 5), datetime.date(2016, 8, 17),\n",
       "       datetime.date(2016, 8, 29), datetime.date(2016, 9, 10),\n",
       "       datetime.date(2016, 10, 4), datetime.date(2016, 10, 16),\n",
       "       datetime.date(2016, 10, 28), datetime.date(2016, 11, 9),\n",
       "       datetime.date(2016, 12, 3), datetime.date(2016, 12, 15),\n",
       "       datetime.date(2016, 12, 27), datetime.date(2017, 1, 2),\n",
       "       datetime.date(2017, 1, 8), datetime.date(2017, 1, 14),\n",
       "       datetime.date(2017, 1, 20), datetime.date(2017, 1, 26),\n",
       "       datetime.date(2017, 2, 1), datetime.date(2017, 2, 13),\n",
       "       datetime.date(2017, 2, 19), datetime.date(2017, 3, 3),\n",
       "       datetime.date(2017, 3, 15), datetime.date(2017, 3, 27),\n",
       "       datetime.date(2017, 4, 8), datetime.date(2017, 4, 20),\n",
       "       datetime.date(2017, 5, 2), datetime.date(2017, 5, 14),\n",
       "       datetime.date(2017, 5, 26), datetime.date(2017, 6, 7),\n",
       "       datetime.date(2017, 7, 1), datetime.date(2017, 7, 13),\n",
       "       datetime.date(2017, 8, 6), datetime.date(2017, 8, 18),\n",
       "       datetime.date(2017, 8, 30), datetime.date(2017, 9, 11),\n",
       "       datetime.date(2017, 9, 23), datetime.date(2017, 10, 5),\n",
       "       datetime.date(2017, 10, 17), datetime.date(2017, 10, 29),\n",
       "       datetime.date(2017, 11, 10), datetime.date(2017, 11, 22),\n",
       "       datetime.date(2017, 12, 4), datetime.date(2017, 12, 16),\n",
       "       datetime.date(2017, 12, 28), datetime.date(2018, 1, 9),\n",
       "       datetime.date(2018, 1, 21), datetime.date(2018, 2, 26),\n",
       "       datetime.date(2018, 3, 10), datetime.date(2018, 3, 22),\n",
       "       datetime.date(2018, 4, 3), datetime.date(2018, 4, 27),\n",
       "       datetime.date(2018, 5, 21), datetime.date(2018, 6, 2),\n",
       "       datetime.date(2018, 7, 8), datetime.date(2018, 7, 20),\n",
       "       datetime.date(2018, 7, 26), datetime.date(2018, 8, 1),\n",
       "       datetime.date(2018, 8, 7), datetime.date(2018, 8, 13),\n",
       "       datetime.date(2018, 8, 19), datetime.date(2018, 8, 25),\n",
       "       datetime.date(2018, 8, 31), datetime.date(2018, 9, 6),\n",
       "       datetime.date(2018, 9, 12), datetime.date(2018, 9, 18),\n",
       "       datetime.date(2018, 9, 24), datetime.date(2018, 9, 30),\n",
       "       datetime.date(2018, 10, 6), datetime.date(2018, 10, 12),\n",
       "       datetime.date(2018, 10, 18), datetime.date(2018, 10, 24),\n",
       "       datetime.date(2018, 10, 30), datetime.date(2018, 11, 5),\n",
       "       datetime.date(2018, 11, 11), datetime.date(2018, 11, 17),\n",
       "       datetime.date(2018, 11, 23), datetime.date(2018, 11, 29),\n",
       "       datetime.date(2018, 12, 5), datetime.date(2018, 12, 11),\n",
       "       datetime.date(2018, 12, 17), datetime.date(2018, 12, 23),\n",
       "       datetime.date(2019, 1, 4), datetime.date(2019, 1, 10),\n",
       "       datetime.date(2019, 1, 16), datetime.date(2019, 1, 22),\n",
       "       datetime.date(2019, 1, 28), datetime.date(2019, 2, 9),\n",
       "       datetime.date(2019, 2, 21), datetime.date(2019, 2, 27),\n",
       "       datetime.date(2019, 3, 5), datetime.date(2019, 3, 11),\n",
       "       datetime.date(2019, 3, 17), datetime.date(2019, 3, 23),\n",
       "       datetime.date(2019, 3, 29), datetime.date(2019, 4, 4),\n",
       "       datetime.date(2019, 4, 10), datetime.date(2019, 4, 16),\n",
       "       datetime.date(2019, 4, 22), datetime.date(2019, 4, 28),\n",
       "       datetime.date(2019, 5, 4), datetime.date(2019, 5, 10),\n",
       "       datetime.date(2019, 5, 16), datetime.date(2019, 5, 22),\n",
       "       datetime.date(2019, 5, 28), datetime.date(2019, 6, 3),\n",
       "       datetime.date(2019, 6, 9), datetime.date(2019, 6, 15),\n",
       "       datetime.date(2019, 6, 21), datetime.date(2019, 6, 27),\n",
       "       datetime.date(2019, 7, 3), datetime.date(2019, 7, 9),\n",
       "       datetime.date(2019, 7, 15), datetime.date(2019, 7, 21),\n",
       "       datetime.date(2019, 7, 27), datetime.date(2019, 8, 2),\n",
       "       datetime.date(2019, 8, 8), datetime.date(2019, 8, 20),\n",
       "       datetime.date(2019, 8, 26), datetime.date(2019, 9, 1),\n",
       "       datetime.date(2019, 9, 7), datetime.date(2019, 9, 13),\n",
       "       datetime.date(2019, 9, 19), datetime.date(2019, 9, 25),\n",
       "       datetime.date(2019, 10, 1), datetime.date(2019, 10, 7),\n",
       "       datetime.date(2019, 10, 13), datetime.date(2019, 10, 19),\n",
       "       datetime.date(2019, 10, 25), datetime.date(2019, 10, 31),\n",
       "       datetime.date(2019, 11, 6), datetime.date(2019, 11, 12),\n",
       "       datetime.date(2019, 11, 18), datetime.date(2019, 11, 24),\n",
       "       datetime.date(2019, 11, 30), datetime.date(2019, 12, 6),\n",
       "       datetime.date(2019, 12, 12), datetime.date(2019, 12, 18),\n",
       "       datetime.date(2019, 12, 30), datetime.date(2020, 1, 5),\n",
       "       datetime.date(2020, 1, 11), datetime.date(2020, 1, 17),\n",
       "       datetime.date(2020, 1, 23), datetime.date(2020, 1, 29),\n",
       "       datetime.date(2020, 2, 4), datetime.date(2020, 2, 10),\n",
       "       datetime.date(2020, 2, 16), datetime.date(2020, 2, 22),\n",
       "       datetime.date(2020, 2, 28), datetime.date(2020, 3, 5),\n",
       "       datetime.date(2020, 3, 11), datetime.date(2020, 3, 17),\n",
       "       datetime.date(2020, 3, 23), datetime.date(2020, 3, 29),\n",
       "       datetime.date(2020, 4, 4), datetime.date(2020, 4, 10),\n",
       "       datetime.date(2020, 4, 16), datetime.date(2020, 4, 22),\n",
       "       datetime.date(2020, 4, 28), datetime.date(2020, 5, 4),\n",
       "       datetime.date(2020, 5, 10), datetime.date(2020, 5, 16),\n",
       "       datetime.date(2020, 5, 22), datetime.date(2020, 5, 28),\n",
       "       datetime.date(2020, 6, 3), datetime.date(2020, 6, 9),\n",
       "       datetime.date(2020, 6, 15), datetime.date(2020, 6, 21),\n",
       "       datetime.date(2020, 6, 27), datetime.date(2020, 7, 3),\n",
       "       datetime.date(2020, 7, 9), datetime.date(2020, 7, 15),\n",
       "       datetime.date(2020, 7, 21), datetime.date(2020, 7, 27),\n",
       "       datetime.date(2020, 8, 2), datetime.date(2020, 8, 8),\n",
       "       datetime.date(2020, 8, 14), datetime.date(2020, 8, 20),\n",
       "       datetime.date(2020, 8, 26), datetime.date(2020, 9, 1),\n",
       "       datetime.date(2020, 9, 7), datetime.date(2020, 9, 13),\n",
       "       datetime.date(2020, 9, 19), datetime.date(2020, 9, 25),\n",
       "       datetime.date(2020, 10, 1), datetime.date(2020, 10, 7),\n",
       "       datetime.date(2020, 10, 13), datetime.date(2020, 10, 19),\n",
       "       datetime.date(2020, 10, 25), datetime.date(2020, 10, 31),\n",
       "       datetime.date(2020, 11, 6), datetime.date(2020, 11, 12),\n",
       "       datetime.date(2020, 11, 18), datetime.date(2020, 11, 24),\n",
       "       datetime.date(2020, 11, 30), datetime.date(2020, 12, 6),\n",
       "       datetime.date(2020, 12, 12), datetime.date(2020, 12, 18),\n",
       "       datetime.date(2020, 12, 24), datetime.date(2020, 12, 30),\n",
       "       datetime.date(2021, 1, 5), datetime.date(2021, 1, 11),\n",
       "       datetime.date(2021, 1, 17), datetime.date(2021, 1, 23),\n",
       "       datetime.date(2021, 1, 29), datetime.date(2021, 2, 4),\n",
       "       datetime.date(2021, 2, 10), datetime.date(2021, 2, 16),\n",
       "       datetime.date(2021, 2, 22), datetime.date(2021, 2, 28),\n",
       "       datetime.date(2021, 3, 6), datetime.date(2021, 3, 12),\n",
       "       datetime.date(2021, 3, 18), datetime.date(2021, 3, 24),\n",
       "       datetime.date(2021, 3, 30), datetime.date(2021, 4, 5),\n",
       "       datetime.date(2021, 4, 11), datetime.date(2021, 4, 17),\n",
       "       datetime.date(2021, 4, 23), datetime.date(2021, 4, 29),\n",
       "       datetime.date(2021, 5, 5), datetime.date(2021, 5, 11),\n",
       "       datetime.date(2021, 5, 17), datetime.date(2021, 5, 23),\n",
       "       datetime.date(2021, 5, 29), datetime.date(2021, 6, 4),\n",
       "       datetime.date(2021, 6, 10), datetime.date(2021, 6, 16),\n",
       "       datetime.date(2021, 6, 22), datetime.date(2021, 6, 28),\n",
       "       datetime.date(2021, 7, 10), datetime.date(2021, 7, 16),\n",
       "       datetime.date(2021, 7, 22), datetime.date(2021, 7, 28),\n",
       "       datetime.date(2021, 8, 3), datetime.date(2021, 8, 9),\n",
       "       datetime.date(2021, 8, 15), datetime.date(2021, 8, 21),\n",
       "       datetime.date(2021, 8, 27), datetime.date(2021, 9, 2),\n",
       "       datetime.date(2021, 9, 8), datetime.date(2021, 9, 14),\n",
       "       datetime.date(2021, 9, 20), datetime.date(2021, 9, 26),\n",
       "       datetime.date(2021, 10, 2), datetime.date(2021, 10, 8),\n",
       "       datetime.date(2021, 10, 14), datetime.date(2021, 10, 20),\n",
       "       datetime.date(2021, 10, 26), datetime.date(2021, 11, 1),\n",
       "       datetime.date(2021, 11, 7), datetime.date(2021, 11, 13),\n",
       "       datetime.date(2021, 11, 19), datetime.date(2021, 11, 25),\n",
       "       datetime.date(2021, 12, 1), datetime.date(2021, 12, 7),\n",
       "       datetime.date(2021, 12, 13), datetime.date(2021, 12, 19),\n",
       "       datetime.date(2022, 1, 6), datetime.date(2022, 1, 18),\n",
       "       datetime.date(2022, 1, 30), datetime.date(2022, 2, 11),\n",
       "       datetime.date(2022, 2, 23), datetime.date(2022, 3, 7),\n",
       "       datetime.date(2022, 3, 19), datetime.date(2022, 3, 31),\n",
       "       datetime.date(2022, 4, 12), datetime.date(2022, 4, 24),\n",
       "       datetime.date(2022, 5, 6), datetime.date(2022, 5, 18),\n",
       "       datetime.date(2022, 5, 30), datetime.date(2022, 6, 11),\n",
       "       datetime.date(2022, 6, 23), datetime.date(2022, 7, 5),\n",
       "       datetime.date(2022, 7, 17), datetime.date(2022, 7, 29),\n",
       "       datetime.date(2022, 8, 10), datetime.date(2022, 8, 22),\n",
       "       datetime.date(2022, 9, 3), datetime.date(2022, 9, 15),\n",
       "       datetime.date(2022, 9, 27), datetime.date(2022, 10, 9),\n",
       "       datetime.date(2022, 10, 21), datetime.date(2022, 11, 2),\n",
       "       datetime.date(2022, 11, 14), datetime.date(2022, 11, 26),\n",
       "       datetime.date(2022, 12, 8), datetime.date(2022, 12, 20),\n",
       "       datetime.date(2023, 1, 1), datetime.date(2023, 1, 13),\n",
       "       datetime.date(2023, 1, 25), datetime.date(2023, 2, 6),\n",
       "       datetime.date(2023, 2, 18), datetime.date(2023, 3, 2)],\n",
       "      dtype=object)"
      ]
     },
     "execution_count": 9,
     "metadata": {},
     "output_type": "execute_result"
    }
   ],
   "source": [
    "df_stack.repeat_pass_date.unique()"
   ]
  },
  {
   "cell_type": "code",
   "execution_count": 15,
   "id": "20eaa6f8",
   "metadata": {
    "ExecuteTime": {
     "end_time": "2023-03-10T02:25:14.227036Z",
     "start_time": "2023-03-10T02:25:14.187033Z"
    }
   },
   "outputs": [
    {
     "data": {
      "text/plain": [
       "(30, 12)"
      ]
     },
     "execution_count": 15,
     "metadata": {},
     "output_type": "execute_result"
    }
   ],
   "source": [
    "import datetime\n",
    "cond_0 = df_stack.repeat_pass_date > datetime.date(2022, 9, 1)\n",
    "cond_1 = df_stack.repeat_pass_date < datetime.date(2023, 1, 1)\n",
    "\n",
    "df_stack_subset = df_stack[cond_0 & cond_1].reset_index(drop=True)\n",
    "df_stack_subset.shape"
   ]
  },
  {
   "cell_type": "code",
   "execution_count": 18,
   "id": "e055a276",
   "metadata": {
    "ExecuteTime": {
     "end_time": "2023-03-10T02:26:48.453042Z",
     "start_time": "2023-03-10T02:26:48.403601Z"
    }
   },
   "outputs": [],
   "source": [
    "import pandas as pd\n",
    "df_stack_subset.repeat_pass_date = pd.to_datetime(df_stack_subset.repeat_pass_date)\n",
    "df_stack_subset.to_file('sample_stack_137.geojson', driver='GeoJSON')"
   ]
  },
  {
   "cell_type": "code",
   "execution_count": 19,
   "id": "2d69cb04",
   "metadata": {
    "ExecuteTime": {
     "end_time": "2023-03-10T02:26:49.432647Z",
     "start_time": "2023-03-10T02:26:49.395978Z"
    }
   },
   "outputs": [
    {
     "data": {
      "text/plain": [
       "0    2022-09-03\n",
       "1    2022-09-03\n",
       "2    2022-09-03\n",
       "3    2022-09-15\n",
       "4    2022-09-15\n",
       "5    2022-09-15\n",
       "6    2022-09-27\n",
       "7    2022-09-27\n",
       "8    2022-09-27\n",
       "9    2022-10-09\n",
       "10   2022-10-09\n",
       "11   2022-10-09\n",
       "12   2022-10-21\n",
       "13   2022-10-21\n",
       "14   2022-10-21\n",
       "15   2022-11-02\n",
       "16   2022-11-02\n",
       "17   2022-11-02\n",
       "18   2022-11-14\n",
       "19   2022-11-14\n",
       "20   2022-11-14\n",
       "21   2022-11-26\n",
       "22   2022-11-26\n",
       "23   2022-11-26\n",
       "24   2022-12-08\n",
       "25   2022-12-08\n",
       "26   2022-12-08\n",
       "27   2022-12-20\n",
       "28   2022-12-20\n",
       "29   2022-12-20\n",
       "Name: repeat_pass_date, dtype: datetime64[ns]"
      ]
     },
     "execution_count": 19,
     "metadata": {},
     "output_type": "execute_result"
    }
   ],
   "source": [
    "df_stack_subset.repeat_pass_date"
   ]
  },
  {
   "cell_type": "code",
   "execution_count": 33,
   "id": "631d55f9",
   "metadata": {
    "ExecuteTime": {
     "end_time": "2023-03-10T02:40:22.047517Z",
     "start_time": "2023-03-10T02:40:22.001670Z"
    }
   },
   "outputs": [
    {
     "data": {
      "text/plain": [
       "{'reference': ['S1A_IW_SLC__1SDV_20221220T015822_20221220T015852_046409_058F3D_D201',\n",
       "  'S1A_IW_SLC__1SDV_20221220T015850_20221220T015918_046409_058F3D_2768',\n",
       "  'S1A_IW_SLC__1SDV_20221220T015916_20221220T015943_046409_058F3D_8C7E'],\n",
       " 'secondary': ['S1A_IW_SLC__1SDV_20221208T015823_20221208T015853_046234_058941_FEE4',\n",
       "  'S1A_IW_SLC__1SDV_20221208T015851_20221208T015919_046234_058941_A19D',\n",
       "  'S1A_IW_SLC__1SDV_20221208T015917_20221208T015944_046234_058941_52CD'],\n",
       " 'reference_date': datetime.datetime(2022, 12, 20, 0, 0),\n",
       " 'secondary_date': datetime.datetime(2022, 12, 8, 0, 0),\n",
       " 'frame_id': None,\n",
       " 'geometry': None}"
      ]
     },
     "execution_count": 33,
     "metadata": {},
     "output_type": "execute_result"
    }
   ],
   "source": [
    "from s1_frame_enumerator.ifg_enum import select_ifg_pair_from_stack\n",
    "frames = [S1Frame(21248), S1Frame(21249)]\n",
    "\n",
    "ref_date = datetime.datetime(2022, 12, 20)\n",
    "sec_date = datetime.datetime(2022, 12, 8)\n",
    "\n",
    "select_ifg_pair_from_stack(ref_date, sec_date, df_stack_subset, None)"
   ]
  },
  {
   "cell_type": "code",
   "execution_count": 28,
   "id": "bb83b4e3",
   "metadata": {
    "ExecuteTime": {
     "end_time": "2023-03-10T02:36:37.091913Z",
     "start_time": "2023-03-10T02:36:37.052187Z"
    }
   },
   "outputs": [
    {
     "data": {
      "text/plain": [
       "S1Frame(frame_id=21248, track_numbers=[137], frame_geometry=<POLYGON Z ((-120.849 33.739 0, -120.891 33.919 0, -120.926 34.086 0, -121.0...>, use_natural_earth_land_mask=True, coverage_geometry=<POLYGON Z ((-118.285 34.757 0, -118.066 33.652 0, -118.411 33.741 0, -118.5...>)"
      ]
     },
     "execution_count": 28,
     "metadata": {},
     "output_type": "execute_result"
    }
   ],
   "source": [
    "S1Frame(21248)"
   ]
  },
  {
   "cell_type": "code",
   "execution_count": null,
   "id": "10bfb64a",
   "metadata": {},
   "outputs": [],
   "source": []
  }
 ],
 "metadata": {
  "kernelspec": {
   "display_name": "s1-frame-enumerator",
   "language": "python",
   "name": "s1-frame-enumerator"
  },
  "language_info": {
   "codemirror_mode": {
    "name": "ipython",
    "version": 3
   },
   "file_extension": ".py",
   "mimetype": "text/x-python",
   "name": "python",
   "nbconvert_exporter": "python",
   "pygments_lexer": "ipython3",
   "version": "3.11.0"
  }
 },
 "nbformat": 4,
 "nbformat_minor": 5
}
