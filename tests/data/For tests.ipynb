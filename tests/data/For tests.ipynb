{
 "cells": [
  {
   "cell_type": "code",
   "execution_count": 48,
   "id": "161942a1",
   "metadata": {
    "ExecuteTime": {
     "end_time": "2023-03-13T20:32:23.949078Z",
     "start_time": "2023-03-13T20:32:23.910448Z"
    }
   },
   "outputs": [
    {
     "name": "stdout",
     "output_type": "stream",
     "text": [
      "The autoreload extension is already loaded. To reload it, use:\n",
      "  %reload_ext autoreload\n"
     ]
    }
   ],
   "source": [
    "%load_ext autoreload\n",
    "%autoreload 2"
   ]
  },
  {
   "cell_type": "markdown",
   "id": "b27c9f26",
   "metadata": {},
   "source": [
    "# For Stack\n",
    "\n",
    "Generate mock responses"
   ]
  },
  {
   "cell_type": "code",
   "execution_count": 49,
   "id": "a3e5e565",
   "metadata": {
    "ExecuteTime": {
     "end_time": "2023-03-13T20:32:25.223656Z",
     "start_time": "2023-03-13T20:32:25.190536Z"
    }
   },
   "outputs": [],
   "source": [
    "from s1_frame_enumerator import S1Frame, query_slc_metadata_over_frame"
   ]
  },
  {
   "cell_type": "code",
   "execution_count": 50,
   "id": "17ce84ea",
   "metadata": {
    "ExecuteTime": {
     "end_time": "2023-03-13T20:32:25.416833Z",
     "start_time": "2023-03-13T20:32:25.382865Z"
    }
   },
   "outputs": [],
   "source": [
    "from s1_frame_enumerator import S1Frame, query_slc_metadata_over_frame\n",
    "import json"
   ]
  },
  {
   "cell_type": "code",
   "execution_count": 51,
   "id": "435e792a",
   "metadata": {
    "ExecuteTime": {
     "end_time": "2023-03-13T20:32:25.601427Z",
     "start_time": "2023-03-13T20:32:25.566744Z"
    }
   },
   "outputs": [],
   "source": [
    "def generate_mock_data(frame_id):\n",
    "    frame = S1Frame(frame_id)\n",
    "    result = query_slc_metadata_over_frame(frame)\n",
    "    out_path = f'frame_{frame_id}_asf_results.json'\n",
    "    json.dump(result, open(out_path, 'w'))\n",
    "    return out_path"
   ]
  },
  {
   "cell_type": "code",
   "execution_count": 52,
   "id": "7c40cf74",
   "metadata": {
    "ExecuteTime": {
     "end_time": "2023-03-13T20:33:03.547944Z",
     "start_time": "2023-03-13T20:32:25.758646Z"
    }
   },
   "outputs": [
    {
     "data": {
      "text/plain": [
       "'frame_9848_asf_results.json'"
      ]
     },
     "execution_count": 52,
     "metadata": {},
     "output_type": "execute_result"
    }
   ],
   "source": [
    "#generate_mock_data(21249)\n",
    "#generate_mock_data(22439)\n",
    "generate_mock_data(13403)\n",
    "generate_mock_data(13404)\n",
    "generate_mock_data(9847)\n",
    "generate_mock_data(9848)"
   ]
  },
  {
   "cell_type": "markdown",
   "id": "a8a6be16",
   "metadata": {},
   "source": [
    "# For Enumeration\n",
    "\n",
    "Generate Small Stack"
   ]
  },
  {
   "cell_type": "code",
   "execution_count": 53,
   "id": "1f1a0fbb",
   "metadata": {
    "ExecuteTime": {
     "end_time": "2023-03-13T20:33:03.587807Z",
     "start_time": "2023-03-13T20:33:03.549998Z"
    }
   },
   "outputs": [],
   "source": [
    "from shapely.geometry import Point\n",
    "import geopandas as gpd\n",
    "from rasterio.crs import CRS\n",
    "from s1_frame_enumerator import get_overlapping_s1_frames, get_s1_stack\n",
    "import pandas as pd\n",
    "\n",
    "aoi_geo = Point(-120, 35).buffer(.5)\n",
    "df_aoi = gpd.GeoDataFrame(geometry=[aoi_geo], crs=CRS.from_epsg(4326))"
   ]
  },
  {
   "cell_type": "code",
   "execution_count": 54,
   "id": "37f27515",
   "metadata": {
    "ExecuteTime": {
     "end_time": "2023-03-13T20:33:03.629625Z",
     "start_time": "2023-03-13T20:33:03.589413Z"
    }
   },
   "outputs": [
    {
     "data": {
      "text/plain": [
       "2"
      ]
     },
     "execution_count": 54,
     "metadata": {},
     "output_type": "execute_result"
    }
   ],
   "source": [
    "frames = get_overlapping_s1_frames(aoi_geo, track_numbers=[137])\n",
    "len(frames)"
   ]
  },
  {
   "cell_type": "code",
   "execution_count": 55,
   "id": "7f56e10e",
   "metadata": {
    "ExecuteTime": {
     "end_time": "2023-03-13T20:33:03.664933Z",
     "start_time": "2023-03-13T20:33:03.632185Z"
    }
   },
   "outputs": [
    {
     "name": "stdout",
     "output_type": "stream",
     "text": [
      "21248\n",
      "21249\n"
     ]
    }
   ],
   "source": [
    "for frame in frames:\n",
    "    print(frame.frame_id)"
   ]
  },
  {
   "cell_type": "code",
   "execution_count": 61,
   "id": "38119ad4",
   "metadata": {
    "ExecuteTime": {
     "end_time": "2023-03-13T20:35:00.423616Z",
     "start_time": "2023-03-13T20:35:00.388465Z"
    }
   },
   "outputs": [
    {
     "data": {
      "text/plain": [
       "(957, 12)"
      ]
     },
     "execution_count": 61,
     "metadata": {},
     "output_type": "execute_result"
    }
   ],
   "source": [
    "df_stack.shape"
   ]
  },
  {
   "cell_type": "code",
   "execution_count": 73,
   "id": "d4a4db1c",
   "metadata": {
    "ExecuteTime": {
     "end_time": "2023-03-13T20:39:42.029521Z",
     "start_time": "2023-03-13T20:39:12.138270Z"
    }
   },
   "outputs": [
    {
     "name": "stderr",
     "output_type": "stream",
     "text": [
      "Downloading stack from 2 frame geometries: 10\n"
     ]
    },
    {
     "data": {
      "text/html": [
       "<div>\n",
       "<style scoped>\n",
       "    .dataframe tbody tr th:only-of-type {\n",
       "        vertical-align: middle;\n",
       "    }\n",
       "\n",
       "    .dataframe tbody tr th {\n",
       "        vertical-align: top;\n",
       "    }\n",
       "\n",
       "    .dataframe thead th {\n",
       "        text-align: right;\n",
       "    }\n",
       "</style>\n",
       "<table border=\"1\" class=\"dataframe\">\n",
       "  <thead>\n",
       "    <tr style=\"text-align: right;\">\n",
       "      <th></th>\n",
       "      <th>slc_id</th>\n",
       "      <th>start_time</th>\n",
       "      <th>stop_time</th>\n",
       "      <th>url</th>\n",
       "      <th>track_number</th>\n",
       "      <th>polarization</th>\n",
       "      <th>orbit</th>\n",
       "      <th>beam_mode</th>\n",
       "      <th>size_gb</th>\n",
       "      <th>stack_repeat_pass_id</th>\n",
       "      <th>repeat_pass_timestamp</th>\n",
       "      <th>geometry</th>\n",
       "    </tr>\n",
       "  </thead>\n",
       "  <tbody>\n",
       "    <tr>\n",
       "      <th>0</th>\n",
       "      <td>S1A_IW_SLC__1SDV_20150401T015800_20150401T0158...</td>\n",
       "      <td>2015-04-01 01:58:00+00:00</td>\n",
       "      <td>2015-04-01 01:58:30+00:00</td>\n",
       "      <td>https://datapool.asf.alaska.edu/SLC/SA/S1A_IW_...</td>\n",
       "      <td>137</td>\n",
       "      <td>VV+VH</td>\n",
       "      <td>5284</td>\n",
       "      <td>IW</td>\n",
       "      <td>4.907014</td>\n",
       "      <td>3</td>\n",
       "      <td>2015-04-01 00:00:00+00:00</td>\n",
       "      <td>POLYGON ((-121.18324 35.18838, -120.76283 33.3...</td>\n",
       "    </tr>\n",
       "    <tr>\n",
       "      <th>1</th>\n",
       "      <td>S1A_IW_SLC__1SDV_20150401T015828_20150401T0158...</td>\n",
       "      <td>2015-04-01 01:58:28+00:00</td>\n",
       "      <td>2015-04-01 01:58:55+00:00</td>\n",
       "      <td>https://datapool.asf.alaska.edu/SLC/SA/S1A_IW_...</td>\n",
       "      <td>137</td>\n",
       "      <td>VV+VH</td>\n",
       "      <td>5284</td>\n",
       "      <td>IW</td>\n",
       "      <td>4.697075</td>\n",
       "      <td>4</td>\n",
       "      <td>2015-04-01 00:00:00+00:00</td>\n",
       "      <td>POLYGON ((-121.54370 36.73265, -121.14296 35.0...</td>\n",
       "    </tr>\n",
       "    <tr>\n",
       "      <th>2</th>\n",
       "      <td>S1A_IW_SLC__1SSV_20150507T015751_20150507T0158...</td>\n",
       "      <td>2015-05-07 01:57:51+00:00</td>\n",
       "      <td>2015-05-07 01:58:21+00:00</td>\n",
       "      <td>https://datapool.asf.alaska.edu/SLC/SA/S1A_IW_...</td>\n",
       "      <td>137</td>\n",
       "      <td>VV</td>\n",
       "      <td>5809</td>\n",
       "      <td>IW</td>\n",
       "      <td>2.652423</td>\n",
       "      <td>5</td>\n",
       "      <td>2015-05-07 00:00:00+00:00</td>\n",
       "      <td>POLYGON ((-121.02775 34.52478, -120.61049 32.7...</td>\n",
       "    </tr>\n",
       "    <tr>\n",
       "      <th>3</th>\n",
       "      <td>S1A_IW_SLC__1SSV_20150507T015818_20150507T0158...</td>\n",
       "      <td>2015-05-07 01:58:18+00:00</td>\n",
       "      <td>2015-05-07 01:58:45+00:00</td>\n",
       "      <td>https://datapool.asf.alaska.edu/SLC/SA/S1A_IW_...</td>\n",
       "      <td>137</td>\n",
       "      <td>VV</td>\n",
       "      <td>5809</td>\n",
       "      <td>IW</td>\n",
       "      <td>2.437214</td>\n",
       "      <td>5</td>\n",
       "      <td>2015-05-07 00:00:00+00:00</td>\n",
       "      <td>POLYGON ((-121.37492 36.01932, -120.98943 34.3...</td>\n",
       "    </tr>\n",
       "    <tr>\n",
       "      <th>4</th>\n",
       "      <td>S1A_IW_SLC__1SSV_20150507T015843_20150507T0159...</td>\n",
       "      <td>2015-05-07 01:58:43+00:00</td>\n",
       "      <td>2015-05-07 01:59:11+00:00</td>\n",
       "      <td>https://datapool.asf.alaska.edu/SLC/SA/S1A_IW_...</td>\n",
       "      <td>137</td>\n",
       "      <td>VV</td>\n",
       "      <td>5809</td>\n",
       "      <td>IW</td>\n",
       "      <td>2.568650</td>\n",
       "      <td>5</td>\n",
       "      <td>2015-05-07 00:00:00+00:00</td>\n",
       "      <td>POLYGON ((-121.74913 37.56177, -121.34393 35.8...</td>\n",
       "    </tr>\n",
       "  </tbody>\n",
       "</table>\n",
       "</div>"
      ],
      "text/plain": [
       "                                              slc_id  \\\n",
       "0  S1A_IW_SLC__1SDV_20150401T015800_20150401T0158...   \n",
       "1  S1A_IW_SLC__1SDV_20150401T015828_20150401T0158...   \n",
       "2  S1A_IW_SLC__1SSV_20150507T015751_20150507T0158...   \n",
       "3  S1A_IW_SLC__1SSV_20150507T015818_20150507T0158...   \n",
       "4  S1A_IW_SLC__1SSV_20150507T015843_20150507T0159...   \n",
       "\n",
       "                 start_time                 stop_time  \\\n",
       "0 2015-04-01 01:58:00+00:00 2015-04-01 01:58:30+00:00   \n",
       "1 2015-04-01 01:58:28+00:00 2015-04-01 01:58:55+00:00   \n",
       "2 2015-05-07 01:57:51+00:00 2015-05-07 01:58:21+00:00   \n",
       "3 2015-05-07 01:58:18+00:00 2015-05-07 01:58:45+00:00   \n",
       "4 2015-05-07 01:58:43+00:00 2015-05-07 01:59:11+00:00   \n",
       "\n",
       "                                                 url  track_number  \\\n",
       "0  https://datapool.asf.alaska.edu/SLC/SA/S1A_IW_...           137   \n",
       "1  https://datapool.asf.alaska.edu/SLC/SA/S1A_IW_...           137   \n",
       "2  https://datapool.asf.alaska.edu/SLC/SA/S1A_IW_...           137   \n",
       "3  https://datapool.asf.alaska.edu/SLC/SA/S1A_IW_...           137   \n",
       "4  https://datapool.asf.alaska.edu/SLC/SA/S1A_IW_...           137   \n",
       "\n",
       "  polarization  orbit beam_mode   size_gb  stack_repeat_pass_id  \\\n",
       "0        VV+VH   5284        IW  4.907014                     3   \n",
       "1        VV+VH   5284        IW  4.697075                     4   \n",
       "2           VV   5809        IW  2.652423                     5   \n",
       "3           VV   5809        IW  2.437214                     5   \n",
       "4           VV   5809        IW  2.568650                     5   \n",
       "\n",
       "      repeat_pass_timestamp                                           geometry  \n",
       "0 2015-04-01 00:00:00+00:00  POLYGON ((-121.18324 35.18838, -120.76283 33.3...  \n",
       "1 2015-04-01 00:00:00+00:00  POLYGON ((-121.54370 36.73265, -121.14296 35.0...  \n",
       "2 2015-05-07 00:00:00+00:00  POLYGON ((-121.02775 34.52478, -120.61049 32.7...  \n",
       "3 2015-05-07 00:00:00+00:00  POLYGON ((-121.37492 36.01932, -120.98943 34.3...  \n",
       "4 2015-05-07 00:00:00+00:00  POLYGON ((-121.74913 37.56177, -121.34393 35.8...  "
      ]
     },
     "execution_count": 73,
     "metadata": {},
     "output_type": "execute_result"
    }
   ],
   "source": [
    "df_stack = get_s1_stack(frames)\n",
    "df_stack.head()"
   ]
  },
  {
   "cell_type": "code",
   "execution_count": 74,
   "id": "0773ee83",
   "metadata": {
    "ExecuteTime": {
     "end_time": "2023-03-13T20:39:42.067508Z",
     "start_time": "2023-03-13T20:39:42.031435Z"
    }
   },
   "outputs": [
    {
     "data": {
      "text/plain": [
       "<UTC>"
      ]
     },
     "execution_count": 74,
     "metadata": {},
     "output_type": "execute_result"
    }
   ],
   "source": [
    "df_stack.repeat_pass_timestamp[0].tz"
   ]
  },
  {
   "cell_type": "code",
   "execution_count": 75,
   "id": "25fef037",
   "metadata": {
    "ExecuteTime": {
     "end_time": "2023-03-13T20:39:42.110024Z",
     "start_time": "2023-03-13T20:39:42.069338Z"
    }
   },
   "outputs": [
    {
     "data": {
      "text/plain": [
       "(30, 12)"
      ]
     },
     "execution_count": 75,
     "metadata": {},
     "output_type": "execute_result"
    }
   ],
   "source": [
    "import datetime\n",
    "\n",
    "x = pd.to_datetime(df_stack.repeat_pass_timestamp)\n",
    "cond_0 = x > pd.Timestamp('2022-9-1', tz='UTC')\n",
    "cond_1 = x < pd.Timestamp('2023-1-1', tz='UTC')\n",
    "\n",
    "df_stack_subset = df_stack[cond_0 & cond_1].reset_index(drop=True)\n",
    "df_stack_subset.shape"
   ]
  },
  {
   "cell_type": "code",
   "execution_count": 76,
   "id": "dde2c4ed",
   "metadata": {
    "ExecuteTime": {
     "end_time": "2023-03-13T20:39:42.161226Z",
     "start_time": "2023-03-13T20:39:42.112125Z"
    }
   },
   "outputs": [],
   "source": [
    "df_stack_subset.to_file('sample_stack_137.geojson', driver='GeoJSON')"
   ]
  },
  {
   "cell_type": "code",
   "execution_count": 78,
   "id": "96f2cc9c",
   "metadata": {
    "ExecuteTime": {
     "end_time": "2023-03-13T20:40:22.273575Z",
     "start_time": "2023-03-13T20:40:22.225747Z"
    }
   },
   "outputs": [
    {
     "data": {
      "text/plain": [
       "{'reference': ['S1A_IW_SLC__1SDV_20221220T015822_20221220T015852_046409_058F3D_D201',\n",
       "  'S1A_IW_SLC__1SDV_20221220T015850_20221220T015918_046409_058F3D_2768',\n",
       "  'S1A_IW_SLC__1SDV_20221220T015916_20221220T015943_046409_058F3D_8C7E'],\n",
       " 'secondary': ['S1A_IW_SLC__1SDV_20221208T015823_20221208T015853_046234_058941_FEE4',\n",
       "  'S1A_IW_SLC__1SDV_20221208T015851_20221208T015919_046234_058941_A19D',\n",
       "  'S1A_IW_SLC__1SDV_20221208T015917_20221208T015944_046234_058941_52CD'],\n",
       " 'reference_date': Timestamp('2022-12-20 00:00:00+0000', tz='UTC'),\n",
       " 'secondary_date': Timestamp('2022-12-08 00:00:00+0000', tz='UTC'),\n",
       " 'frame_id': None,\n",
       " 'geometry': None}"
      ]
     },
     "execution_count": 78,
     "metadata": {},
     "output_type": "execute_result"
    }
   ],
   "source": [
    "from s1_frame_enumerator.ifg_enum import select_ifg_pair_from_stack\n",
    "frames = [S1Frame(21248), S1Frame(21249)]\n",
    "\n",
    "ref_date = pd.Timestamp('2022-12-20', tz='UTC')\n",
    "sec_date = pd.Timestamp('2022-12-8', tz='UTC')\n",
    "\n",
    "select_ifg_pair_from_stack(ref_date, sec_date, df_stack_subset, None)"
   ]
  },
  {
   "cell_type": "code",
   "execution_count": 79,
   "id": "4313098c",
   "metadata": {
    "ExecuteTime": {
     "end_time": "2023-03-13T20:40:23.686043Z",
     "start_time": "2023-03-13T20:40:23.648993Z"
    }
   },
   "outputs": [],
   "source": [
    "f = S1Frame(21248)"
   ]
  },
  {
   "cell_type": "code",
   "execution_count": 81,
   "id": "9dd91ceb",
   "metadata": {
    "ExecuteTime": {
     "end_time": "2023-03-13T20:41:28.515658Z",
     "start_time": "2023-03-13T20:41:28.472450Z"
    }
   },
   "outputs": [
    {
     "data": {
      "text/plain": [
       "<UTC>"
      ]
     },
     "execution_count": 81,
     "metadata": {},
     "output_type": "execute_result"
    }
   ],
   "source": [
    "ref_date.tz"
   ]
  },
  {
   "cell_type": "code",
   "execution_count": 80,
   "id": "756c3398",
   "metadata": {
    "ExecuteTime": {
     "end_time": "2023-03-13T20:40:29.532956Z",
     "start_time": "2023-03-13T20:40:29.472582Z"
    }
   },
   "outputs": [
    {
     "data": {
      "text/plain": [
       "{'reference': ['S1A_IW_SLC__1SDV_20221220T015822_20221220T015852_046409_058F3D_D201',\n",
       "  'S1A_IW_SLC__1SDV_20221220T015850_20221220T015918_046409_058F3D_2768'],\n",
       " 'secondary': ['S1A_IW_SLC__1SDV_20221208T015823_20221208T015853_046234_058941_FEE4',\n",
       "  'S1A_IW_SLC__1SDV_20221208T015851_20221208T015919_046234_058941_A19D'],\n",
       " 'reference_date': Timestamp('2022-12-20 00:00:00+0000', tz='UTC'),\n",
       " 'secondary_date': Timestamp('2022-12-08 00:00:00+0000', tz='UTC'),\n",
       " 'frame_id': 21248,\n",
       " 'geometry': <POLYGON Z ((-120.849 33.739 0, -120.891 33.919 0, -120.926 34.086 0, -121.0...>}"
      ]
     },
     "execution_count": 80,
     "metadata": {},
     "output_type": "execute_result"
    }
   ],
   "source": [
    "from s1_frame_enumerator.ifg_enum import select_ifg_pair_from_stack\n",
    "frames = [S1Frame(21248), S1Frame(21249)]\n",
    "\n",
    "ref_date = pd.Timestamp('2022-12-20', tz='UTC')\n",
    "sec_date = pd.Timestamp('2022-12-8', tz='UTC')\n",
    "\n",
    "select_ifg_pair_from_stack(ref_date, sec_date, df_stack_subset, f)"
   ]
  }
 ],
 "metadata": {
  "kernelspec": {
   "display_name": "s1-frame-enumerator",
   "language": "python",
   "name": "s1-frame-enumerator"
  },
  "language_info": {
   "codemirror_mode": {
    "name": "ipython",
    "version": 3
   },
   "file_extension": ".py",
   "mimetype": "text/x-python",
   "name": "python",
   "nbconvert_exporter": "python",
   "pygments_lexer": "ipython3",
   "version": "3.11.0"
  }
 },
 "nbformat": 4,
 "nbformat_minor": 5
}
